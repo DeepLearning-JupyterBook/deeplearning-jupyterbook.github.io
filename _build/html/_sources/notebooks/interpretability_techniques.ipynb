{
 "cells": [
  {
   "cell_type": "markdown",
   "id": "ee94ed73-984f-4141-9650-0368065208b5",
   "metadata": {},
   "source": [
    "# 6. Interpretability Techniques\n",
    "\n",
    "There are several techniques that we can exercise to learn about the representation a network has learnt during its training:\n",
    "* [Recording activation maps individual or ensemble of kernels](activation.ipynb)\n",
    "* [Lesioning individual or ensemble of kernels](lesion.ipynb)\n",
    "* [Probing intermediate layers by linear classifiers](linear_classifier_probe.ipynb)"
   ]
  }
 ],
 "metadata": {
  "kernelspec": {
   "display_name": "Python 3 (ipykernel)",
   "language": "python",
   "name": "python3"
  },
  "language_info": {
   "codemirror_mode": {
    "name": "ipython",
    "version": 3
   },
   "file_extension": ".py",
   "mimetype": "text/x-python",
   "name": "python",
   "nbconvert_exporter": "python",
   "pygments_lexer": "ipython3",
   "version": "3.10.6"
  }
 },
 "nbformat": 4,
 "nbformat_minor": 5
}
