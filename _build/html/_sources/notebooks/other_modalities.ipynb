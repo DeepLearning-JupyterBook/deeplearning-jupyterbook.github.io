{
 "cells": [
  {
   "cell_type": "markdown",
   "id": "936b1150-ecb1-49f6-a7c7-783ca75a43ed",
   "metadata": {},
   "source": [
    "# 8. Other Modalities\n",
    "\n",
    "So far we have worked with networks in the vision domain. In this chapter, we will look at a few simple examples from other modalities, such as:\n",
    "* [Audio Classification](audio_classification.ipynb)\n",
    "* [Text Classification](text_classification.ipynb)\n",
    "* [Multimodal Language – Vision Matching](clip.ipynb)"
   ]
  }
 ],
 "metadata": {
  "kernelspec": {
   "display_name": "Python 3 (ipykernel)",
   "language": "python",
   "name": "python3"
  },
  "language_info": {
   "codemirror_mode": {
    "name": "ipython",
    "version": 3
   },
   "file_extension": ".py",
   "mimetype": "text/x-python",
   "name": "python",
   "nbconvert_exporter": "python",
   "pygments_lexer": "ipython3",
   "version": "3.10.6"
  }
 },
 "nbformat": 4,
 "nbformat_minor": 5
}
