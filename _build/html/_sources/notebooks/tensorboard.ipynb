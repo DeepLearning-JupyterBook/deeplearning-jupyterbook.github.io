{
 "cells": [
  {
   "cell_type": "markdown",
   "id": "7d3bd86f-3c35-4f5c-9830-eb0b58081620",
   "metadata": {},
   "source": [
    "# 8.2. TensorBoard"
   ]
  },
  {
   "cell_type": "markdown",
   "id": "e13f7ecb-9d17-48ed-9680-3cda5d55db8b",
   "metadata": {},
   "source": [
    "[TensorBoard](https://www.tensorflow.org/tensorboard/) provides the visualisation and tooling needed for machine learning experimentation:\n",
    "* Tracking and visualising metrics such as loss and accuracy\n",
    "* Visualising the model graph (ops and layers)\n",
    "* Viewing histograms of weights, biases, or other tensors as they change over time\n",
    "* Projecting embeddings to a lower dimensional space\n",
    "* Displaying images, text, and audio data.\n",
    "\n",
    "## Logging\n",
    "\n",
    "In the [csf_main.py](https://github.com/DeepLearning-JupyterBook/deeplearning-jupyterbook.github.io/tree/master/src/deepcsf/csf_main.py) we have used TensorBoard to:\n",
    "* log accuracy and loss values\n",
    "* show batch images\n",
    "\n",
    "The `SummaryWriter` class is your main entry to log data for consumption and visualisation by\n",
    "TensorBoard. So, we import it:\n",
    "\n",
    "    from torch.utils.tensorboard import SummaryWriter\n",
    "\n",
    "At the start, we initialise two instances of `SummaryWriter` for train and testing, each logging in\n",
    "their corresponding directories:\n",
    "\n",
    "    args.tb_writers = dict()\n",
    "    for mode in ['train', 'test']:\n",
    "        args.tb_writers[mode] = SummaryWriter(os.path.join(args.out_dir, mode))\n",
    "\n",
    "We add new accuracy/loss by calling the `add_scalar` function and add new images by calling the \n",
    "`add_image` function.\n",
    "\n",
    "<img src=\"https://pytorch.org/docs/stable/_images/add_scalar.png\"  width=\"400\" height=\"200\">\n",
    "\n",
    "<img src=\"https://pytorch.org/docs/stable/_images/add_image.png\"  width=\"400\" height=\"200\">\n",
    "\n",
    "`SummaryWriter` contains several `add_<SOMETHING>` functions \n",
    "(https://pytorch.org/docs/stable/tensorboard.html), most of them with a similar set of arguments:\n",
    "* tag (data identifier)\n",
    "* value (e.g., a floating number in case of scalar and a tensor in case of image)\n",
    "* step (allowing to browse the same tag at different time steps)\n",
    "\n",
    "At the end of the programme, it's recommended to close the `SummaryWriter` by calling the `close()`\n",
    "function.\n",
    "\n",
    "## Monitoring\n",
    "\n",
    "We can open the TensorBoard in our browser by calling\n",
    "\n",
    "    tensorboard --logdir <LOG_DIR> --port <PORT_NUMBER>\n",
    "\n",
    "In our project, by default, the TensorBoard files are saved at *csf_out/train/* and *csf_out/test/*\n",
    "folder. If we specify the `<LOG_DIR>` as the parent directory (*csf_out/*), TensorBoards in all\n",
    "subdirectories will be also visualised:\n",
    "* This is a very useful tool to compare different conditions (e.g., train/test, \n",
    "different experiments) at the same time.\n",
    "* If there are too many nested TensorBoards, it might become too slow.\n",
    "\n",
    "The value for `<PORT_NUMBER>` is a four-digit number, e.g., 6006.:\n",
    "* If the port number is already occupied by another process, use another number.\n",
    "* You can have several TensorBoards open at different ports.\n",
    "\n",
    "Finally, we can see the TensorBoard in our browser under this URL\n",
    "\n",
    "    http://localhost:<PORT_NUMBER>/"
   ]
  }
 ],
 "metadata": {
  "kernelspec": {
   "display_name": "Python 3 (ipykernel)",
   "language": "python",
   "name": "python3"
  },
  "language_info": {
   "codemirror_mode": {
    "name": "ipython",
    "version": 3
   },
   "file_extension": ".py",
   "mimetype": "text/x-python",
   "name": "python",
   "nbconvert_exporter": "python",
   "pygments_lexer": "ipython3",
   "version": "3.10.12"
  }
 },
 "nbformat": 4,
 "nbformat_minor": 5
}
