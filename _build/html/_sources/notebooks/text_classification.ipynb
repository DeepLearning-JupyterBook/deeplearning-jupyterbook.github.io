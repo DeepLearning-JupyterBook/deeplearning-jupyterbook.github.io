{
 "cells": [
  {
   "cell_type": "markdown",
   "id": "d2c04a70-59ea-4ffc-bcb3-f65c7d74b6f0",
   "metadata": {},
   "source": [
    "# 8.2. Text Classification\n",
    "\n",
    "In this notebook, we will learn how to perform a simple text classification using `torchtext`. This is similar to the image classification problem, in which the network's task is to assign a label to the given image but in text.\n",
    "\n",
    "Text data is more like an audio signal in terms of its dimensionality (i.e., 1D). They are both a sequence of numbers:\n",
    "* In an audio signal the sequence is temporal.\n",
    "* In the  text data the sequence is positional (i.e., the position of words in a sentence).\n"
   ]
  },
  {
   "cell_type": "markdown",
   "id": "eacf2b18-6a17-46ed-b150-57a82284fb48",
   "metadata": {},
   "source": [
    "## 0. Preparation\n",
    "\n",
    "In order to run this notebook, we need to perform some preparations.\n",
    "\n",
    "We use datasets from `torchtext` that require `portalocker` package.\n",
    "In Google Colab you can install it by uncommenting and executing the next \n",
    "code cell."
   ]
  },
  {
   "cell_type": "code",
   "execution_count": 1,
   "id": "bd5667fb-9353-4103-931c-185b212c343c",
   "metadata": {},
   "outputs": [],
   "source": [
    "# !pip install portalocker>=2.0.0"
   ]
  },
  {
   "cell_type": "markdown",
   "id": "9de10b29-e320-421a-bade-35f509cbaa2a",
   "metadata": {},
   "source": [
    "### Packages\n",
    "\n",
    "Let's start with all the necessary packages to implement this tutorial.\n",
    "\n",
    " * [numpy](https://numpy.org/) is the main package for scientific computing with Python. It's often imported with the `np` shortcut.\n",
    " * [termcolor](https://github.com/termcolor/termcolor) is an ANSI colour formatting for output in the terminal.\n",
    " * [matplotlib](https://matplotlib.org/) is a library to plot graphs in Python.\n",
    " * [os](https://docs.python.org/3/library/os.html) provides a portable way of using operating system-dependent functionality, e.g., modifying files/folders.\n",
    " * [torch](https://pytorch.org/docs/stable/index.html) is a deep learning framework that allows us to define networks, handle datasets, optimise a loss function, etc."
   ]
  },
  {
   "cell_type": "code",
   "execution_count": 2,
   "id": "c30f465f-5262-4723-9e99-d5ec7bea8838",
   "metadata": {},
   "outputs": [],
   "source": [
    "import numpy as np\n",
    "import os\n",
    "\n",
    "from matplotlib import pyplot as plt\n",
    "from termcolor import colored\n",
    "\n",
    "import torch\n",
    "import torch.nn as nn\n",
    "import torchtext"
   ]
  },
  {
   "cell_type": "markdown",
   "id": "fb137c37-60ac-42e5-97bf-1c71e561ff79",
   "metadata": {},
   "source": [
    "### Device\n",
    "Choosing CPU or GPU based on the availability of the hardware."
   ]
  },
  {
   "cell_type": "code",
   "execution_count": 3,
   "id": "e6dd5bbf-caa8-4d94-a701-3c09a608a067",
   "metadata": {
    "tags": []
   },
   "outputs": [
    {
     "name": "stdout",
     "output_type": "stream",
     "text": [
      "Selected device: cuda\n"
     ]
    }
   ],
   "source": [
    "device = torch.device('cuda' if torch.cuda.is_available() else 'cpu')\n",
    "print('Selected device:', colored(device, 'red'))"
   ]
  },
  {
   "cell_type": "markdown",
   "id": "c74d72ff-09cf-4442-9bdf-077597d9013d",
   "metadata": {},
   "source": [
    "## 1. Dataset\n",
    "\n",
    "The [torchtext.dataset](https://pytorch.org/text/stable/datasets.html) offers easy access to several text datasets. In this tutorial, we use the [AG’s News Corpus dataset](http://groups.di.unipi.it/~gulli/AG_corpus_of_news_articles.html) that contains 120000 samples for training and 7600 for testing. Each piece of news corresponds to one of the following four categories:\n",
    "1. World\n",
    "2. Sport\n",
    "3. Business\n",
    "4. Sci/Tec\n",
    "\n",
    "To load our dataset:\n",
    "* We use the `torchtext.datasets.AG_NEWS` module.\n",
    "* The first time you execute the next cell, it downloads the dataset and extracts its content in the `./data/` directory.\n",
    "* `torchtext` datasets are implemented in an iterable-style unlike `torchvision`/`torchaudio` which are map-style. So we call the `to_map_style_dataset` to convert the dataset into map-style. This way we can reuse a large part of our training/testing pipeline from image/audio classification notebooks."
   ]
  },
  {
   "cell_type": "code",
   "execution_count": 4,
   "id": "27543fcb-bbbc-4cef-9fe6-e17c1bfc3940",
   "metadata": {},
   "outputs": [],
   "source": [
    "train_db = torchtext.datasets.AG_NEWS(root='./data/', split=\"train\")\n",
    "test_db = torchtext.datasets.AG_NEWS(root='./data/', split=\"test\")\n",
    "\n",
    "train_db = torchtext.data.functional.to_map_style_dataset(train_db)\n",
    "test_db = torchtext.data.functional.to_map_style_dataset(test_db)"
   ]
  },
  {
   "cell_type": "markdown",
   "id": "9c967dc9-c17c-41c5-bc71-b8a0e826757b",
   "metadata": {},
   "source": [
    "We create a `dict` to convert label numbers to human-readable text. Please note that in\n",
    "Python indexing starts from 0 therefore the labels are in the range of 0-3 (the raw data\n",
    "in the downloaded `CSV` files is in the range of 1-4)-"
   ]
  },
  {
   "cell_type": "code",
   "execution_count": 5,
   "id": "fd70fb4c-7cb3-4e0a-999f-a88d0616c697",
   "metadata": {},
   "outputs": [],
   "source": [
    "ag_news_labels = {\n",
    "    0: \"World\", \n",
    "    1: \"Sports\", \n",
    "    2: \"Business\", \n",
    "    3: \"Sci/Tec\"\n",
    "}"
   ]
  },
  {
   "cell_type": "markdown",
   "id": "485784c1-6030-492d-88d5-d78b3d74d589",
   "metadata": {},
   "source": [
    "Let's get one sample from our dataset and print its content:"
   ]
  },
  {
   "cell_type": "code",
   "execution_count": 6,
   "id": "45f7658a-049e-4bf8-9502-82a5a563fbc1",
   "metadata": {},
   "outputs": [
    {
     "name": "stdout",
     "output_type": "stream",
     "text": [
      "3 Business\n",
      "Wall St. Bears Claw Back Into the Black (Reuters) Reuters - Short-sellers, Wall Street's dwindling\\band of ultra-cynics, are seeing green again.\n"
     ]
    }
   ],
   "source": [
    "label_sample, text_sample = train_db.__getitem__(0)\n",
    "print(label_sample, ag_news_labels[label_sample-1])\n",
    "print(text_sample)"
   ]
  },
  {
   "cell_type": "markdown",
   "id": "c68fd39c-2585-41cb-8987-f1d8fdbdbb24",
   "metadata": {},
   "source": [
    "### Preprocessing\n",
    "\n",
    "The news piece in the raw data is in the form of a string. We should process this\n",
    "into an array of numbers before passing it to a network. This consists of the following\n",
    "steps:\n",
    "1. Splitting the text (string sentence) into the smallest units (tokens).\n",
    "2. Creating a dictionary (i.e., look up table) of all words (tokens) in our dataset.\n",
    "3. We convert the raw text into indices of this dictionary."
   ]
  },
  {
   "cell_type": "markdown",
   "id": "a75aec2f-8b2f-4959-a247-da0927f7b59b",
   "metadata": {},
   "source": [
    "### Tokeniser\n",
    "\n",
    "We simply use the `get_tokenizer` function to split the text into the smallest units (tokens).\n",
    "Our dataset is in English therefore we pass the `basic_english` which defines how to tokenise \n",
    "a string (e.g., by words, spaces and punctuations)."
   ]
  },
  {
   "cell_type": "code",
   "execution_count": 7,
   "id": "346e7c9c-fad3-4424-9455-8083cb48a204",
   "metadata": {},
   "outputs": [],
   "source": [
    "tokeniser = torchtext.data.utils.get_tokenizer(\"basic_english\")"
   ]
  },
  {
   "cell_type": "markdown",
   "id": "028a2574-1625-45b9-901a-4a0effc40274",
   "metadata": {},
   "source": [
    "Let's use the tokenise with one sample from our dataset to inspect its output."
   ]
  },
  {
   "cell_type": "code",
   "execution_count": 8,
   "id": "aa9eb714-2cd4-49f3-85e8-c4d30c48e4aa",
   "metadata": {},
   "outputs": [
    {
     "name": "stdout",
     "output_type": "stream",
     "text": [
      "The string consists of 29 tokens:\n",
      "['wall', 'st', '.', 'bears', 'claw', 'back', 'into', 'the', 'black', '(', 'reuters', ')', 'reuters', '-', 'short-sellers', ',', 'wall', 'street', \"'\", 's', 'dwindling\\\\band', 'of', 'ultra-cynics', ',', 'are', 'seeing', 'green', 'again', '.']\n"
     ]
    }
   ],
   "source": [
    "tokned_string = tokeniser(text_sample)\n",
    "print('The string consists of %d tokens:\\n%s' % (len(tokned_string), tokned_string))"
   ]
  },
  {
   "cell_type": "markdown",
   "id": "f6dd20c6-10cb-413a-8cf3-63c98a81bebc",
   "metadata": {},
   "source": [
    "### Vocabulary\n",
    "\n",
    "We use the `torchtext.vocab.build_vocab_from_iterator` to create the dictionary for our dataset:\n",
    "* The first argument is an iterator. We create the `tokens_iter` function which simply iterates over the entire dataset and `yield` the tokenised text.\n",
    "* In the second argument we can pass a list of special characters. In this case, we only pass `\"<unk>\"` (out-of-vocabulary or unknown word).\n",
    "* Finally, by calling the `set_default_index` we specify that if a word (token) in a sentence doesn't exist in the vocabulary, assign it to the `\"<unk>\"` token."
   ]
  },
  {
   "cell_type": "code",
   "execution_count": 9,
   "id": "1a7881a9-2c12-4107-8c86-013e48d8e3b0",
   "metadata": {},
   "outputs": [],
   "source": [
    "def tokens_iter(dataset):\n",
    "    for i in range(dataset.__len__()):\n",
    "        _label, text = dataset.__getitem__(i)\n",
    "        yield tokeniser(text)\n",
    "\n",
    "db_vocab = torchtext.vocab.build_vocab_from_iterator(tokens_iter(train_db), specials=[\"<unk>\"])\n",
    "db_vocab.set_default_index(db_vocab[\"<unk>\"])"
   ]
  },
  {
   "cell_type": "markdown",
   "id": "0909dc9c-26d8-4a01-9244-48b0673bf4eb",
   "metadata": {},
   "source": [
    "Let's have a look at the number of words in our dictrionary."
   ]
  },
  {
   "cell_type": "code",
   "execution_count": 10,
   "id": "d280576d-27b9-4bdc-8e89-af4eadadabf9",
   "metadata": {},
   "outputs": [
    {
     "name": "stdout",
     "output_type": "stream",
     "text": [
      "The number of words in the dictrionary: 95811\n"
     ]
    }
   ],
   "source": [
    "print('The number of words in the dictrionary: %d' % len(db_vocab))"
   ]
  },
  {
   "cell_type": "markdown",
   "id": "5f2278f3-2464-40d6-ba02-c607386302a8",
   "metadata": {},
   "source": [
    "Let's print the first ten words (tokens) in our dataset:"
   ]
  },
  {
   "cell_type": "code",
   "execution_count": 11,
   "id": "55fb2b12-b8f1-4f83-aaaa-3c44c469f900",
   "metadata": {},
   "outputs": [
    {
     "name": "stdout",
     "output_type": "stream",
     "text": [
      "0: <unk>\n",
      "1: .\n",
      "2: the\n",
      "3: ,\n",
      "4: to\n",
      "5: a\n",
      "6: of\n",
      "7: in\n",
      "8: and\n",
      "9: s\n"
     ]
    }
   ],
   "source": [
    "ten_tokens = db_vocab.lookup_tokens(np.arange(10))\n",
    "for tind, token in enumerate(ten_tokens):\n",
    "    print('%d: %s' % (tind, token))"
   ]
  },
  {
   "cell_type": "markdown",
   "id": "02873a60-4c31-41f8-ac95-f8eda2fa36d3",
   "metadata": {},
   "source": [
    "### Raw-text to dictionary-index\n",
    "\n",
    "We create `rawtex2dicind` which is a small anonymous function (`lambda`) that converts the raw-text into dictionary-indices."
   ]
  },
  {
   "cell_type": "code",
   "execution_count": 12,
   "id": "5c0beb4e-ff25-4f0a-abe5-4759b57570ce",
   "metadata": {},
   "outputs": [],
   "source": [
    "rawtex2dicind = lambda x: db_vocab(tokeniser(x))"
   ]
  },
  {
   "cell_type": "markdown",
   "id": "8757dbfb-c8d9-466c-9bc6-2fb556777a14",
   "metadata": {},
   "source": [
    "Let's call the dictrionary with a small sentence to check what is its output."
   ]
  },
  {
   "cell_type": "code",
   "execution_count": 13,
   "id": "05dd5a1f-20aa-47d1-b8a7-bb4ef184058b",
   "metadata": {},
   "outputs": [
    {
     "data": {
      "text/plain": [
       "[52, 21, 5, 0, 1928, 1]"
      ]
     },
     "execution_count": 13,
     "metadata": {},
     "output_type": "execute_result"
    }
   ],
   "source": [
    "rawtex2dicind('This is a jupyter notebook.')"
   ]
  },
  {
   "cell_type": "markdown",
   "id": "b96e6bf6-176a-4cf4-80c8-e645cbd735d2",
   "metadata": {},
   "source": [
    "The output is the index of tokens (words) in our dictionary.\n",
    "We already knew the index of:\n",
    "* \"a\": **5**\n",
    "* \"jupyter\": **0** because it's unknown\n",
    "* \".\": **1**"
   ]
  },
  {
   "cell_type": "markdown",
   "id": "5ecfafb5-9eb6-425e-abee-9267bad5568b",
   "metadata": {},
   "source": [
    "Note, that the dictrionary is case insensitive. There \"a\" and \"A\" result in the same index."
   ]
  },
  {
   "cell_type": "markdown",
   "id": "f684766a-145f-41ef-bc1c-b14e60de7ea2",
   "metadata": {},
   "source": [
    "### Dataloaders\n",
    "\n",
    "The length of sentences differs for each sample. This would cause an issue in creating the batch data (i.e., several texts). To create a `tensor` variable, all elements must have the same size. To overcome this, we pad the texts (i.e., the output of `rawtex2dicind`) with zeros to equalise all audio samples in a batch. This is implemented as follows:\n",
    "* We create \"custom\" batches by passing `collate_fn=collate_fn` to `torch.utils.data.DataLoader` (for more details check its [documentation](https://pytorch.org/docs/stable/data.html#working-with-collate-fn)).\n",
    "* We implement the `collate_fn` that calls the `rawtex2dicind` function.\n",
    "* We pass the texts to  `pad_sequence` which makes them of identical size."
   ]
  },
  {
   "cell_type": "code",
   "execution_count": 14,
   "id": "2f305369-4679-4cea-a27b-fe6ef14d67db",
   "metadata": {},
   "outputs": [],
   "source": [
    "def pad_sequence(batch):\n",
    "    # Make all tensor in a batch the same length by padding with zeros\n",
    "    # for item in batch:\n",
    "    #     print(len(item))\n",
    "    batch = [item.t() for item in batch]\n",
    "    batch = torch.nn.utils.rnn.pad_sequence(batch, batch_first=True, padding_value=0)\n",
    "    # print(batch.shape)\n",
    "    return batch\n",
    "\n",
    "def collate_fn(batch):\n",
    "    texts, targets = [], []\n",
    "    for label_b, text_b in batch:\n",
    "        # we tokenise it, get the vocabulary index and convert it to tensor\n",
    "        texts.append(torch.tensor(rawtex2dicind(text_b), dtype=torch.int64))\n",
    "        targets.append(int(label_b) - 1)  # -1 to bring label to 0 (the raw data start from 1)\n",
    "    texts = pad_sequence(texts)\n",
    "    # print(targets)\n",
    "    targets = torch.tensor(targets)\n",
    "    return texts, targets\n",
    "\n",
    "train_loader = torch.utils.data.DataLoader(\n",
    "    train_db, batch_size=128, shuffle=True, collate_fn=collate_fn\n",
    ")\n",
    "\n",
    "test_loader = torch.utils.data.DataLoader(\n",
    "    test_db, batch_size=32, shuffle=False, collate_fn=collate_fn\n",
    ")"
   ]
  },
  {
   "cell_type": "markdown",
   "id": "ea8a5b91-814c-435d-ac0e-0d90f8078a59",
   "metadata": {},
   "source": [
    "## 2. Network\n",
    "\n",
    "We define our network in the class `TextClassificationNet`. It consists of two layers:\n",
    "* `nn.EmbeddingBag` to compute features. An [EmbedingBag layer](https://pytorch.org/docs/stable/generated/torch.nn.EmbeddingBag.html) computes sums/means of \"bags\" of embeddings, without instantiating the intermediate embeddings. In our example, the number of embeddings\n",
    "is the number of words in our vocabulary. When we pass a text to this layer, it uses the values corresponding\n",
    "to the bags (indices) of those existing within the text.\n",
    "* `nn.Linear`: standard classification layer.\n",
    "\n",
    "Usually, more advanced transforms are applied to the text data, however, this is beyond the scope of this notebook and the text classification we want to solve here."
   ]
  },
  {
   "cell_type": "code",
   "execution_count": 15,
   "id": "ed9283a2-0d87-418e-a933-db63a9474ef0",
   "metadata": {},
   "outputs": [],
   "source": [
    "class TextClassificationNet(nn.Module):\n",
    "    def __init__(self, vocab_size, embed_dim, num_class):\n",
    "        super(TextClassificationNet, self).__init__()\n",
    "        self.embedding = nn.EmbeddingBag(vocab_size, embed_dim, sparse=False)\n",
    "        self.fc = nn.Linear(embed_dim, num_class)\n",
    "\n",
    "    def forward(self, text):\n",
    "        embedded = self.embedding(text)\n",
    "        return self.fc(embedded)"
   ]
  },
  {
   "cell_type": "markdown",
   "id": "c8b0316f-ad34-4d68-a022-5c4a437c7293",
   "metadata": {},
   "source": [
    "Let's make an instance of this model and print it's parameters."
   ]
  },
  {
   "cell_type": "code",
   "execution_count": 16,
   "id": "b2e13732-8387-456f-a397-1a2f396da4af",
   "metadata": {},
   "outputs": [],
   "source": [
    "num_classes = len(set([label for (label, text) in train_db]))\n",
    "vocab_size = len(db_vocab)"
   ]
  },
  {
   "cell_type": "code",
   "execution_count": 17,
   "id": "b43475e9-8f43-4a87-8ccd-d7c5b18c08b0",
   "metadata": {},
   "outputs": [
    {
     "name": "stdout",
     "output_type": "stream",
     "text": [
      "TextClassificationNet(\n",
      "  (embedding): EmbeddingBag(95811, 64, mode='mean')\n",
      "  (fc): Linear(in_features=64, out_features=4, bias=True)\n",
      ")\n",
      "Number of parameters: 6132164\n"
     ]
    }
   ],
   "source": [
    "emb_size = 64\n",
    "model = TextClassificationNet(vocab_size, emb_size, num_classes).to(device)\n",
    "print(model)\n",
    "\n",
    "def count_parameters(model):\n",
    "    return sum(p.numel() for p in model.parameters() if p.requires_grad)\n",
    "\n",
    "num_model_parameters = count_parameters(model)\n",
    "print(\"Number of parameters: %s\" % num_model_parameters)"
   ]
  },
  {
   "cell_type": "markdown",
   "id": "e36a551a-1873-40b6-9745-27e7565441a7",
   "metadata": {},
   "source": [
    "## 3. Train/test routines\n",
    "\n",
    "The following routines are very similar (close to identical) to what we previously\n",
    "saw in the image/audio classification problem we have seen previously."
   ]
  },
  {
   "cell_type": "code",
   "execution_count": 18,
   "id": "59107517-0a69-4231-89a9-62da54877e6f",
   "metadata": {
    "collapsed": false,
    "jupyter": {
     "outputs_hidden": false
    }
   },
   "outputs": [],
   "source": [
    "def epoch_loop(model, dataloader, criterion, optimiser, log_frequency=5000):\n",
    "    # usually the code for train/test has a large overlap.\n",
    "    is_train = False if optimiser is None else True\n",
    "\n",
    "    # model should be in train/eval model accordingly\n",
    "    model.train() if is_train else model.eval()\n",
    "    \n",
    "    accuracies = []\n",
    "    losses = []\n",
    "    with torch.set_grad_enabled(is_train):\n",
    "        for batch_ind, (text, target) in enumerate(dataloader):\n",
    "            text = text.to(device)\n",
    "            target = target.to(device)\n",
    "\n",
    "            output = model(text)\n",
    "            # computing the loss\n",
    "            loss = criterion(output, target)\n",
    "            # torch.nn.utils.clip_grad_norm_(model.parameters(), 0.1)\n",
    "            losses.extend([loss.item() for _ in range(text.size(0))])\n",
    "            # computing the accuracy\n",
    "            acc = (output.argmax(1) == target).sum() / text.size(0)\n",
    "            accuracies.extend([acc.item() for _ in range(text.size(0))])\n",
    "\n",
    "            if batch_ind % log_frequency == 0 and batch_ind > 0:\n",
    "                print(\n",
    "                    '%s batches [%.5d/%.5d] \\tloss=%.4f\\tacc=%0.2f' % (\n",
    "                        'training' if is_train else 'testing', batch_ind,\n",
    "                        len(dataloader), np.mean(losses), np.mean(accuracies)\n",
    "                    )\n",
    "                )\n",
    "\n",
    "            if is_train:\n",
    "                # compute gradient and do SGD step\n",
    "                optimiser.zero_grad()\n",
    "                loss.backward()\n",
    "                optimiser.step()\n",
    "    return accuracies, losses"
   ]
  },
  {
   "cell_type": "markdown",
   "id": "1de56c46-c7b7-49d9-aa7b-68cef33c2734",
   "metadata": {},
   "source": [
    "Finally, we can train and test the network. We will train the network\n",
    "for ten epochs. The network reached close to $80\\%$ accuracy on the test set."
   ]
  },
  {
   "cell_type": "code",
   "execution_count": 19,
   "id": "cd20ea35-a0f7-41df-beba-4951f88de9be",
   "metadata": {},
   "outputs": [
    {
     "name": "stdout",
     "output_type": "stream",
     "text": [
      "Epoch [00]\n",
      "Train     loss=1.3597     acc=0.34    Test     loss=1.3173     acc=0.42\n",
      "Epoch [01]\n",
      "Train     loss=1.3134     acc=0.41    Test     loss=1.2706     acc=0.45\n",
      "Epoch [02]\n",
      "Train     loss=1.2780     acc=0.44    Test     loss=1.2402     acc=0.44\n",
      "Epoch [03]\n",
      "Train     loss=1.2481     acc=0.46    Test     loss=1.2043     acc=0.47\n",
      "Epoch [04]\n",
      "Train     loss=1.2197     acc=0.48    Test     loss=1.1740     acc=0.49\n",
      "Epoch [05]\n",
      "Train     loss=1.1905     acc=0.50    Test     loss=1.1460     acc=0.51\n",
      "Epoch [06]\n",
      "Train     loss=1.1622     acc=0.51    Test     loss=1.1112     acc=0.54\n",
      "Epoch [07]\n",
      "Train     loss=1.1351     acc=0.53    Test     loss=1.0866     acc=0.54\n",
      "Epoch [08]\n",
      "Train     loss=1.1076     acc=0.55    Test     loss=1.0517     acc=0.57\n",
      "Epoch [09]\n",
      "Train     loss=1.0792     acc=0.56    Test     loss=1.0229     acc=0.58\n",
      "Epoch [10]\n",
      "Train     loss=1.0525     acc=0.58    Test     loss=1.0028     acc=0.59\n",
      "Epoch [11]\n",
      "Train     loss=1.0278     acc=0.59    Test     loss=0.9819     acc=0.60\n",
      "Epoch [12]\n",
      "Train     loss=1.0026     acc=0.60    Test     loss=0.9479     acc=0.62\n",
      "Epoch [13]\n",
      "Train     loss=0.9782     acc=0.61    Test     loss=0.9276     acc=0.63\n",
      "Epoch [14]\n",
      "Train     loss=0.9555     acc=0.63    Test     loss=0.9033     acc=0.64\n",
      "Epoch [15]\n",
      "Train     loss=0.9335     acc=0.64    Test     loss=0.8829     acc=0.65\n",
      "Epoch [16]\n",
      "Train     loss=0.9152     acc=0.64    Test     loss=0.8663     acc=0.66\n",
      "Epoch [17]\n",
      "Train     loss=0.8946     acc=0.65    Test     loss=0.8537     acc=0.67\n",
      "Epoch [18]\n",
      "Train     loss=0.8739     acc=0.66    Test     loss=0.8563     acc=0.66\n",
      "Epoch [19]\n",
      "Train     loss=0.8573     acc=0.67    Test     loss=0.8085     acc=0.68\n",
      "Epoch [20]\n",
      "Train     loss=0.8413     acc=0.68    Test     loss=0.7978     acc=0.69\n",
      "Epoch [21]\n",
      "Train     loss=0.8237     acc=0.69    Test     loss=0.7874     acc=0.69\n",
      "Epoch [22]\n",
      "Train     loss=0.8099     acc=0.69    Test     loss=0.7693     acc=0.70\n",
      "Epoch [23]\n",
      "Train     loss=0.7951     acc=0.70    Test     loss=0.7767     acc=0.70\n",
      "Epoch [24]\n",
      "Train     loss=0.7841     acc=0.70    Test     loss=0.7545     acc=0.71\n",
      "Epoch [25]\n",
      "Train     loss=0.7733     acc=0.71    Test     loss=0.7529     acc=0.71\n",
      "Epoch [26]\n",
      "Train     loss=0.7627     acc=0.71    Test     loss=0.7388     acc=0.72\n",
      "Epoch [27]\n",
      "Train     loss=0.7502     acc=0.72    Test     loss=0.7173     acc=0.73\n",
      "Epoch [28]\n",
      "Train     loss=0.7376     acc=0.72    Test     loss=0.7040     acc=0.74\n",
      "Epoch [29]\n",
      "Train     loss=0.7264     acc=0.73    Test     loss=0.7038     acc=0.74\n",
      "Epoch [30]\n",
      "Train     loss=0.7141     acc=0.73    Test     loss=0.6984     acc=0.74\n",
      "Epoch [31]\n",
      "Train     loss=0.7095     acc=0.74    Test     loss=0.6775     acc=0.75\n",
      "Epoch [32]\n",
      "Train     loss=0.6969     acc=0.74    Test     loss=0.6784     acc=0.75\n",
      "Epoch [33]\n",
      "Train     loss=0.6895     acc=0.74    Test     loss=0.6810     acc=0.74\n",
      "Epoch [34]\n",
      "Train     loss=0.6804     acc=0.75    Test     loss=0.6639     acc=0.76\n",
      "Epoch [35]\n",
      "Train     loss=0.6746     acc=0.75    Test     loss=0.6632     acc=0.76\n",
      "Epoch [36]\n",
      "Train     loss=0.6668     acc=0.75    Test     loss=0.6522     acc=0.76\n",
      "Epoch [37]\n",
      "Train     loss=0.6617     acc=0.76    Test     loss=0.6358     acc=0.77\n",
      "Epoch [38]\n",
      "Train     loss=0.6510     acc=0.76    Test     loss=0.6720     acc=0.76\n",
      "Epoch [39]\n",
      "Train     loss=0.6456     acc=0.76    Test     loss=0.6400     acc=0.77\n"
     ]
    }
   ],
   "source": [
    "# Hyperparameters\n",
    "initial_epoch = 0\n",
    "epochs = 40\n",
    "lr = 0.1\n",
    "\n",
    "model = TextClassificationNet(vocab_size, emb_size, num_classes).to(device)\n",
    "\n",
    "criterion = torch.nn.CrossEntropyLoss().to(device)\n",
    "optimiser = torch.optim.SGD(model.parameters(), lr=lr)\n",
    "\n",
    "train_logs = {'acc': [], 'loss': []}\n",
    "val_logs = {'acc': [], 'loss': []}\n",
    "for epoch in range(initial_epoch, epochs):\n",
    "    print('Epoch [%.2d]' % epoch)\n",
    "    train_log = epoch_loop(model, train_loader, criterion, optimiser)\n",
    "    \n",
    "    val_log = epoch_loop(model, test_loader, criterion, None)\n",
    "    \n",
    "    print('Train     loss=%.4f     acc=%0.2f    Test     loss=%.4f     acc=%0.2f' % \n",
    "          (\n",
    "              np.mean(train_log[1]), np.mean(train_log[0]),\n",
    "              np.mean(val_log[1]), np.mean(val_log[0])\n",
    "          ))\n",
    "    train_logs['acc'].append(np.mean(train_log[0]))\n",
    "    train_logs['loss'].append(np.mean(train_log[1]))\n",
    "    val_logs['acc'].append(np.mean(val_log[0]))\n",
    "    val_logs['loss'].append(np.mean(val_log[1]))"
   ]
  },
  {
   "cell_type": "markdown",
   "id": "bc98faed-9336-4056-9f9b-2e57b9ad2cf3",
   "metadata": {},
   "source": [
    "### Training progress\n",
    "\n",
    "Let's plot the evolution of loss and accuracy for both train and test sets."
   ]
  },
  {
   "cell_type": "code",
   "execution_count": 20,
   "id": "0c9b6735-3d02-4361-ad93-1821d57fde74",
   "metadata": {},
   "outputs": [
    {
     "data": {
      "image/png": "[encoded data removed]",
      "text/plain": [
       "<Figure size 1080x288 with 2 Axes>"
      ]
     },
     "metadata": {
      "needs_background": "light"
     },
     "output_type": "display_data"
    }
   ],
   "source": [
    "fig = plt.figure(figsize=(15, 4))\n",
    "fig.suptitle('Text classification')\n",
    "# accuraccy\n",
    "ax = fig.add_subplot(1, 2, 1)\n",
    "ax.plot(np.array(train_logs['acc']), '-x', label=\"Train\")\n",
    "ax.plot(np.array(val_logs['acc']), '-x', label=\"Test\")\n",
    "ax.set_xlabel(\"Epochs\")\n",
    "ax.set_ylabel(\"Accuracy\")\n",
    "ax.legend()\n",
    "# loss\n",
    "ax = fig.add_subplot(1, 2, 2)\n",
    "ax.plot(np.array(train_logs['loss']), '-x', label=\"Train\")\n",
    "ax.plot(np.array(val_logs['loss']), '-x', label=\"Test\")\n",
    "ax.set_xlabel(\"Epochs\")\n",
    "ax.set_ylabel(\"Loss\")\n",
    "ax.legend()\n",
    "plt.show()"
   ]
  },
  {
   "cell_type": "markdown",
   "id": "dd0240b1-3893-4c48-82a3-d090c3fd1f37",
   "metadata": {},
   "source": [
    "### Prediction\n",
    "\n",
    "Let's try our network with some news copy-pasted from Deutsche Welle."
   ]
  },
  {
   "cell_type": "code",
   "execution_count": 21,
   "id": "c8be74ce-0bb8-4481-a29a-50a6f40d79d5",
   "metadata": {},
   "outputs": [],
   "source": [
    "def predict(text):\n",
    "    with torch.no_grad():\n",
    "        text = torch.tensor(db_vocab(tokeniser(text)))\n",
    "        output = model(text.unsqueeze(dim=0).to(device))\n",
    "        return output.argmax(dim=1).item()"
   ]
  },
  {
   "cell_type": "code",
   "execution_count": 25,
   "id": "6769aadf-5bb7-4fe7-83ba-29d9b811ffaa",
   "metadata": {
    "collapsed": false,
    "jupyter": {
     "outputs_hidden": false
    }
   },
   "outputs": [
    {
     "name": "stdout",
     "output_type": "stream",
     "text": [
      "This is a Sports news\n",
      "This is a Business news\n"
     ]
    }
   ],
   "source": [
    "ex_text_str = \"Magnus Carlsen is now an ex-world champion after the Norwegian, 32, \\\n",
    "    abdicated the crown he had held with distinction for a decade. This week and next \\\n",
    "    the legend takes on the pair who met for his vacated title, in a new concept for \\\n",
    "    chess. The Tech Mahindra Global League (GCL) has six grandmaster teams, chosen by \\\n",
    "    franchise auction, competing in Dubai from June 21 to July 2.\"\n",
    "\n",
    "print(\"This is a %s news\" % ag_news_labels[predict(ex_text_str)])\n",
    "\n",
    "ex_text_str = \"The worldwide spice trade has a volume of some 130 billion dollars. \\\n",
    "    Demand for ever more exotic spices is rising. Estimates suggest that the spice \\\n",
    "    industry will grow by 37 percent this year over last year. We visit a spice \\\n",
    "    trader in Hamburg.\"\n",
    "\n",
    "print(\"This is a %s news\" % ag_news_labels[predict(ex_text_str)])"
   ]
  },
  {
   "cell_type": "markdown",
   "id": "46d66219-615f-4a80-ac49-46b494908bf0",
   "metadata": {},
   "source": [
    "## Excercises\n",
    "\n",
    "Below is a list of exercises to practice what we have learnt in this notebook:\n",
    "1. Visualise or print the values of the `EmbeddingBag` layer and compute its output for a simple text sentence."
   ]
  },
  {
   "cell_type": "markdown",
   "id": "f4c504ef-af45-4c38-b0c9-88e318020cde",
   "metadata": {},
   "source": [
    "## References\n",
    "\n",
    "The following sources inspire the materials in this notebook:\n",
    "1. [PyTorch torchtext tutorial](https://pytorch.org/tutorials/beginner/text_sentiment_ngrams_tutorial.html)"
   ]
  }
 ],
 "metadata": {
  "kernelspec": {
   "display_name": "Python 3 (ipykernel)",
   "language": "python",
   "name": "python3"
  },
  "language_info": {
   "codemirror_mode": {
    "name": "ipython",
    "version": 3
   },
   "file_extension": ".py",
   "mimetype": "text/x-python",
   "name": "python",
   "nbconvert_exporter": "python",
   "pygments_lexer": "ipython3",
   "version": "3.10.6"
  }
 },
 "nbformat": 4,
 "nbformat_minor": 5
}
