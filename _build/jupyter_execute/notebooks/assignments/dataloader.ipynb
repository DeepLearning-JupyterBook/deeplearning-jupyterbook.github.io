{
 "cells": [
  {
   "cell_type": "markdown",
   "id": "4745dce1-00ee-4489-bb07-ccce1d293974",
   "metadata": {},
   "source": [
    "# 2. Dataloaders\n",
    "\n",
    "The objective of this assignment is to familiarise yourself with datasets and data loaders while exploring a real deep learning project. We will use the PyTorch framework to implement this."
   ]
  },
  {
   "cell_type": "markdown",
   "id": "94249204-881e-4b1b-9bf8-7c8dc5d6440d",
   "metadata": {},
   "source": [
    "## Prerequisite\n",
    "\n",
    "In the class, we worked on the [Quick Start notebook](../quick_start.ipynb).\n",
    "The assignment is the continuation of that notebook."
   ]
  },
  {
   "cell_type": "markdown",
   "id": "9033babc-0f2c-4996-8a87-b4c0f09f7e05",
   "metadata": {
    "tags": []
   },
   "source": [
    "## Assignment\n",
    "\n",
    "Please do the following questions and submit it by **Thursday May 4 at 23h59 O'clock**.\n",
    "The submission is one or more **notebook (.ipynb)** files that can include code, comments, written texts, and plots."
   ]
  },
  {
   "cell_type": "markdown",
   "id": "e1828bba-3f67-47fb-95e0-59b071785fcf",
   "metadata": {},
   "source": [
    "## 1. Dataloader from a directory\n",
    "\n",
    "As discussed in the [Quick Start notebook](../quick_start.ipynb) we cannot load all images in the memory.\n",
    "\n",
    "Change the code to load the dataset on the fly from this [zip file](https://www.dropbox.com/s/rltbecab0zx1zep/shape_set.zip?dl=0) (this is the same set of images we had loaded all in the memory).\n",
    " * Download and extract the zip file into one directory.\n",
    " * The directory contains two subfolders of train and test and two CSV files for their corresponding ground truths.\n",
    " * The dataloader should receive the path to this directory as an argument and read images in the `__getitem__` function and return them."
   ]
  },
  {
   "cell_type": "markdown",
   "id": "5f54d89a-b284-4108-83da-2c72de4f6ced",
   "metadata": {},
   "source": [
    "## 2. Different colours for the train and test set\n",
    "\n",
    "Change the [Quick Start notebook](../quick_start.ipynb) notebook so the training set always has achromatic backgrounds (greyscale) and the test set colourful background.\n",
    "\n",
    " * The dataloader function should receive an argument which specifies what types of background to use.\n",
    " * Does the network generalise from the training set to the test set?\n",
    " * Change the sets (train colourful backgrounds, test grey backgrounds) and perform similar experiments.\n",
    " * Do similar experiments with the foreground geometrical shapes.\n",
    " \n",
    " **Bonus**: if the network doesn't learn the task with the above-mentioned manipulations, play with the number of epochs or the design of architecture until it obtains high accuracy in the test set.\n"
   ]
  },
  {
   "cell_type": "markdown",
   "id": "97c41ed5-f44f-4070-b2fc-bb33f2ec0926",
   "metadata": {},
   "source": [
    "## 3. Extend the geometrical shapes\n",
    "Currently, our dataset contains only 3 geometrical shapes. Add one or more geometrical shapes to it, e.g., square and triangle.\n",
    "\n",
    " * Change the data generation routines to add at least one new geometrical shape.\n",
    " * Visualise the new dataset.\n",
    " * Change the network/training code to train a network with a new dataset."
   ]
  }
 ],
 "metadata": {
  "kernelspec": {
   "display_name": "Python 3 (ipykernel)",
   "language": "python",
   "name": "python3"
  },
  "language_info": {
   "codemirror_mode": {
    "name": "ipython",
    "version": 3
   },
   "file_extension": ".py",
   "mimetype": "text/x-python",
   "name": "python",
   "nbconvert_exporter": "python",
   "pygments_lexer": "ipython3",
   "version": "3.10.6"
  }
 },
 "nbformat": 4,
 "nbformat_minor": 5
}