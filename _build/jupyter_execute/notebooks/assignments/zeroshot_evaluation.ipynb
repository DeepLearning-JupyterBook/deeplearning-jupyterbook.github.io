{
 "cells": [
  {
   "cell_type": "markdown",
   "id": "bc9176e5-8ed1-4d9e-bd7d-bbfd31a4e5b9",
   "metadata": {},
   "source": [
    "# Zero-shot Evaluation\n",
    "\n",
    "In this assignment, you will practise zero-shot testing using language-vision models. In the [Language–Vision Notebook](../clip.ipynb), we explored how to train a basic CLIP model, which pairs images with captions. Here, we will evaluate large-scale pre-trained networks such as CLIP, which have been trained on billions of samples. These models often serve as the backbone for generative models like [DALL·E](https://openai.com/dall-e-3/) and [Stable Diffusion](https://huggingface.co/stabilityai/stable-diffusion-3.5-large).\n",
    "\n",
    "The purpose of this assignment is to investigate inherent biases in such models and discuss their ethical implications. Ethics in AI is a crucial topic for both our current society and the future."
   ]
  },
  {
   "cell_type": "markdown",
   "id": "411b5711-6a91-40f9-bcf5-7667cc1aaafb",
   "metadata": {},
   "source": [
    "## Assignment Instructions\n",
    "\n",
    "Complete the tasks below and submit your responses as a single **notebook (.ipynb)** that includes your code, explanations, and visualisations (where applicable). Ensure your notebook is well-commented and self-contained so it can run on other machines without modification. If additional libraries or Python packages are required, provide clear installation instructions or links to their documentation."
   ]
  },
  {
   "cell_type": "markdown",
   "id": "21f96bf2-a97d-4c5c-9adc-bb6eeec1a5bd",
   "metadata": {},
   "source": [
    "## 1. Investigating Skin Colour Bias\n",
    "\n",
    "**Objective**: Explore whether CLIP displays bias in associating positive or negative attributes based on visual features such as skin colour, hair colour, or other characteristics in face images.\n",
    "\n",
    "### Dataset Preparation\n",
    "1. Use a **face cartoon template** to generate synthetic faces with diverse skin tones and hair colours.\n",
    "   - Ensure an even distribution of skin tones and hair colours across the dataset.\n",
    "   - Control for other factors, such as facial expressions, gender, age, and accessories, to isolate the effects of skin or hair colour.\n",
    "\n",
    "2. Suggestions for creating the dataset:\n",
    "   - Use existing cartoon datasets, such as [Cartoon Set](https://google.github.io/cartoonset/), and modify features like skin and hair colour.\n",
    "   - Leverage generative tools like DALL·E, StyleGAN, or similar models to create synthetic images.\n",
    "   - Dynamically generate cartoon faces by defining key points and features programmatically.\n",
    "\n",
    "\n",
    "### Model Selection\n",
    "1. Choose one or more models to evaluate:\n",
    "   - [OpenCLIP](https://github.com/mlfoundations/open_clip)\n",
    "   - [OpenAI CLIP](https://github.com/openai/CLIP)\n",
    "\n",
    "2. Follow the installation instructions on their GitHub repositories to install the required Python packages (e.g., via `pip`). Each repository includes tutorials or demos to guide you in running zero-shot evaluations.\n",
    "\n",
    "### Setting Up the Experiment\n",
    "1. Define evaluation prompts:\n",
    "   - **Positive attributes**: \"Is this a good person?\", \"Is this a friendly person?\"\n",
    "   - **Negative attributes**: \"Is this a bad person?\", \"Is this a hostile person?\"\n",
    "\n",
    "2. Format the queries consistently:\n",
    "   - Pair each face image with all prompts in a structured manner.\n",
    "   - Identify the highest-scoring attribute for each image. This setup resembles a psychophysical experiment known as the **alternative forced choice (AFC) paradigm**, where the model selects between two or more options (e.g., 2AFC, 4AFC).\n",
    "\n",
    "### Evaluation and Metrics\n",
    "1. Use CLIP to compute similarity scores between image embeddings and text embeddings for each prompt.\n",
    "2. Record confidence scores for each attribute and visual feature (e.g., skin tone, hair colour).\n",
    "\n",
    "### Statistical Analysis\n",
    "1. Calculate the average confidence scores for positive and negative prompts across different conditions (e.g., varying skin tones).\n",
    "2. Conduct statistical tests to analyse:\n",
    "   - **Significance**: Are differences in scores statistically significant? Use tests such as the t-test or Wilcoxon signed-rank test.\n",
    "   - **Effect size**: Measure the strength of any detected biases.\n",
    "\n",
    "3. Recommended tools:\n",
    "   - Use Python packages like [SciPy](https://docs.scipy.org/doc/scipy/reference/stats.html) for statistical tests (e.g., `scipy.stats`).\n",
    "\n",
    "### Reporting Results\n",
    "1. Visualise your findings:\n",
    "   - Use bar plots or box plots to display confidence scores across different conditions.\n",
    "   - Summarise statistical tests and p-values in tables.\n",
    "\n",
    "2. Reflect on the results:\n",
    "   - Discuss the ethical implications of any detected biases.\n",
    "   - Consider how these biases might manifest in real-world applications.\n",
    "   - Propose strategies for mitigating bias in existing models and avoiding it in future models."
   ]
  },
  {
   "cell_type": "markdown",
   "id": "3dc9a979-c8ef-4bb1-a3ca-bb7f9ed5f36c",
   "metadata": {},
   "source": [
    "## **2. Colour Psychology and AI Ethics (Optional Bonus Question)**\n",
    "\n",
    "This bonus question invites you to extend your investigation into other intriguing and impactful areas related to colour psychology. Below are some examples of topics you could explore:\n",
    "\n",
    "\n",
    "\n",
    "### **1. Perceived Emotions and Colour Bias**\n",
    "- Investigate how language-vision models associate emotional attributes (e.g., happiness, anger) with faces shown in different lighting conditions or against varying background colours.\n",
    "- **Example**: Provide images of faces under warm, cool, and neutral lighting or set against diverse backgrounds (e.g., a forest, school, aeroplane). Use prompts such as \"Is this person trustworthy?\" or \"Is this person dangerous?\" to evaluate if lighting or background colours influence emotional bias.\n",
    "\n",
    "\n",
    "\n",
    "### **2. Cultural Connotations of Colour**\n",
    "- Study how models interpret colours tied to cultural symbols. For example, red can signify love in some cultures and danger in others.\n",
    "- **Example**: Create prompts such as \"a dress of a bride\" paired with images of dresses in white (Western tradition) and red (Eastern tradition). Analyse how the model responds and whether cultural biases emerge.\n",
    "\n",
    "\n",
    "\n",
    "### **3. Fashion Recommendations and Skin Tone Bias**\n",
    "- Assess whether language-vision models display bias in suggesting fashion items based on skin tone.\n",
    "- **Example**: Use images of individuals with varying skin tones wearing identical outfits. Ask CLIP, \"Does this outfit suit the person?\" and analyse whether any systematic preference for specific skin tones appears.\n",
    "\n",
    "\n",
    "\n",
    "### **4. Colour and Object Gender Stereotypes**\n",
    "- Explore whether models reinforce gender stereotypes based on object colour.\n",
    "- **Example**: Provide prompts like \"a tool/toy for boys\" or \"a tool/toy for girls,\" using objects of different colours. Investigate whether certain colours (e.g., blue for boys, pink for girls) are systematically associated with specific genders.\n",
    "\n",
    "\n",
    "\n",
    "### **5. Environmental Aesthetics and Colour**\n",
    "- Evaluate whether models favour certain colour palettes in scenes as more \"beautiful\" or \"peaceful.\"\n",
    "- **Example**: Manipulate the hues of nature scenes (e.g., making trees appear greener or less vibrant). Use prompts like \"Is this a beautiful scene?\" to determine if training data biases affect aesthetic judgments."
   ]
  }
 ],
 "metadata": {
  "kernelspec": {
   "display_name": "Python 3 (ipykernel)",
   "language": "python",
   "name": "python3"
  },
  "language_info": {
   "codemirror_mode": {
    "name": "ipython",
    "version": 3
   },
   "file_extension": ".py",
   "mimetype": "text/x-python",
   "name": "python",
   "nbconvert_exporter": "python",
   "pygments_lexer": "ipython3",
   "version": "3.10.12"
  }
 },
 "nbformat": 4,
 "nbformat_minor": 5
}