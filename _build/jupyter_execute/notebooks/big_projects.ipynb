{
 "cells": [
  {
   "cell_type": "markdown",
   "id": "dc6c75f6-f034-4632-a6dd-c63df47ad501",
   "metadata": {},
   "source": [
    "# 8. Big Projects\n",
    "\n",
    "So far, we have worked with small toy examples implemented in notebooks. Big (real-world) projects have an additional set of requirements, such as better structure of code, exhaustive logging, and execution on remote computers. We cover these topics in this tutorial:\n",
    "* [Python scripting](../markdowns/python_scripting.md)\n",
    "* [TensorBoard](tensorboard.ipynb)\n",
    "* [Working with servers](../markdowns/server.md)"
   ]
  }
 ],
 "metadata": {
  "kernelspec": {
   "display_name": "Python 3 (ipykernel)",
   "language": "python",
   "name": "python3"
  },
  "language_info": {
   "codemirror_mode": {
    "name": "ipython",
    "version": 3
   },
   "file_extension": ".py",
   "mimetype": "text/x-python",
   "name": "python",
   "nbconvert_exporter": "python",
   "pygments_lexer": "ipython3",
   "version": "3.10.12"
  }
 },
 "nbformat": 4,
 "nbformat_minor": 5
}