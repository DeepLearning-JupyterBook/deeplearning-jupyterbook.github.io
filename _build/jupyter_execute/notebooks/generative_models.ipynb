{
 "cells": [
  {
   "cell_type": "markdown",
   "id": "ee94ed73-984f-4141-9650-0368065208b5",
   "metadata": {},
   "source": [
    "# 5. Generative Models\n",
    "\n",
    "Generative models learn the distribution of data to generate new samples. We will explore three major generative models:\n",
    "* Generative Adversarial Networks (GAN) \n",
    "* Variational Autoencoders (VAE) \n",
    "* Diffusion Probabilistic Models (DPM) "
   ]
  }
 ],
 "metadata": {
  "kernelspec": {
   "display_name": "Python 3 (ipykernel)",
   "language": "python",
   "name": "python3"
  },
  "language_info": {
   "codemirror_mode": {
    "name": "ipython",
    "version": 3
   },
   "file_extension": ".py",
   "mimetype": "text/x-python",
   "name": "python",
   "nbconvert_exporter": "python",
   "pygments_lexer": "ipython3",
   "version": "3.10.6"
  }
 },
 "nbformat": 4,
 "nbformat_minor": 5
}