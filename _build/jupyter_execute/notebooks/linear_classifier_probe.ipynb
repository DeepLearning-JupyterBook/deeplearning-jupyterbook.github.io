{
 "cells": [
  {
   "cell_type": "markdown",
   "id": "165a3519-7ea4-46cd-b8ac-19f57145812d",
   "metadata": {},
   "source": [
    "# Probing by linear classifiers\n",
    "\n",
    "This tutorial showcases how to use linear classifiers to interpret the representation encoded in different layers of a deep neural network. We study that in pretrained networks trained on ImageNet.\n",
    "\n",
    "To assess whether a certain feature is encoded in the representation learnt by a network, we can check its discrimination power for that said feature. We cannot directly ask the pretrained network about the feature of interest, therefore we interpret the learnt representation using a linear classifier. We extract features from a frozen pretrained network, and only the weights of the linear classifier are optimised during the training.\n",
    "\n",
    "<img src=\"https://www.dropbox.com/s/gbzkp0y8x24jrk2/csf_pipeline.png?dl=1\">\n",
    "\n",
    "In this technique:\n",
    "* We can extract features at any layer.\n",
    "* Often the extracted features have a large dimensionality because of the spatial resolution, one can reduce this by adaptive pooling mechanism without learning any parameters.\n",
    "* We must make sure, the obtained results are not due to (or biased by) the training procedure of the linear classifier.\n",
    "\n",
    "Example articles that use this technique:\n",
    "* [Understanding intermediate layers using linear classifier probes](https://arxiv.org/abs/1610.01644)\n",
    "* [Contrast Sensitivity Function in Deep Networks](https://www.biorxiv.org/content/10.1101/2023.01.06.523034v2.abstract)"
   ]
  },
  {
   "cell_type": "markdown",
   "id": "4248b345-58c5-48d0-b664-9db151446058",
   "metadata": {},
   "source": [
    "## 0. Packages\n",
    "\n",
    "Let's start with all the necessary packages to implement this tutorial.\n",
    "\n",
    " * [numpy](https://numpy.org/) is the main package for scientific computing with Python. It's often imported with the `np` shortcut.\n",
    " * [matplotlib](https://matplotlib.org/) is a library to plot graphs in Python.\n",
    " * [os](https://docs.python.org/3/library/os.html) provides a portable way of using operating system-dependent functionality, e.g., modifying files/folders.\n",
    " * [cv2](https://docs.opencv.org/4.x/index.html) is a leading computer vision library.\n",
    " * [torch](https://pytorch.org/docs/stable/index.html) is a deep learning framework that allows us to define networks, handle datasets, optimise a loss function, etc."
   ]
  },
  {
   "cell_type": "code",
   "execution_count": 1,
   "id": "af92013a-6a52-49f9-ad3c-b1eb60ab19ae",
   "metadata": {},
   "outputs": [],
   "source": [
    "# importing the necessary packages/libraries\n",
    "import numpy as np\n",
    "from matplotlib import pyplot as plt\n",
    "import random\n",
    "import os\n",
    "\n",
    "import cv2\n",
    "\n",
    "import torch\n",
    "import torchvision\n",
    "from torchvision import models\n",
    "import torchvision.transforms as torch_transforms"
   ]
  },
  {
   "cell_type": "markdown",
   "id": "e2b55bd5-9e4a-4074-b176-e9e97d606e9e",
   "metadata": {},
   "source": [
    "### device\n",
    "Choosing CPU or GPU based on the availability of the hardware."
   ]
  },
  {
   "cell_type": "code",
   "execution_count": 2,
   "id": "e68b6f97-b245-4781-ade8-d823366db118",
   "metadata": {
    "tags": []
   },
   "outputs": [],
   "source": [
    "device = torch.device('cuda' if torch.cuda.is_available() else 'cpu')"
   ]
  },
  {
   "cell_type": "markdown",
   "id": "97fd9e47-ae02-444a-988a-206f00ea428b",
   "metadata": {},
   "source": [
    "## 1. Stimuli\n",
    "\n",
    "We study contrast discrimination. Our final goal is to measure the [contrast sensitivity function (CSF)](https://en.wikipedia.org/wiki/Contrast_(vision)#Contrast_sensitivity) of deep networks and check whether it resembles the CSF of humans."
   ]
  },
  {
   "cell_type": "markdown",
   "id": "1a945473-f067-4340-9ef6-3a92d169d836",
   "metadata": {},
   "source": [
    "### Train dataset\n",
    "\n",
    "We use our geometrical drawing dataset for training. This time the dataset returns two images that are identical in all aspects except their level of contrast. The task of network is to identify which image has a higher contrast."
   ]
  },
  {
   "cell_type": "code",
   "execution_count": 3,
   "id": "e0dfc8d0-9b04-4098-8fa4-c962a341779a",
   "metadata": {},
   "outputs": [],
   "source": [
    "labels_map = {\n",
    "    0: \"circle\",\n",
    "    1: \"ellipse\",\n",
    "    2: \"rectangle\"\n",
    "}\n",
    "\n",
    "def create_random_shape(img_size):\n",
    "    \"\"\"This function generates geometrical shapes on top of a background image.\"\"\"\n",
    "    # choosing a colour for the shape, there is a slim chance of being identical to the background,\n",
    "    # we can consider this the noise in our dataset!\n",
    "    img = np.zeros((img_size, img_size, 3), dtype='uint8') + 128\n",
    "\n",
    "    colour = [random.randint(0, 255) for _ in range(3)]\n",
    "    point1 = np.random.randint(img.shape[0] // 4, 3 * (img.shape[0] // 4), 2)\n",
    "\n",
    "    # drawing a random geometrical shape\n",
    "    shape_ind = np.random.randint(0, len(labels_map))\n",
    "    # when the thickness is negative, the shape is drawn filled\n",
    "    thickness = -1\n",
    "\n",
    "    if shape_ind == 0:  # circle\n",
    "        radius = np.random.randint(10, img.shape[0] // 4)\n",
    "        img = cv2.circle(img, point1, radius, color=colour, thickness=thickness)\n",
    "    elif shape_ind == 1:  # ellipse\n",
    "        axes = [\n",
    "            np.random.randint(10, 20),\n",
    "            np.random.randint(30, img.shape[0] // 4)\n",
    "        ]\n",
    "        angle = np.random.randint(0, 360)\n",
    "        img = cv2.ellipse(img, point1, axes, angle, 0, 360, color=colour, thickness=thickness)\n",
    "    else:  # rectangle\n",
    "        point2 = np.random.randint(0, img.shape[0], 2)\n",
    "        img = cv2.rectangle(img, point1, point2, color=colour, thickness=thickness)\n",
    "    return img, shape_ind\n",
    "\n",
    "\n",
    "def _adjust_contrast(image, amount):\n",
    "    return (1 - amount) / 2.0 + np.multiply(image, amount)\n",
    "\n",
    "\n",
    "class ContrastDataset(torch.utils.data.Dataset):\n",
    "\n",
    "    def __init__(self, num_imgs, target_size, transform=None):\n",
    "        \"\"\"\n",
    "        Parameters:\n",
    "        ----------\n",
    "        num_imgs : int\n",
    "            The number of samples in the dataset.\n",
    "        target_size : int\n",
    "            The spatial resolution of generated images.  \n",
    "        transform : List, optional\n",
    "            The list of transformation functions,\n",
    "        \"\"\"\n",
    "        self.num_imgs = num_imgs\n",
    "        self.target_size = target_size\n",
    "        self.transform = transform\n",
    "\n",
    "    def __len__(self):\n",
    "        return self.num_imgs\n",
    "\n",
    "    def __getitem__(self, _idx):\n",
    "        # our routine doesn't need the idx, which is the sample number\n",
    "        img1, _ = create_random_shape(self.target_size)\n",
    "        # we make two images, one with high-contrast and another with low-contrast\n",
    "        img1 = img1.astype('float32') / 255\n",
    "        img2 = img1.copy()\n",
    "\n",
    "        rnd_contrasts = np.random.uniform(0.04, 1, 2)\n",
    "        # network's task is to find which image has a higher contrast\n",
    "        gt = np.argmax(rnd_contrasts)\n",
    "\n",
    "        img1 = _adjust_contrast(img1, rnd_contrasts[0])\n",
    "        img2 = _adjust_contrast(img2, rnd_contrasts[1])\n",
    "\n",
    "        if self.transform:\n",
    "            img1 = self.transform(img1)\n",
    "            img2 = self.transform(img2)\n",
    "        return img1.float(), img2.float(), gt"
   ]
  },
  {
   "cell_type": "markdown",
   "id": "b5581dcd-f2a8-43e1-bb6d-de18ab739de2",
   "metadata": {},
   "source": [
    "### Torch Tensors\n",
    "\n",
    "Before inputting a network with our images we **normalise** them to the range of values that the pretrained network was trained on.\n",
    "\n",
    "While this step is not strictly speaking mandatory, it's sensible to measure the response of kernels under similar conditions that the network is meant to function.\n",
    "\n",
    "In the end, we visualise the tensor images (after inverting the normalisation). This is often a good exercise to do to ensure what we show to networks is correct."
   ]
  },
  {
   "cell_type": "code",
   "execution_count": 4,
   "id": "263d6de8-61af-465b-84c6-30cdbd82385e",
   "metadata": {},
   "outputs": [],
   "source": [
    "# the training size of ImageNet pretrained networks\n",
    "target_size = 224\n",
    "# mean and std values of ImageNet pretrained networks\n",
    "mean = [0.485, 0.456, 0.406]\n",
    "std = [0.229, 0.224, 0.225]\n",
    "\n",
    "# the list of transformation functions\n",
    "transform = torch_transforms.Compose([\n",
    "    torch_transforms.ToTensor(),\n",
    "    torch_transforms.Normalize(mean=mean, std=std)\n",
    "])\n",
    "\n",
    "num_imgs = 1000\n",
    "train_db = ContrastDataset(num_imgs, target_size, transform)\n",
    "\n",
    "batch_size = 32\n",
    "train_loader = torch.utils.data.DataLoader(\n",
    "    train_db, batch_size=batch_size, shuffle=True,\n",
    "    num_workers=0, pin_memory=True, sampler=None\n",
    ")"
   ]
  },
  {
   "cell_type": "markdown",
   "id": "f1c5949f-4b4d-4398-b059-df657084826b",
   "metadata": {},
   "source": [
    "### Visualise samples"
   ]
  },
  {
   "cell_type": "code",
   "execution_count": 5,
   "id": "e45185fd-66f7-4046-81ee-786d7fe8c442",
   "metadata": {},
   "outputs": [
    {
     "data": {
      "image/png": "[encoded data removed]",
      "text/plain": [
       "<Figure size 1008x576 with 16 Axes>"
      ]
     },
     "metadata": {
      "needs_background": "light"
     },
     "output_type": "display_data"
    }
   ],
   "source": [
    "fig = plt.figure(figsize=(14, 8))\n",
    "for i in range(16):\n",
    "    ax = fig.add_subplot(4, 4, i+1)\n",
    "    img_i1, img_i2, gt_i = train_db.__getitem__(i)\n",
    "    # image should be detached from gradient and converted to numpy \"detach().cpu().numpy()\"\n",
    "    # the axis should change to <width, height, channel> \"transpose(1, 2, 0)\"\n",
    "    # the normalisation should be inverted for visualisation purposes \"* std + mean\"\n",
    "    img_i1 = img_i1.detach().cpu().numpy().transpose(1, 2, 0) * std + mean\n",
    "    img_i2 = img_i2.detach().cpu().numpy().transpose(1, 2, 0) * std + mean\n",
    "    img_i = np.concatenate([img_i1, np.ones((target_size, 25, 3)), img_i2], axis=1)\n",
    "    ax.imshow(img_i)\n",
    "    ax.axis('off')\n",
    "    ax.set_title('GT=%s' % ('left' if gt_i == 0 else 'right'))"
   ]
  },
  {
   "cell_type": "markdown",
   "id": "f8117e06-935a-4fc3-8523-8624acc9a766",
   "metadata": {},
   "source": [
    "### Test dataset\n",
    "\n",
    "We opted for the contrast detection task similar to the ModelFest dataset, aiming to measure the networks' contrast sensitivity function (CSF) as closely as possible to human psychophysics. Each trial consisted of two intervals, where one interval showed an image with a non-zero contrast modulated sinusoidal gratings, and the other showed an image of the uniform grey background of $0\\%$ contrast.\n",
    "\n",
    "During testing at each trial, we make a new instance of our `GratingsDataset`, each time increasing/decreasing the contrast levels passed to the initialiser depending on the performance of the network. In other words, the sinusoidal grating contrast is adjusted with a staircase procedure until the network reached $75\\%$ correct - the same threshold typically assumed in human experiments."
   ]
  },
  {
   "cell_type": "code",
   "execution_count": 6,
   "id": "c1d911a0-f05f-47ad-a02e-2e0ba49d0180",
   "metadata": {},
   "outputs": [],
   "source": [
    "def sinusoid_grating(img_size, amp, omega, rho, lambda_wave):\n",
    "    if type(img_size) not in [list, tuple]:\n",
    "        img_size = (img_size, img_size)\n",
    "    # Generate Sinusoid grating\n",
    "    # sz: size of generated image (width, height)\n",
    "    radius = (int(img_size[0] / 2.0), int(img_size[1] / 2.0))\n",
    "    [x, y] = np.meshgrid(range(-radius[0], radius[0] + 1), range(-radius[1], radius[1] + 1))\n",
    "\n",
    "    stimuli = amp * np.cos((omega[0] * x + omega[1] * y) / lambda_wave + rho)\n",
    "    return stimuli\n",
    "\n",
    "class GratingsDataset(torch.utils.data.Dataset):\n",
    "\n",
    "    def __init__(self, target_size, contrasts, sf, transform=None):\n",
    "        \"\"\"\n",
    "        Parameters:\n",
    "        ----------\n",
    "        target_size : int\n",
    "            The spatial resolution of generated images.  \n",
    "        transform : List, optional\n",
    "            The list of transformation functions,\n",
    "        \"\"\"\n",
    "        self.target_size = target_size\n",
    "        self.transform = transform\n",
    "        self.contrasts = contrasts\n",
    "        self.sf = sf\n",
    "        self.thetas = np.arange(0, np.pi + 1e-3, np.pi / 12)\n",
    "\n",
    "    def __len__(self):\n",
    "        return len(self.thetas)\n",
    "\n",
    "    def __getitem__(self, idx):\n",
    "        theta = self.thetas[idx]\n",
    "        omega = [np.cos(theta), np.sin(theta)]\n",
    "        lambda_wave = (self.target_size * 0.5) / (np.pi * self.sf)\n",
    "        # generating the gratings\n",
    "        sinusoid_param = {\n",
    "            'amp': self.contrasts[0], 'omega': omega, 'rho': 0,\n",
    "            'img_size': self.target_size, 'lambda_wave': lambda_wave\n",
    "        }\n",
    "        img1 = sinusoid_grating(**sinusoid_param)\n",
    "        sinusoid_param['amp'] = self.contrasts[1]\n",
    "        img2 = sinusoid_grating(**sinusoid_param)\n",
    "\n",
    "        # if the target size is even, the generated stimuli is 1 pixel larger.\n",
    "        if np.mod(self.target_size, 2) == 0:\n",
    "            img1 = img1[:-1, :-1]\n",
    "            img2 = img2[:-1, :-1]\n",
    "\n",
    "        # multiply by a Gaussian\n",
    "        radius = int(self.target_size / 2.0)\n",
    "        [x, y] = np.meshgrid(range(-radius, radius + 1), range(-radius, radius + 1))\n",
    "        \n",
    "        sigma = self.target_size / 6\n",
    "        gauss_img = np.exp(-(np.power(x, 2) + np.power(y, 2)) / (2 * np.power(sigma, 2)))\n",
    "        \n",
    "        if np.mod(self.target_size, 2) == 0:\n",
    "            gauss_img = gauss_img[:-1, :-1]\n",
    "        gauss_img = gauss_img / np.max(gauss_img)\n",
    "        \n",
    "        img1 *= gauss_img\n",
    "        img2 *= gauss_img\n",
    "            \n",
    "        # bringing the image in the range of 0-1\n",
    "        img1 = (img1 + 1) / 2\n",
    "        img2 = (img2 + 1) / 2\n",
    "            \n",
    "        # converting it to 3 channel\n",
    "        img1 = np.repeat(img1[:, :, np.newaxis], 3, axis=2)\n",
    "        img2 = np.repeat(img2[:, :, np.newaxis], 3, axis=2)\n",
    "        \n",
    "        if self.transform:\n",
    "            img1 = self.transform(img1)\n",
    "            img2 = self.transform(img2)\n",
    "\n",
    "        gt = np.argmax(self.contrasts)\n",
    "        return img1.float(), img2.float(), gt"
   ]
  },
  {
   "cell_type": "code",
   "execution_count": 7,
   "id": "7e7be179-e407-49ad-af12-8be5f28096ea",
   "metadata": {},
   "outputs": [],
   "source": [
    "contrasts = [0, 1.]\n",
    "sf = 4\n",
    "test_db = GratingsDataset(target_size, transform=transform, contrasts=contrasts, sf=sf)"
   ]
  },
  {
   "cell_type": "code",
   "execution_count": 8,
   "id": "ecf16030-7c5d-4edb-8131-898e951cb49f",
   "metadata": {},
   "outputs": [
    {
     "name": "stderr",
     "output_type": "stream",
     "text": [
      "Clipping input data to the valid range for imshow with RGB data ([0..1] for floats or [0..255] for integers).\n",
      "Clipping input data to the valid range for imshow with RGB data ([0..1] for floats or [0..255] for integers).\n",
      "Clipping input data to the valid range for imshow with RGB data ([0..1] for floats or [0..255] for integers).\n",
      "Clipping input data to the valid range for imshow with RGB data ([0..1] for floats or [0..255] for integers).\n",
      "Clipping input data to the valid range for imshow with RGB data ([0..1] for floats or [0..255] for integers).\n",
      "Clipping input data to the valid range for imshow with RGB data ([0..1] for floats or [0..255] for integers).\n",
      "Clipping input data to the valid range for imshow with RGB data ([0..1] for floats or [0..255] for integers).\n",
      "Clipping input data to the valid range for imshow with RGB data ([0..1] for floats or [0..255] for integers).\n",
      "Clipping input data to the valid range for imshow with RGB data ([0..1] for floats or [0..255] for integers).\n",
      "Clipping input data to the valid range for imshow with RGB data ([0..1] for floats or [0..255] for integers).\n",
      "Clipping input data to the valid range for imshow with RGB data ([0..1] for floats or [0..255] for integers).\n",
      "Clipping input data to the valid range for imshow with RGB data ([0..1] for floats or [0..255] for integers).\n"
     ]
    },
    {
     "data": {
      "image/png": "[encoded data removed]",
      "text/plain": [
       "<Figure size 1008x432 with 12 Axes>"
      ]
     },
     "metadata": {
      "needs_background": "light"
     },
     "output_type": "display_data"
    }
   ],
   "source": [
    "fig = plt.figure(figsize=(14, 6))\n",
    "for i in range(12):\n",
    "    ax = fig.add_subplot(3, 4, i+1)\n",
    "    img_i1, img_i2, gt_i = test_db.__getitem__(i)\n",
    "    # image should be detached from gradient and converted to numpy \"detach().cpu().numpy()\"\n",
    "    # the axis should change to <width, height, channel> \"transpose(1, 2, 0)\"\n",
    "    # the normalisation should be inverted for visualisation purposes \"* std + mean\"\n",
    "    img_i1 = img_i1.detach().cpu().numpy().transpose(1, 2, 0) * std + mean\n",
    "    img_i2 = img_i2.detach().cpu().numpy().transpose(1, 2, 0) * std + mean\n",
    "    img_i = np.concatenate([img_i1, np.ones((target_size, 25, 3)), img_i2], axis=1)\n",
    "    ax.imshow(img_i)\n",
    "    ax.axis('off')\n",
    "    ax.set_title('GT=%s' % 'left' if gt_i == 0 else 'right')"
   ]
  },
  {
   "cell_type": "markdown",
   "id": "db4e89cd-34f2-4541-b21d-145c2692ec36",
   "metadata": {},
   "source": [
    "## 2. Network\n",
    "\n",
    "The structure of our network is quite similar to [transfer learning](https://colab.research.google.com/github/ArashAkbarinia/mbb/blob/main/notebooks/vision.ipynb) we saw in an earlier class. The main difference is that:\n",
    "* in `LinearProbe` the `forward` function receives two images,\n",
    "* it extracts features from the pretrained network for each image independently,\n",
    "* it concatenates the extract features and inputs it to the linear classifier that perform a 2AFC. "
   ]
  },
  {
   "cell_type": "code",
   "execution_count": 48,
   "id": "50b88930-d844-4649-bafb-d1b9d563aba1",
   "metadata": {},
   "outputs": [],
   "source": [
    "class LinearProbe(torch.nn.Module):\n",
    "    def __init__(self, pretrained=None):\n",
    "        super(LinearProbe, self).__init__()\n",
    "\n",
    "        if pretrained is None:\n",
    "            pretrained = models.resnet50(weights=models.ResNet50_Weights.IMAGENET1K_V1).to(device)\n",
    "            pretrained = torch.nn.Sequential(*list(pretrained.children())[:6])\n",
    "            pretrained.eval()\n",
    "\n",
    "        self.feature_extractor = pretrained\n",
    "        for p in self.feature_extractor.parameters():\n",
    "            p.requires_grad = False\n",
    "\n",
    "        feature_size = 512 * 28 * 28\n",
    "        self.fc = torch.nn.Linear(2 * feature_size, 2)\n",
    "\n",
    "    def forward(self, x1, x2):\n",
    "        x1 = self.feature_extractor(x1)\n",
    "        x1 = torch.flatten(x1, start_dim=1)\n",
    "        \n",
    "        x2 = self.feature_extractor(x2)\n",
    "        x2 = torch.flatten(x2, start_dim=1)\n",
    "\n",
    "        x = torch.cat([x1, x2], dim=1)\n",
    "        return self.fc(x)"
   ]
  },
  {
   "cell_type": "markdown",
   "id": "b8d288ec-7a39-4d44-a761-26bc3df24079",
   "metadata": {},
   "source": [
    "## 3. Training"
   ]
  },
  {
   "cell_type": "code",
   "execution_count": 10,
   "id": "c2f56e30-ea8d-40f2-be3f-2b3b8161358c",
   "metadata": {},
   "outputs": [],
   "source": [
    "def accuracy(output, target, topk=(1,)):\n",
    "    \"\"\"Computes the accuracy over the k top predictions for the specified values of k\"\"\"\n",
    "    with torch.no_grad():\n",
    "        maxk = max(topk)\n",
    "        batch_size = target.size(0)\n",
    "\n",
    "        _, pred = output.topk(maxk, 1, True, True)\n",
    "        pred = pred.t()\n",
    "        correct = pred.eq(target.view(1, -1).expand_as(pred))\n",
    "\n",
    "        res = []\n",
    "        for k in topk:\n",
    "            correct_k = correct[:k].reshape(-1).float().sum(0, keepdim=True)\n",
    "            res.append(correct_k.mul_(100.0 / batch_size))\n",
    "        return res\n",
    "\n",
    "\n",
    "def epoch_loop(model, db_loader, criterion, optimiser):\n",
    "    # usually the code for train/test has a large overlap.\n",
    "    is_train = False if optimiser is None else True\n",
    "\n",
    "    # model should be in train/eval model accordingly\n",
    "    model.train() if is_train else model.eval()\n",
    "\n",
    "    accuracies = []\n",
    "    losses = []\n",
    "    outputs = []\n",
    "    with torch.set_grad_enabled(is_train):\n",
    "        for batch_ind, (img1, img2, target) in enumerate(db_loader):\n",
    "            # moving the image and GT to device\n",
    "            img1 = img1.to(device)\n",
    "            img2 = img2.to(device)\n",
    "            target = target.to(device)\n",
    "\n",
    "            # calling the network\n",
    "            output = model(img1, img2)\n",
    "            outputs.extend([out for out in output])\n",
    "\n",
    "            # computing the loss function\n",
    "            loss = criterion(output, target)\n",
    "            losses.extend([loss.item() for i in range(img1.size(0))])\n",
    "            # computing the accuracy\n",
    "            acc = accuracy(output, target)[0].cpu().numpy()\n",
    "            accuracies.extend([acc for i in range(img1.size(0))])\n",
    "\n",
    "            if is_train:\n",
    "                # compute gradient and do SGD step\n",
    "                optimiser.zero_grad()\n",
    "                loss.backward()\n",
    "                optimiser.step()\n",
    "    return accuracies, losses, outputs"
   ]
  },
  {
   "cell_type": "code",
   "execution_count": 49,
   "id": "2b4c8382-e2fa-4b0f-bcaf-ee9294e782ab",
   "metadata": {},
   "outputs": [
    {
     "name": "stdout",
     "output_type": "stream",
     "text": [
      "[000] loss=115.6556     acc=69.50\n",
      "[001] loss=237.9370     acc=71.20\n",
      "[002] loss=268.4674     acc=72.60\n",
      "[003] loss=83.7455     acc=84.90\n",
      "[004] loss=67.7514     acc=85.40\n",
      "[005] loss=46.6342     acc=89.10\n",
      "[006] loss=91.8471     acc=84.70\n",
      "[007] loss=63.2980     acc=88.30\n",
      "[008] loss=51.8716     acc=89.50\n",
      "[009] loss=29.2941     acc=93.50\n"
     ]
    }
   ],
   "source": [
    "linear_probe = LinearProbe().to(device)\n",
    "params_to_optimize = [{'params': [p for p in linear_probe.fc.parameters()]}]\n",
    "momentum = 0.9\n",
    "learning_rate = 0.1\n",
    "weight_decay = 1e-4\n",
    "optimizer = torch.optim.SGD(\n",
    "    params_to_optimize, lr=learning_rate,\n",
    "    momentum=momentum, weight_decay=weight_decay\n",
    ")\n",
    "\n",
    "# doing epoch\n",
    "criterion = torch.nn.CrossEntropyLoss().to(device)\n",
    "epochs = 10\n",
    "initial_epoch = 0\n",
    "train_logs = {'acc': [], 'loss': []}\n",
    "for epoch in range(initial_epoch, epochs):\n",
    "    train_log = epoch_loop(linear_probe, train_loader, criterion, optimizer)\n",
    "     \n",
    "    print('[%.3d] loss=%.4f     acc=%0.2f' % (epoch, np.mean(train_log[1]), np.mean(train_log[0])))\n",
    "    train_logs['acc'].append(np.mean(train_log[0]))\n",
    "    train_logs['loss'].append(np.mean(train_log[1]))"
   ]
  },
  {
   "cell_type": "markdown",
   "id": "1011323c-a73c-4bd3-95b2-6c46bc081663",
   "metadata": {},
   "source": [
    "### Loss – accuracy\n",
    "\n",
    "We're not really interested in the outcome of training, this is just a tool that allows us to do the testing (e.g., psychophysics). Nevertheless, we must ensure that the linear classifier is learning to perform the task.\n",
    "\n",
    "**Note**: if the linear classifier never learns this task (after different hyper-parameter tuning), we can conclude that our feature of interest (in this example contrast) is not encoded in the representation of the network."
   ]
  },
  {
   "cell_type": "code",
   "execution_count": 50,
   "id": "b07592c9-d5ab-4c9e-8dd1-47ebf2af79a5",
   "metadata": {},
   "outputs": [
    {
     "data": {
      "image/png": "[encoded data removed]",
      "text/plain": [
       "<Figure size 720x360 with 1 Axes>"
      ]
     },
     "metadata": {
      "needs_background": "light"
     },
     "output_type": "display_data"
    }
   ],
   "source": [
    "plt.figure(figsize=(10,5))\n",
    "plt.title(\"Contrast Discriminator Training\")\n",
    "plt.plot(np.array(train_logs['acc']) / 100, '-x', label=\"Accuracy\")\n",
    "plt.plot(train_logs['loss'] / np.max(train_logs['loss']), '-o', label=\"Loss\")\n",
    "plt.xlabel(\"Epochs\")\n",
    "plt.legend()\n",
    "plt.show()"
   ]
  },
  {
   "cell_type": "markdown",
   "id": "ea7edab2-a9cc-42c4-a400-3a3e6ddc6239",
   "metadata": {},
   "source": [
    "## 4. Testing\n",
    "\n",
    "We test the network with a staircase paradigm. At every spatial frequency \n",
    "\n",
    "    [1, 2, 4, 7, 8, 14, 16, 28, 32, 56, 112]\n",
    "\n",
    "We test the network with two images, one with 0% contrast and another with positive contrast. We gradually adjust the level of contrast till networks reach $75\\%$ accuracy."
   ]
  },
  {
   "cell_type": "code",
   "execution_count": 13,
   "id": "73043289-c6f4-49e1-a3a8-1912dcb7b302",
   "metadata": {
    "editable": true,
    "slideshow": {
     "slide_type": ""
    },
    "tags": []
   },
   "outputs": [],
   "source": [
    "def midpoint(acc, low, mid, high, th, ep=1e-4):\n",
    "    diff_acc = acc - th\n",
    "    if abs(diff_acc) < ep:\n",
    "        return None, None, None\n",
    "    elif diff_acc > 0:\n",
    "        new_mid = (low + mid) / 2\n",
    "        return low, new_mid, mid\n",
    "    else:\n",
    "        new_mid = (high + mid) / 2\n",
    "        return mid, new_mid, high\n",
    "\n",
    "def _sensitivity_sf(model, sf):\n",
    "    \"\"\"Computing the psychometric function for given spatial frequency.\"\"\"\n",
    "    low = 0\n",
    "    high = 1\n",
    "    mid = (low + high) / 2\n",
    "\n",
    "    res_sf = []\n",
    "    attempt_i = 0\n",
    "\n",
    "    # th=0.749 because test samples are 16, 12 correct equals 0.75 and test stops\n",
    "    th = 0.749\n",
    "    while True:\n",
    "        db_loader = torch.utils.data.DataLoader(\n",
    "            GratingsDataset(target_size, transform=transform, contrasts=[0, mid], sf=sf),\n",
    "            batch_size=13, shuffle=False, num_workers=0, pin_memory=True, sampler=None\n",
    "        )\n",
    "\n",
    "        val_log = epoch_loop(model, db_loader, criterion, None)\n",
    "        accuracy = np.mean(val_log[0]) / 100\n",
    "        res_sf.append(np.array([sf, accuracy, mid]))\n",
    "        new_low, new_mid, new_high = midpoint(accuracy, low, mid, high, th=th)\n",
    "        if new_mid is None or attempt_i == 20:\n",
    "            break\n",
    "        else:\n",
    "            low, mid, high = new_low, new_mid, new_high\n",
    "        attempt_i += 1\n",
    "    return res_sf"
   ]
  },
  {
   "cell_type": "code",
   "execution_count": 54,
   "id": "fd2d2f81-1933-4e65-926c-c92fb87e25b5",
   "metadata": {},
   "outputs": [
    {
     "name": "stdout",
     "output_type": "stream",
     "text": [
      "spatial frequency 1\n",
      "spatial frequency 2\n",
      "spatial frequency 4\n",
      "spatial frequency 7\n",
      "spatial frequency 8\n",
      "spatial frequency 14\n",
      "spatial frequency 16\n",
      "spatial frequency 28\n",
      "spatial frequency 32\n",
      "spatial frequency 56\n",
      "spatial frequency 112\n"
     ]
    }
   ],
   "source": [
    "# spatial frequencies\n",
    "sfs = [i for i in range(1, int(target_size / 2) + 1) if target_size % i == 0]\n",
    "\n",
    "sensitivities = []\n",
    "for i in range(len(sfs)):\n",
    "    print('spatial frequency', sfs[i])\n",
    "    res_i = _sensitivity_sf(linear_probe, sfs[i])\n",
    "    sensitivities.append(1 / res_i[-1][-1])"
   ]
  },
  {
   "cell_type": "markdown",
   "id": "709d23e3-fbbb-4e86-aaad-8b80de6cf8f7",
   "metadata": {},
   "source": [
    "### Results\n",
    "\n",
    "We plot the contrast sensitivity as a function of spatial frequency. The results of our current training suggest this network is more sensitive to spatial frequency 8 cycles per image."
   ]
  },
  {
   "cell_type": "code",
   "execution_count": 56,
   "id": "5423f4cf-fb46-47cc-a8bc-1c6fd4aa4f4d",
   "metadata": {},
   "outputs": [
    {
     "data": {
      "image/png": "[encoded data removed]",
      "text/plain": [
       "<Figure size 432x288 with 1 Axes>"
      ]
     },
     "metadata": {
      "needs_background": "light"
     },
     "output_type": "display_data"
    }
   ],
   "source": [
    "plt.plot(sfs, sensitivities, '-x')\n",
    "plt.xlabel(\"Spatial frequency\")\n",
    "plt.ylabel(\"Contrast sensitivity\")\n",
    "plt.show()"
   ]
  },
  {
   "cell_type": "markdown",
   "id": "a07e6654-c61b-45e9-be1e-717c238f5692",
   "metadata": {},
   "source": [
    "## 5. Systematic experiments\n",
    "\n",
    "Using a linear classifier to probe the internal representation of pretrained networks:\n",
    "* allows for unifying the psychophysical experiments of biological and artificial systems,\n",
    "* is not limited to measuring the contrast sensitivity function of a network, and it can be used for other psychophysics."
   ]
  }
 ],
 "metadata": {
  "kernelspec": {
   "display_name": "Python 3 (ipykernel)",
   "language": "python",
   "name": "python3"
  },
  "language_info": {
   "codemirror_mode": {
    "name": "ipython",
    "version": 3
   },
   "file_extension": ".py",
   "mimetype": "text/x-python",
   "name": "python",
   "nbconvert_exporter": "python",
   "pygments_lexer": "ipython3",
   "version": "3.10.6"
  }
 },
 "nbformat": 4,
 "nbformat_minor": 5
}