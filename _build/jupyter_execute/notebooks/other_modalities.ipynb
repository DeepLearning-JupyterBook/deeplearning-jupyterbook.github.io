{
 "cells": [
  {
   "cell_type": "markdown",
   "id": "936b1150-ecb1-49f6-a7c7-783ca75a43ed",
   "metadata": {},
   "source": [
    "# 8. Other Modalities\n",
    "\n",
    "So far we have worked with networks in the vision domain. In this chapter, we will look at examples from other modalities, such as:\n",
    "* [Audio Classification](audio_classification.ipynb)\n",
    "* [Text Classification](text_classification.ipynb)"
   ]
  }
 ],
 "metadata": {
  "kernelspec": {
   "display_name": "Python 3 (ipykernel)",
   "language": "python",
   "name": "python3"
  },
  "language_info": {
   "codemirror_mode": {
    "name": "ipython",
    "version": 3
   },
   "file_extension": ".py",
   "mimetype": "text/x-python",
   "name": "python",
   "nbconvert_exporter": "python",
   "pygments_lexer": "ipython3",
   "version": "3.10.6"
  }
 },
 "nbformat": 4,
 "nbformat_minor": 5
}