{
 "cells": [
  {
   "cell_type": "markdown",
   "id": "779793257b41106c",
   "metadata": {
    "collapsed": false
   },
   "source": [
    "# Data Types\n",
    "\n",
    "As you probably know from MATLAB: there are several types of data we want and can store in variables: numbers, logical values, text, lists...\n",
    "\n",
    "<b>One thing in advance:</b>\n",
    "We can check for the type of a variable by <b>type(VARIABLE)</b>\n",
    "\n",
    "## Integer\n",
    "Integers embody whole numbers and can be added together, subtracted and so on..."
   ]
  },
  {
   "cell_type": "code",
   "execution_count": 52,
   "id": "e0b787e855ba36f6",
   "metadata": {
    "ExecuteTime": {
     "end_time": "2024-04-17T18:24:46.653069600Z",
     "start_time": "2024-04-17T18:24:46.608906300Z"
    },
    "collapsed": false
   },
   "outputs": [
    {
     "name": "stdout",
     "output_type": "stream",
     "text": [
      "-1\n",
      "<class 'int'>\n"
     ]
    }
   ],
   "source": [
    "a = 1\n",
    "b = 2\n",
    "\n",
    "print(a-b)\n",
    "print(type(a))"
   ]
  },
  {
   "cell_type": "markdown",
   "id": "cda787cd1e86281c",
   "metadata": {
    "collapsed": false
   },
   "source": [
    "## Float\n",
    "Floats are \"floating point\" numbers. So they include decimals."
   ]
  },
  {
   "cell_type": "code",
   "execution_count": 53,
   "id": "fab8afe020d03420",
   "metadata": {
    "ExecuteTime": {
     "end_time": "2024-04-17T18:24:46.697676Z",
     "start_time": "2024-04-17T18:24:46.658451400Z"
    },
    "collapsed": false
   },
   "outputs": [
    {
     "name": "stdout",
     "output_type": "stream",
     "text": [
      "28.6\n",
      "<class 'float'>\n",
      "<class 'float'>\n"
     ]
    }
   ],
   "source": [
    "a = 1.3\n",
    "b = 22.0\n",
    "\n",
    "print(a*b)\n",
    "print(type(b))\n",
    "print(type(2/3))"
   ]
  },
  {
   "cell_type": "markdown",
   "id": "78ecee83b68393c8",
   "metadata": {
    "collapsed": false
   },
   "source": [
    "## String\n",
    "Strings are chains of characters and can be created by using single or double quotes. There are several operations that can be performed on strings (for example attaching them to each other by using +)."
   ]
  },
  {
   "cell_type": "code",
   "execution_count": 54,
   "id": "b6896a137c8e5fe8",
   "metadata": {
    "ExecuteTime": {
     "end_time": "2024-04-17T18:24:46.714406100Z",
     "start_time": "2024-04-17T18:24:46.703676200Z"
    },
    "collapsed": false
   },
   "outputs": [
    {
     "name": "stdout",
     "output_type": "stream",
     "text": [
      "This is a string\n",
      "<class 'str'>\n"
     ]
    }
   ],
   "source": [
    "a = \"This is a \"\n",
    "b = \"string\"\n",
    "\n",
    "print(a+b)\n",
    "print(type(a))"
   ]
  },
  {
   "cell_type": "markdown",
   "id": "db733f6187164d6",
   "metadata": {
    "collapsed": false
   },
   "source": [
    "## Boolean\n",
    "Booleans are logical values. They can be either True or False. Using them, we can perform logical operations. For example check if a number is smaller or greater than another number. We will explore them more when dealing with conditions."
   ]
  },
  {
   "cell_type": "code",
   "execution_count": 55,
   "id": "34b0639efa1f1fdc",
   "metadata": {
    "ExecuteTime": {
     "end_time": "2024-04-17T18:24:46.727174100Z",
     "start_time": "2024-04-17T18:24:46.709898100Z"
    },
    "collapsed": false
   },
   "outputs": [
    {
     "name": "stdout",
     "output_type": "stream",
     "text": [
      "True\n",
      "<class 'bool'>\n"
     ]
    }
   ],
   "source": [
    "a = True\n",
    "b = False\n",
    "\n",
    "print(a)\n",
    "print(type(b))"
   ]
  },
  {
   "cell_type": "markdown",
   "id": "5b4eddf576a66d1e",
   "metadata": {
    "collapsed": false
   },
   "source": [
    "## List\n",
    "Lists are a collection of items. They can be of different types and can be changed. They are created by using square brackets. To access an item by its index, we use square brackets as well.\n",
    "<b>IMPORTANT:</b> In Python our index starts at 0. You can also use negative indices to access the list from the end. Strings can be accessed in the same way."
   ]
  },
  {
   "cell_type": "code",
   "execution_count": 56,
   "id": "859b48e9b69755cd",
   "metadata": {
    "ExecuteTime": {
     "end_time": "2024-04-17T18:24:46.729174100Z",
     "start_time": "2024-04-17T18:24:46.722428400Z"
    },
    "collapsed": false
   },
   "outputs": [
    {
     "name": "stdout",
     "output_type": "stream",
     "text": [
      "[1, 2, 3, 4, 5]\n",
      "<class 'list'>\n",
      "[1, 2, 3, 4, 5, 'a', 'b', 'c', 'd', 'e']\n",
      "1\n",
      "e\n"
     ]
    }
   ],
   "source": [
    "a = [1,2,3,4,5]\n",
    "b = [\"a\",\"b\",\"c\",\"d\",\"e\"]\n",
    "\n",
    "c = a+b\n",
    "\n",
    "print(a)\n",
    "print(type(b))\n",
    "print(c)\n",
    "print(c[0]) # first element\n",
    "print(c[-1]) # last element"
   ]
  },
  {
   "cell_type": "markdown",
   "id": "be92f749759ebd10",
   "metadata": {
    "collapsed": false
   },
   "source": [
    "Do you notice something about indexing from the end? \n",
    "For example to get the second to last element of a list, we can use `c[-2]`. \n",
    "In MATLAB we would use `c(end-1)`.\n",
    "But to get the second element of a list, we would use `c[1]` in Python and `c(2)` in MATLAB."
   ]
  },
  {
   "cell_type": "markdown",
   "id": "b295164d92bd2180",
   "metadata": {
    "collapsed": false
   },
   "source": [
    "Getting a number of elements from a list is called slicing. We can use the colon operator to get a range of elements."
   ]
  },
  {
   "cell_type": "code",
   "execution_count": 57,
   "id": "ed3a0352690d8b",
   "metadata": {
    "ExecuteTime": {
     "end_time": "2024-04-17T18:24:46.820707400Z",
     "start_time": "2024-04-17T18:24:46.730720Z"
    },
    "collapsed": false
   },
   "outputs": [
    {
     "name": "stdout",
     "output_type": "stream",
     "text": [
      "[3, 4, 5]\n",
      "[3, 4, 5, 'a', 'b', 'c', 'd', 'e']\n",
      "[1]\n"
     ]
    }
   ],
   "source": [
    "print(c[2:5]) # elements from index 2 to 4\n",
    "print(c[2:]) # elements from index 2 to the end\n",
    "print(c[:1]) # elements from the beginning to index 1"
   ]
  },
  {
   "cell_type": "markdown",
   "id": "e8e29342175bed35",
   "metadata": {
    "collapsed": false
   },
   "source": [
    "To get the length of a list, we can use the len() function."
   ]
  },
  {
   "cell_type": "code",
   "execution_count": 58,
   "id": "14069099ad65facd",
   "metadata": {
    "ExecuteTime": {
     "end_time": "2024-04-17T18:24:46.821708100Z",
     "start_time": "2024-04-17T18:24:46.738341500Z"
    },
    "collapsed": false
   },
   "outputs": [
    {
     "name": "stdout",
     "output_type": "stream",
     "text": [
      "10\n"
     ]
    }
   ],
   "source": [
    "print(len(c))"
   ]
  },
  {
   "cell_type": "markdown",
   "id": "20b11aa94d5e82fb",
   "metadata": {
    "collapsed": false
   },
   "source": [
    "Lists can be changed by assigning a new value to an index."
   ]
  },
  {
   "cell_type": "code",
   "execution_count": 59,
   "id": "be0990244eff6b83",
   "metadata": {
    "ExecuteTime": {
     "end_time": "2024-04-17T18:24:46.821708100Z",
     "start_time": "2024-04-17T18:24:46.741852500Z"
    },
    "collapsed": false
   },
   "outputs": [
    {
     "name": "stdout",
     "output_type": "stream",
     "text": [
      "[6, 2, 3, 4, 5]\n"
     ]
    }
   ],
   "source": [
    "a[0] = 6\n",
    "\n",
    "print(a)"
   ]
  },
  {
   "cell_type": "markdown",
   "id": "2fb3db0ea43f2be4",
   "metadata": {
    "collapsed": false
   },
   "source": [
    "Lists can be extended by using the append() function. This function adds an item to the end of the list."
   ]
  },
  {
   "cell_type": "code",
   "execution_count": 60,
   "id": "eea7c2ce7b3d04dc",
   "metadata": {
    "ExecuteTime": {
     "end_time": "2024-04-17T18:24:46.823713700Z",
     "start_time": "2024-04-17T18:24:46.752514700Z"
    },
    "collapsed": false
   },
   "outputs": [
    {
     "name": "stdout",
     "output_type": "stream",
     "text": [
      "[1, 2, 3, 4, 5, 6]\n"
     ]
    }
   ],
   "source": [
    "a = [1,2,3,4,5]\n",
    "\n",
    "a.append(6)\n",
    "\n",
    "print(a)"
   ]
  },
  {
   "cell_type": "markdown",
   "id": "ad569506c712d969",
   "metadata": {
    "collapsed": false
   },
   "source": [
    "Imagine we want to add a value to a specific index without deleting the value that is already there. We can use the insert() function."
   ]
  },
  {
   "cell_type": "code",
   "execution_count": 61,
   "id": "3014bad91b55d3cf",
   "metadata": {
    "ExecuteTime": {
     "end_time": "2024-04-17T18:24:46.855845100Z",
     "start_time": "2024-04-17T18:24:46.829597300Z"
    },
    "collapsed": false
   },
   "outputs": [
    {
     "name": "stdout",
     "output_type": "stream",
     "text": [
      "[1, 2, 7, 3, 4, 5, 6]\n"
     ]
    }
   ],
   "source": [
    "a.insert(2, 7) # insert 7 at index 2\n",
    "\n",
    "print(a)"
   ]
  },
  {
   "cell_type": "markdown",
   "id": "6c9412bdff3746cf",
   "metadata": {
    "collapsed": false
   },
   "source": [
    "## Tuple\n",
    "Tuples are similar to lists but they cannot be changed. They are created by using round brackets."
   ]
  },
  {
   "cell_type": "code",
   "execution_count": 62,
   "id": "8fabd86e9d4258d7",
   "metadata": {
    "ExecuteTime": {
     "end_time": "2024-04-17T18:24:46.985583200Z",
     "start_time": "2024-04-17T18:24:46.861855900Z"
    },
    "collapsed": false
   },
   "outputs": [
    {
     "name": "stdout",
     "output_type": "stream",
     "text": [
      "(1, 2, 3, 4, 5)\n",
      "<class 'tuple'>\n"
     ]
    }
   ],
   "source": [
    "a = (1,2,3,4,5)\n",
    "\n",
    "print(a)\n",
    "print(type(a))"
   ]
  },
  {
   "cell_type": "markdown",
   "id": "741b8b8a208b8e17",
   "metadata": {
    "collapsed": false
   },
   "source": [
    "If we try to change a value in a tuple, we will get an error. Try it out!"
   ]
  },
  {
   "cell_type": "markdown",
   "id": "577e9224a5f99cf",
   "metadata": {
    "collapsed": false
   },
   "source": [
    "## Dictionary\n",
    "Dictionaries are a collection of key-value pairs. They are created by using curly brackets. We can use the key to access the corresponding value. To access the value, we use square brackets. The type of the value can be anything."
   ]
  },
  {
   "cell_type": "code",
   "execution_count": 63,
   "id": "e81e3051e92adbf8",
   "metadata": {
    "ExecuteTime": {
     "end_time": "2024-04-17T18:24:47.017868600Z",
     "start_time": "2024-04-17T18:24:46.989582400Z"
    },
    "collapsed": false
   },
   "outputs": [
    {
     "name": "stdout",
     "output_type": "stream",
     "text": [
      "{'name': 'Alex', 'age': 30, 'city': 'Koblenz'}\n",
      "Alex\n",
      "<class 'dict'>\n"
     ]
    }
   ],
   "source": [
    "a = {\"name\":\"Alex\", \"age\":30, \"city\":\"Koblenz\"}\n",
    "\n",
    "print(a)\n",
    "print(a[\"name\"])\n",
    "print(type(a))"
   ]
  },
  {
   "cell_type": "markdown",
   "id": "5699a1d006365cd4",
   "metadata": {
    "collapsed": false
   },
   "source": [
    "Of course the type of the value in the dictionary stays the same."
   ]
  },
  {
   "cell_type": "code",
   "execution_count": 64,
   "id": "5ad4e3b9d819ea60",
   "metadata": {
    "ExecuteTime": {
     "end_time": "2024-04-17T18:24:47.062817400Z",
     "start_time": "2024-04-17T18:24:47.009810500Z"
    },
    "collapsed": false
   },
   "outputs": [
    {
     "name": "stdout",
     "output_type": "stream",
     "text": [
      "<class 'int'>\n"
     ]
    }
   ],
   "source": [
    "print(type(a[\"age\"]))"
   ]
  },
  {
   "cell_type": "markdown",
   "id": "5829a2fdac56cfb1",
   "metadata": {
    "collapsed": false
   },
   "source": [
    "We can also change the value of a key."
   ]
  },
  {
   "cell_type": "code",
   "execution_count": 65,
   "id": "6b1834584059848b",
   "metadata": {
    "ExecuteTime": {
     "end_time": "2024-04-17T18:24:47.066338200Z",
     "start_time": "2024-04-17T18:24:47.025138400Z"
    },
    "collapsed": false
   },
   "outputs": [],
   "source": [
    "a[\"age\"] = 31"
   ]
  },
  {
   "cell_type": "markdown",
   "id": "b5388198e6725a22",
   "metadata": {
    "collapsed": false
   },
   "source": [
    "Or add a new key by using the update() function."
   ]
  },
  {
   "cell_type": "code",
   "execution_count": 66,
   "id": "70951c8209f9895a",
   "metadata": {
    "ExecuteTime": {
     "end_time": "2024-04-17T18:24:47.101507Z",
     "start_time": "2024-04-17T18:24:47.071336300Z"
    },
    "collapsed": false
   },
   "outputs": [
    {
     "name": "stdout",
     "output_type": "stream",
     "text": [
      "{'name': 'Alex', 'age': 31, 'city': 'Koblenz', 'hobby': 'programming'}\n"
     ]
    }
   ],
   "source": [
    "a.update({\"hobby\": \"programming\"})\n",
    "\n",
    "print(a)"
   ]
  },
  {
   "cell_type": "markdown",
   "id": "feb4838442fcca96",
   "metadata": {
    "collapsed": false
   },
   "source": [
    "Something that will come in handy later on is that we can store lists in dictionaries."
   ]
  },
  {
   "cell_type": "code",
   "execution_count": 67,
   "id": "383be725ab5ba02b",
   "metadata": {
    "ExecuteTime": {
     "end_time": "2024-04-17T18:24:47.131663Z",
     "start_time": "2024-04-17T18:24:47.106024100Z"
    },
    "collapsed": false
   },
   "outputs": [
    {
     "name": "stdout",
     "output_type": "stream",
     "text": [
      "{'vpID': [1, 2, 3, 4], 'age': [30, 30, 21, 19], 'mean_RT': [0.5, 0.6, 0.7, 0.8]}\n"
     ]
    }
   ],
   "source": [
    "data = {\"vpID\": [1, 2, 3, 4], \"age\": [30, 30, 21, 19], \"mean_RT\": [0.5, 0.6, 0.7, 0.8]}\n",
    "\n",
    "print(data)"
   ]
  },
  {
   "cell_type": "markdown",
   "id": "d29d8dde12fb0b1d",
   "metadata": {
    "collapsed": false
   },
   "source": [
    "## Type Conversion\n",
    "This is your task! Find out how to convert between the different types. Google is your friend!\n",
    "\n",
    "Can you imagine a use case for this?"
   ]
  },
  {
   "cell_type": "markdown",
   "id": "9d5c5a8677400e4b",
   "metadata": {
    "collapsed": false
   },
   "source": []
  }
 ],
 "metadata": {
  "kernelspec": {
   "display_name": "Python 3",
   "language": "python",
   "name": "python3"
  },
  "language_info": {
   "codemirror_mode": {
    "name": "ipython",
    "version": 2
   },
   "file_extension": ".py",
   "mimetype": "text/x-python",
   "name": "python",
   "nbconvert_exporter": "python",
   "pygments_lexer": "ipython2",
   "version": "2.7.6"
  }
 },
 "nbformat": 4,
 "nbformat_minor": 5
}