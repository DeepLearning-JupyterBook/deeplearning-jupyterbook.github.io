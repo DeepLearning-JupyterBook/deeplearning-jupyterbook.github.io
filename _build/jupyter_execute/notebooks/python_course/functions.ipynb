{
 "cells": [
  {
   "cell_type": "markdown",
   "id": "33af4baafea1f24",
   "metadata": {
    "collapsed": false
   },
   "source": [
    "# Functions\n",
    "\n",
    "In Python, we can define functions using the `def` keyword. Functions are a way to group code that belongs together and can be reused. Functions can take arguments and return values. \n",
    "\n",
    "Here is an example of a function that takes two arguments and prints their sum:"
   ]
  },
  {
   "cell_type": "code",
   "execution_count": 1,
   "id": "52d209ce641d489f",
   "metadata": {
    "ExecuteTime": {
     "end_time": "2024-06-09T16:47:25.970738300Z",
     "start_time": "2024-06-09T16:47:25.955985600Z"
    },
    "collapsed": false
   },
   "outputs": [],
   "source": [
    "def addition(a, b):\n",
    "    print(a + b)"
   ]
  },
  {
   "cell_type": "markdown",
   "id": "e847f7ea46286327",
   "metadata": {
    "collapsed": false
   },
   "source": [
    "We can call the function by passing two arguments:"
   ]
  },
  {
   "cell_type": "code",
   "execution_count": 2,
   "id": "1acaa4ceccb69c66",
   "metadata": {
    "ExecuteTime": {
     "end_time": "2024-06-09T16:47:25.974469200Z",
     "start_time": "2024-06-09T16:47:25.964471200Z"
    },
    "collapsed": false
   },
   "outputs": [
    {
     "name": "stdout",
     "output_type": "stream",
     "text": [
      "7\n"
     ]
    }
   ],
   "source": [
    "addition(3, 4)"
   ]
  },
  {
   "cell_type": "markdown",
   "id": "4e65f3ce461c25ba",
   "metadata": {
    "collapsed": false
   },
   "source": [
    "## Return\n",
    "We can also return values from functions using the `return` keyword. Here is an example of a function that returns the sum of two numbers:"
   ]
  },
  {
   "cell_type": "code",
   "execution_count": 3,
   "id": "518d76725bb1265d",
   "metadata": {
    "ExecuteTime": {
     "end_time": "2024-06-09T16:47:25.977205200Z",
     "start_time": "2024-06-09T16:47:25.970738300Z"
    },
    "collapsed": false
   },
   "outputs": [],
   "source": [
    "def addition(a, b):\n",
    "    return a + b"
   ]
  },
  {
   "cell_type": "markdown",
   "id": "4f5dc9b6a52c8578",
   "metadata": {
    "collapsed": false
   },
   "source": [
    "We can call the function and store the result in a variable:"
   ]
  },
  {
   "cell_type": "code",
   "execution_count": 4,
   "id": "4e800232b1915d9e",
   "metadata": {
    "ExecuteTime": {
     "end_time": "2024-06-09T16:47:25.987453300Z",
     "start_time": "2024-06-09T16:47:25.975532400Z"
    },
    "collapsed": false
   },
   "outputs": [
    {
     "name": "stdout",
     "output_type": "stream",
     "text": [
      "7\n"
     ]
    }
   ],
   "source": [
    "result = addition(3, 4)\n",
    "print(result)"
   ]
  },
  {
   "cell_type": "markdown",
   "id": "388d37a164c02d44",
   "metadata": {
    "collapsed": false
   },
   "source": [
    "## Default arguments\n",
    "Assigning default values to arguments is a common practice in Python. This allows us to call the function without passing all the arguments. Here is an example of a function that takes two arguments and has default values for both:"
   ]
  },
  {
   "cell_type": "code",
   "execution_count": 5,
   "id": "324ffb3ffa22fcd4",
   "metadata": {
    "ExecuteTime": {
     "end_time": "2024-06-09T16:47:26.045348700Z",
     "start_time": "2024-06-09T16:47:25.982243900Z"
    },
    "collapsed": false
   },
   "outputs": [],
   "source": [
    "def addition(a=0, b=0):\n",
    "    return a + b"
   ]
  },
  {
   "cell_type": "markdown",
   "id": "fd1e72e936904a75",
   "metadata": {
    "collapsed": false
   },
   "source": [
    "Now when calling the function without arguments, it will use the default values:"
   ]
  },
  {
   "cell_type": "code",
   "execution_count": 6,
   "id": "2097e8ed91af7230",
   "metadata": {
    "ExecuteTime": {
     "end_time": "2024-06-09T16:47:26.047449800Z",
     "start_time": "2024-06-09T16:47:25.986174900Z"
    },
    "collapsed": false
   },
   "outputs": [
    {
     "name": "stdout",
     "output_type": "stream",
     "text": [
      "0\n"
     ]
    }
   ],
   "source": [
    "print(addition())"
   ]
  },
  {
   "cell_type": "markdown",
   "id": "fd8a558d50f3f626",
   "metadata": {
    "collapsed": false
   },
   "source": [
    "Or when calling the function with one argument:"
   ]
  },
  {
   "cell_type": "code",
   "execution_count": 7,
   "id": "76d93ee48248c038",
   "metadata": {
    "ExecuteTime": {
     "end_time": "2024-06-09T16:47:26.048496600Z",
     "start_time": "2024-06-09T16:47:25.992069Z"
    },
    "collapsed": false
   },
   "outputs": [
    {
     "name": "stdout",
     "output_type": "stream",
     "text": [
      "3\n"
     ]
    }
   ],
   "source": [
    "print(addition(3))"
   ]
  },
  {
   "cell_type": "markdown",
   "id": "2f325b3fe459f40d",
   "metadata": {
    "collapsed": false
   },
   "source": [
    "## Keyword arguments\n",
    "When calling a function, we can use keyword arguments to specify the value of each argument. This allows us to pass arguments in any order. Here is an example of a function that takes two arguments:"
   ]
  },
  {
   "cell_type": "code",
   "execution_count": 8,
   "id": "11fd942a6365f806",
   "metadata": {
    "ExecuteTime": {
     "end_time": "2024-06-09T16:47:26.049604800Z",
     "start_time": "2024-06-09T16:47:25.999459300Z"
    },
    "collapsed": false
   },
   "outputs": [
    {
     "name": "stdout",
     "output_type": "stream",
     "text": [
      "7\n"
     ]
    }
   ],
   "source": [
    "print(addition(b=4, a=3))"
   ]
  },
  {
   "cell_type": "markdown",
   "id": "1371cba88eefb905",
   "metadata": {
    "collapsed": false
   },
   "source": [
    "This is also extremely useful when we have functions with many arguments. It makes the code more readable and less error-prone. For example in NumPy we have similar functions that take the same arguments in different orders:"
   ]
  },
  {
   "cell_type": "code",
   "execution_count": 9,
   "id": "af31d1bbbde7efa9",
   "metadata": {
    "ExecuteTime": {
     "end_time": "2024-06-09T16:47:26.336853400Z",
     "start_time": "2024-06-09T16:47:26.004488700Z"
    },
    "collapsed": false
   },
   "outputs": [
    {
     "name": "stdout",
     "output_type": "stream",
     "text": [
      "957\n",
      "[ 1.34062107 -0.62741773  0.05777933]\n"
     ]
    }
   ],
   "source": [
    "import numpy as np\n",
    "\n",
    "#here the first argument defines the upper bound of the random number\n",
    "randIs = np.random.randint(1000)\n",
    "print(randIs)\n",
    "\n",
    "#here the first argument defines the size of the array\n",
    "randNs = np.random.randn(3)\n",
    "print(randNs)"
   ]
  },
  {
   "cell_type": "markdown",
   "id": "c4c757299e6098a",
   "metadata": {
    "collapsed": false
   },
   "source": [
    "## Variable number of arguments\n",
    "Sometimes we want to define functions that can take a variable number of arguments. We can use the `*args` syntax to achieve this. Here is an example of a function that takes any number of arguments and returns their sum:"
   ]
  },
  {
   "cell_type": "code",
   "execution_count": 10,
   "id": "b56f117e14f5d257",
   "metadata": {
    "ExecuteTime": {
     "end_time": "2024-06-09T16:47:26.344944200Z",
     "start_time": "2024-06-09T16:47:26.339019800Z"
    },
    "collapsed": false
   },
   "outputs": [],
   "source": [
    "def addition(*args):\n",
    "    return sum(args)"
   ]
  },
  {
   "cell_type": "markdown",
   "id": "51100137b6721088",
   "metadata": {
    "collapsed": false
   },
   "source": [
    "Now we can just pass any number of arguments to the function:"
   ]
  },
  {
   "cell_type": "code",
   "execution_count": 11,
   "id": "3668aebdb4dd3752",
   "metadata": {
    "ExecuteTime": {
     "end_time": "2024-06-09T16:47:26.350451200Z",
     "start_time": "2024-06-09T16:47:26.344944200Z"
    },
    "collapsed": false
   },
   "outputs": [
    {
     "name": "stdout",
     "output_type": "stream",
     "text": [
      "6\n"
     ]
    }
   ],
   "source": [
    "print(addition(1, 2, 3))"
   ]
  },
  {
   "cell_type": "markdown",
   "id": "f12c66617d5304bb",
   "metadata": {
    "collapsed": false
   },
   "source": [
    "This is extremely useful when we don't know how many arguments we will need to pass to the function. For example, the `print` function in Python can take any number of arguments and print them all:"
   ]
  },
  {
   "cell_type": "code",
   "execution_count": 12,
   "id": "51d5a132db993eea",
   "metadata": {
    "ExecuteTime": {
     "end_time": "2024-06-09T16:47:26.357390700Z",
     "start_time": "2024-06-09T16:47:26.350451200Z"
    },
    "collapsed": false
   },
   "outputs": [
    {
     "name": "stdout",
     "output_type": "stream",
     "text": [
      "1 2 3\n"
     ]
    }
   ],
   "source": [
    "print(1, 2, 3)"
   ]
  },
  {
   "cell_type": "markdown",
   "id": "be4fb1db81cbc4cb",
   "metadata": {
    "collapsed": false
   },
   "source": [
    "## Exercise\n",
    "We have generated the following data using a linear function:"
   ]
  },
  {
   "cell_type": "code",
   "execution_count": 13,
   "id": "28940b1536e5060",
   "metadata": {
    "ExecuteTime": {
     "end_time": "2024-06-09T16:47:26.363945Z",
     "start_time": "2024-06-09T16:47:26.357390700Z"
    },
    "collapsed": false
   },
   "outputs": [],
   "source": [
    "def linear(x, a=1, b=0):\n",
    "    return a * x + b\n",
    "\n",
    "dataX = (np.random.randn(100) * 2) + 10\n",
    "dataY = linear(dataX, 2, 1) + np.random.randn(100) * 7"
   ]
  },
  {
   "cell_type": "markdown",
   "id": "6a122ceb303db9ed",
   "metadata": {
    "collapsed": false
   },
   "source": [
    "Of course in this case we know the function that generated the data, but in general we might not know it. We can define a function that takes the data and returns the parameters `a` and `b` of the linear function that best fits the data. This will be our task for today. What do we need, what do we know, and what do we want to find? "
   ]
  },
  {
   "cell_type": "markdown",
   "id": "9962fc1f44c86dad",
   "metadata": {
    "collapsed": false
   },
   "source": [
    "Task:\n",
    "Find a way to try different values of `a` and `b` and calculate the error between the data and the linear function. The error can be calculated as the sum of the squared differences between the data and the function. The function that returns the smallest error is the best fit for the data.\n",
    "Plot the fit and the data in the end and print the values of `a` and `b`.\n",
    "\n",
    "In this case we don't want to use ready to use libraries, but implement the solution ourselves."
   ]
  }
 ],
 "metadata": {
  "kernelspec": {
   "display_name": "Python 3",
   "language": "python",
   "name": "python3"
  },
  "language_info": {
   "codemirror_mode": {
    "name": "ipython",
    "version": 2
   },
   "file_extension": ".py",
   "mimetype": "text/x-python",
   "name": "python",
   "nbconvert_exporter": "python",
   "pygments_lexer": "ipython2",
   "version": "2.7.6"
  }
 },
 "nbformat": 4,
 "nbformat_minor": 5
}