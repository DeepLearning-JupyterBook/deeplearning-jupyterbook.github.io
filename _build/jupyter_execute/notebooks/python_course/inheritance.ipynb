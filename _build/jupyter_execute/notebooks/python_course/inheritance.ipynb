{
 "cells": [
  {
   "cell_type": "markdown",
   "id": "9d4dbd277a14f3ff",
   "metadata": {
    "collapsed": false
   },
   "source": [
    "# Inheritance\n",
    "Sometimes we do not want to create a new class from scratch. We want to create a new class that is based on an existing class. This is called inheritance. The new class is called a subclass or child and the existing class is called a superclass or parent. The subclass inherits all the attributes and functions of the superclass. The subclass can also have its own attributes and functions."
   ]
  },
  {
   "cell_type": "markdown",
   "id": "3d9d79ff468798c4",
   "metadata": {
    "collapsed": false
   },
   "source": [
    "## The Superclass\n",
    "Classic examples of this are animal, person and vehicle. For example from an animal we can create multiple subclasses like dog, cat, bird, fish etc. Each of these subclasses will have their own attributes and functions but they will also have the attributes and functions of the superclass animal."
   ]
  },
  {
   "cell_type": "code",
   "execution_count": 26,
   "id": "f76cc36cf6e020cb",
   "metadata": {
    "ExecuteTime": {
     "end_time": "2024-10-13T14:22:59.290221400Z",
     "start_time": "2024-10-13T14:22:59.276556300Z"
    },
    "collapsed": false
   },
   "outputs": [],
   "source": [
    "class Animal:\n",
    "    def __init__(self, legs, eyes):\n",
    "        self.legs = legs\n",
    "        self.eyes = eyes\n",
    "        \n",
    "    def dance(self):\n",
    "        return f\"I am dancing with my {self.legs} legs and my {self.eyes} eyes\""
   ]
  },
  {
   "cell_type": "markdown",
   "id": "11d4dfd4b1e18e4",
   "metadata": {
    "collapsed": false
   },
   "source": [
    "Now we can create an instance of animal:"
   ]
  },
  {
   "cell_type": "code",
   "execution_count": 27,
   "id": "7c508ad298ba9075",
   "metadata": {
    "ExecuteTime": {
     "end_time": "2024-10-13T14:22:59.314006300Z",
     "start_time": "2024-10-13T14:22:59.297124300Z"
    },
    "collapsed": false
   },
   "outputs": [
    {
     "name": "stdout",
     "output_type": "stream",
     "text": [
      "I am dancing with my 4 legs and my 2 eyes\n"
     ]
    }
   ],
   "source": [
    "unicorn = Animal(4, 2)\n",
    "print(unicorn.dance())"
   ]
  },
  {
   "cell_type": "markdown",
   "id": "8077b4b29e0ec0fe",
   "metadata": {
    "collapsed": false
   },
   "source": [
    "## The Subclass\n",
    "This can be something more specific. For example a spider:"
   ]
  },
  {
   "cell_type": "code",
   "execution_count": 28,
   "id": "b080e37f461aeb0d",
   "metadata": {
    "ExecuteTime": {
     "end_time": "2024-10-13T14:22:59.316090500Z",
     "start_time": "2024-10-13T14:22:59.302641900Z"
    },
    "collapsed": false
   },
   "outputs": [],
   "source": [
    "class Spider(Animal):\n",
    "    def __init__(self, legs, eyes, webs):\n",
    "        super().__init__(legs, eyes)\n",
    "        self.webs = webs"
   ]
  },
  {
   "cell_type": "markdown",
   "id": "366d93fe26988614",
   "metadata": {
    "collapsed": false
   },
   "source": [
    "Now, what is going on here:\n",
    "- `class Spider(Animal):` - this is how we define that Spider is a subclass of Animal\n",
    "- `super().__init__(legs, eyes)` - this is how we call the constructor of the superclass. This is necessary because we want to use the attributes of the superclass\n",
    "- `self.webs = webs` - this is how we define the new attribute of the subclass"
   ]
  },
  {
   "cell_type": "code",
   "execution_count": 29,
   "id": "998afed9da776a6a",
   "metadata": {
    "ExecuteTime": {
     "end_time": "2024-10-13T14:22:59.316090500Z",
     "start_time": "2024-10-13T14:22:59.307210800Z"
    },
    "collapsed": false
   },
   "outputs": [],
   "source": [
    "spidy = Spider(8, 8, 12)"
   ]
  },
  {
   "cell_type": "markdown",
   "id": "72d187852d419712",
   "metadata": {
    "collapsed": false
   },
   "source": [
    "Now we can make spidy dance:"
   ]
  },
  {
   "cell_type": "code",
   "execution_count": 30,
   "id": "72948f9b4cf69f45",
   "metadata": {
    "ExecuteTime": {
     "end_time": "2024-10-13T14:22:59.319248100Z",
     "start_time": "2024-10-13T14:22:59.314006300Z"
    },
    "collapsed": false
   },
   "outputs": [
    {
     "name": "stdout",
     "output_type": "stream",
     "text": [
      "I am dancing with my 8 legs and my 8 eyes\n"
     ]
    }
   ],
   "source": [
    "print(spidy.dance())"
   ]
  },
  {
   "cell_type": "markdown",
   "id": "5dddd0659a1552a6",
   "metadata": {
    "collapsed": false
   },
   "source": [
    "But we can also make spidy do something that only spiders can do: "
   ]
  },
  {
   "cell_type": "code",
   "execution_count": 31,
   "id": "ff88df897547f708",
   "metadata": {
    "ExecuteTime": {
     "end_time": "2024-10-13T14:22:59.378859Z",
     "start_time": "2024-10-13T14:22:59.320245300Z"
    },
    "collapsed": false
   },
   "outputs": [],
   "source": [
    "class Spider(Animal):\n",
    "    def __init__(self, legs, eyes, webs):\n",
    "        super().__init__(legs, eyes)\n",
    "        self.webs = webs\n",
    "        self.flies = 0\n",
    "        \n",
    "    def catch_fly(self):\n",
    "        self.flies += 1\n",
    "        return f\"I am catching a fly with my {self.webs} webs\""
   ]
  },
  {
   "cell_type": "markdown",
   "id": "b07a47aa55e8de5b",
   "metadata": {
    "collapsed": false
   },
   "source": [
    "We gave the spider a new attribute `flies` and a new function `catch_fly`. When we create an instance of the spider we can see that the number of flies is 0:"
   ]
  },
  {
   "cell_type": "code",
   "execution_count": 32,
   "id": "5ce731ebb8927502",
   "metadata": {
    "ExecuteTime": {
     "end_time": "2024-10-13T14:22:59.379893Z",
     "start_time": "2024-10-13T14:22:59.328739200Z"
    },
    "collapsed": false
   },
   "outputs": [
    {
     "name": "stdout",
     "output_type": "stream",
     "text": [
      "0\n"
     ]
    }
   ],
   "source": [
    "spidy = Spider(8, 8, 12)\n",
    "print(spidy.flies) # this is how we can access the attribute flies"
   ]
  },
  {
   "cell_type": "markdown",
   "id": "47142544e5a1b8b6",
   "metadata": {
    "collapsed": false
   },
   "source": [
    "Now we can make spidy catch a fly:"
   ]
  },
  {
   "cell_type": "code",
   "execution_count": 33,
   "id": "b1b041d579703ac",
   "metadata": {
    "ExecuteTime": {
     "end_time": "2024-10-13T14:22:59.380891500Z",
     "start_time": "2024-10-13T14:22:59.333932900Z"
    },
    "collapsed": false
   },
   "outputs": [
    {
     "name": "stdout",
     "output_type": "stream",
     "text": [
      "I am catching a fly with my 12 webs\n"
     ]
    }
   ],
   "source": [
    "print(spidy.catch_fly())"
   ]
  },
  {
   "cell_type": "markdown",
   "id": "5e50a32e7264029d",
   "metadata": {
    "collapsed": false
   },
   "source": [
    "And we can see that the number of flies is now 1:"
   ]
  },
  {
   "cell_type": "code",
   "execution_count": 34,
   "id": "e4ad6ecc3e44c46e",
   "metadata": {
    "ExecuteTime": {
     "end_time": "2024-10-13T14:22:59.380891500Z",
     "start_time": "2024-10-13T14:22:59.340111400Z"
    },
    "collapsed": false
   },
   "outputs": [
    {
     "name": "stdout",
     "output_type": "stream",
     "text": [
      "1\n"
     ]
    }
   ],
   "source": [
    "print(spidy.flies)"
   ]
  },
  {
   "cell_type": "markdown",
   "id": "ecb8a94e07db2a2",
   "metadata": {
    "collapsed": false
   },
   "source": [
    "Each time we call the function `catch_fly` the number of flies will increase by 1:"
   ]
  },
  {
   "cell_type": "code",
   "execution_count": 35,
   "id": "60423f9b216c99ea",
   "metadata": {
    "ExecuteTime": {
     "end_time": "2024-10-13T14:22:59.433602400Z",
     "start_time": "2024-10-13T14:22:59.383894400Z"
    },
    "collapsed": false
   },
   "outputs": [
    {
     "name": "stdout",
     "output_type": "stream",
     "text": [
      "2\n"
     ]
    }
   ],
   "source": [
    "spidy.catch_fly()\n",
    "print(spidy.flies)"
   ]
  }
 ],
 "metadata": {
  "kernelspec": {
   "display_name": "Python 3",
   "language": "python",
   "name": "python3"
  },
  "language_info": {
   "codemirror_mode": {
    "name": "ipython",
    "version": 2
   },
   "file_extension": ".py",
   "mimetype": "text/x-python",
   "name": "python",
   "nbconvert_exporter": "python",
   "pygments_lexer": "ipython2",
   "version": "2.7.6"
  }
 },
 "nbformat": 4,
 "nbformat_minor": 5
}