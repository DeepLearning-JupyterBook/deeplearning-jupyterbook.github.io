{
 "cells": [
  {
   "cell_type": "markdown",
   "id": "9e2c5473006a69a4",
   "metadata": {
    "collapsed": false
   },
   "source": [
    "# Modules and NumPy Arrays\n",
    "\n",
    "A lot of the power of Python comes from the fact that it has a lot of MODULES that you can use. A module gives us additional functions we can use in our code. \n",
    "\n",
    "## Build-in Modules\n",
    "On your Pythoneering journey, you will come across a lot of modules that are built into Python. These modules are already installed and ready to use.\n",
    "\n",
    "### Math\n",
    "This module contains a lot of handy mathematical functions that you can use in your code. "
   ]
  },
  {
   "cell_type": "code",
   "execution_count": 107,
   "id": "707be187cff07a0",
   "metadata": {
    "ExecuteTime": {
     "end_time": "2024-04-22T12:57:33.735414900Z",
     "start_time": "2024-04-22T12:57:33.693057600Z"
    },
    "collapsed": false
   },
   "outputs": [
    {
     "name": "stdout",
     "output_type": "stream",
     "text": [
      "4.0\n",
      "1.5707963267948966\n"
     ]
    }
   ],
   "source": [
    "#we import modules using the import keyword\n",
    "import math\n",
    "\n",
    "#access functions of the module using the dot operator\n",
    "print(math.sqrt(16))\n",
    "print(math.radians(90))"
   ]
  },
  {
   "cell_type": "markdown",
   "id": "e0b99046fbbd8403",
   "metadata": {
    "collapsed": false
   },
   "source": [
    "To easier access the functions in the module, you can import the functions directly."
   ]
  },
  {
   "cell_type": "code",
   "execution_count": 108,
   "id": "7d8a8b62a7ea2fa7",
   "metadata": {
    "ExecuteTime": {
     "end_time": "2024-04-22T12:57:33.736409Z",
     "start_time": "2024-04-22T12:57:33.703189300Z"
    },
    "collapsed": false
   },
   "outputs": [
    {
     "name": "stdout",
     "output_type": "stream",
     "text": [
      "4.0\n",
      "1.5707963267948966\n"
     ]
    }
   ],
   "source": [
    "from math import sqrt, radians\n",
    "\n",
    "print(sqrt(16))\n",
    "print(radians(90))"
   ]
  },
  {
   "cell_type": "markdown",
   "id": "404fdf2801e3662",
   "metadata": {
    "collapsed": false
   },
   "source": [
    "To further ease our work, we can rename the modules we access in our code:"
   ]
  },
  {
   "cell_type": "code",
   "execution_count": 109,
   "id": "50686118374de55b",
   "metadata": {
    "ExecuteTime": {
     "end_time": "2024-04-22T12:57:33.832953900Z",
     "start_time": "2024-04-22T12:57:33.710983700Z"
    },
    "collapsed": false
   },
   "outputs": [
    {
     "name": "stdout",
     "output_type": "stream",
     "text": [
      "4.0\n",
      "1.5707963267948966\n"
     ]
    }
   ],
   "source": [
    "import math as m #renaming the math module to m by using the as keyword\n",
    "\n",
    "print(m.sqrt(16))\n",
    "print(m.radians(90))"
   ]
  },
  {
   "cell_type": "markdown",
   "id": "22e735c6980434d6",
   "metadata": {
    "collapsed": false
   },
   "source": [
    "### Random\n",
    "This module contains functions that allow us to generate random numbers. "
   ]
  },
  {
   "cell_type": "code",
   "execution_count": 110,
   "id": "8acd8c27da46a56b",
   "metadata": {
    "ExecuteTime": {
     "end_time": "2024-04-22T12:57:33.833953400Z",
     "start_time": "2024-04-22T12:57:33.719489800Z"
    },
    "collapsed": false
   },
   "outputs": [
    {
     "name": "stdout",
     "output_type": "stream",
     "text": [
      "3\n",
      "0.6995858227698856\n"
     ]
    }
   ],
   "source": [
    "import random as rd\n",
    "\n",
    "print(rd.randint(1, 10))\n",
    "print(rd.random())"
   ]
  },
  {
   "cell_type": "markdown",
   "id": "c94d24418a7fc359",
   "metadata": {
    "collapsed": false
   },
   "source": [
    "## External Modules\n",
    "These are modules that are not built into Python. You have to install them before you can use them. You can either use your IDE's package manager or use the pip command in the terminal.\n",
    "\n",
    "Let's go through both methods.\n",
    "\n",
    "### Package Manager\n",
    "Most IDEs have a package manager that you can use to install external modules. Let's install numpy using the package manager in PyCharm.\n",
    "\n",
    "### pip install\n",
    "You can also install external modules using the pip command in the terminal. \n",
    "\n",
    "To install a module, you use the command:\n",
    "```bash\n",
    "pip install module_name\n",
    "```\n",
    "\n",
    "Let's install the matplotlib and pandas module using the pip command."
   ]
  },
  {
   "cell_type": "markdown",
   "id": "9d15cd0a2165c239",
   "metadata": {
    "collapsed": false
   },
   "source": [
    "### NumPy\n",
    "NumPy is a powerful module that allows us to work with arrays and matrices. In this chapter we will start with some numpy commands.\n",
    "Numpy is commonly shortened to np when imported."
   ]
  },
  {
   "cell_type": "code",
   "execution_count": 111,
   "id": "5ec35cc0da71934",
   "metadata": {
    "ExecuteTime": {
     "end_time": "2024-04-22T12:57:33.833953400Z",
     "start_time": "2024-04-22T12:57:33.729841Z"
    },
    "collapsed": false
   },
   "outputs": [],
   "source": [
    "import numpy as np"
   ]
  },
  {
   "cell_type": "markdown",
   "id": "2e529de7d1d0784f",
   "metadata": {
    "collapsed": false
   },
   "source": [
    "With numpy we can create arrays using the array() function. Those arrays can be used to perform mathematical operations on."
   ]
  },
  {
   "cell_type": "code",
   "execution_count": 112,
   "id": "ed512b09eb8f58e9",
   "metadata": {
    "ExecuteTime": {
     "end_time": "2024-04-22T12:57:33.852304300Z",
     "start_time": "2024-04-22T12:57:33.734404800Z"
    },
    "collapsed": false
   },
   "outputs": [
    {
     "name": "stdout",
     "output_type": "stream",
     "text": [
      "[1 2 3 4 5]\n"
     ]
    }
   ],
   "source": [
    "a = np.array([1, 2, 3, 4, 5])\n",
    "print(a)"
   ]
  },
  {
   "cell_type": "markdown",
   "id": "99edd00b82b55f3d",
   "metadata": {
    "collapsed": false
   },
   "source": [
    "We can create multidimensional arrays using numpy.\n",
    "In MATLAB we would use the following syntax:\n",
    "```matlab\n",
    "a = [1, 2, 3; 4, 5, 6];\n",
    "```\n",
    "With numpy we use:"
   ]
  },
  {
   "cell_type": "code",
   "execution_count": 113,
   "id": "3649d2e21a29bf6e",
   "metadata": {
    "ExecuteTime": {
     "end_time": "2024-04-22T12:57:33.853552100Z",
     "start_time": "2024-04-22T12:57:33.741830800Z"
    },
    "collapsed": false
   },
   "outputs": [],
   "source": [
    "b = np.array([[1, 2, 3], [4, 5, 6]])"
   ]
  },
  {
   "cell_type": "markdown",
   "id": "3824c39a64b7ec8c",
   "metadata": {
    "collapsed": false
   },
   "source": [
    "To index a numpy array, we use the same syntax as we would use for a list."
   ]
  },
  {
   "cell_type": "code",
   "execution_count": 114,
   "id": "1fe7e26468802835",
   "metadata": {
    "ExecuteTime": {
     "end_time": "2024-04-22T12:57:33.853552100Z",
     "start_time": "2024-04-22T12:57:33.746683400Z"
    },
    "collapsed": false
   },
   "outputs": [
    {
     "name": "stdout",
     "output_type": "stream",
     "text": [
      "2\n",
      "[1 2 3]\n",
      "[1 2 3]\n"
     ]
    }
   ],
   "source": [
    "print(b[0, 1]) #the element in the first row and second column\n",
    "#to get the first row\n",
    "print(b[0])\n",
    "#or\n",
    "print(b[0, :]) #the colon means all elements in that dimension"
   ]
  },
  {
   "cell_type": "markdown",
   "id": "ef5792421261b1e3",
   "metadata": {
    "collapsed": false
   },
   "source": [
    "With arange() we can create an array with a range of numbers."
   ]
  },
  {
   "cell_type": "code",
   "execution_count": 115,
   "id": "956a4d4cb14b7132",
   "metadata": {
    "ExecuteTime": {
     "end_time": "2024-04-22T12:57:33.854561800Z",
     "start_time": "2024-04-22T12:57:33.756695600Z"
    },
    "collapsed": false
   },
   "outputs": [
    {
     "name": "stdout",
     "output_type": "stream",
     "text": [
      "[0 1 2 3 4 5 6 7 8 9]\n"
     ]
    }
   ],
   "source": [
    "c = np.arange(10) #this will create an array with numbers from 0 to 9\n",
    "print(c)"
   ]
  },
  {
   "cell_type": "markdown",
   "id": "edac3891328a1cf1",
   "metadata": {
    "collapsed": false
   },
   "source": [
    "We can also create arrays with zeros or ones using the zeros() and ones() functions. You should notice this from MATLAB.\n",
    "NOTE: The zeros() and ones() functions take a tuple as an argument of size if we want to specify a multidimensional size of the array."
   ]
  },
  {
   "cell_type": "code",
   "execution_count": 116,
   "id": "96451a9fcc2a1d17",
   "metadata": {
    "ExecuteTime": {
     "end_time": "2024-04-22T12:57:33.854561800Z",
     "start_time": "2024-04-22T12:57:33.765776300Z"
    },
    "collapsed": false
   },
   "outputs": [
    {
     "name": "stdout",
     "output_type": "stream",
     "text": [
      "[[0. 0. 0.]\n",
      " [0. 0. 0.]\n",
      " [0. 0. 0.]]\n"
     ]
    }
   ],
   "source": [
    "d = np.zeros((3, 3)) #this will create a 3x3 array with zeros\n",
    "print(d)"
   ]
  },
  {
   "cell_type": "markdown",
   "id": "5baaf5d79d3ebd3d",
   "metadata": {
    "collapsed": false
   },
   "source": [
    "Unlike in MATLAB, a single digit as the size of the array will create a 1D array."
   ]
  },
  {
   "cell_type": "code",
   "execution_count": 117,
   "id": "ea6af65fab10462",
   "metadata": {
    "ExecuteTime": {
     "end_time": "2024-04-22T12:57:33.954681400Z",
     "start_time": "2024-04-22T12:57:33.773741500Z"
    },
    "collapsed": false
   },
   "outputs": [
    {
     "name": "stdout",
     "output_type": "stream",
     "text": [
      "[0. 0. 0.]\n"
     ]
    }
   ],
   "source": [
    "a = np.zeros(3)\n",
    "print(a)"
   ]
  },
  {
   "cell_type": "markdown",
   "id": "c118e88760a85065",
   "metadata": {
    "collapsed": false
   },
   "source": [
    "We can also create \"column\" or \"row\" vectors using the reshape() function or specifying the size of the array when creating it."
   ]
  },
  {
   "cell_type": "code",
   "execution_count": 118,
   "id": "13cdc75bfbb34c42",
   "metadata": {
    "ExecuteTime": {
     "end_time": "2024-04-22T12:57:33.956658700Z",
     "start_time": "2024-04-22T12:57:33.779050100Z"
    },
    "collapsed": false
   },
   "outputs": [
    {
     "name": "stdout",
     "output_type": "stream",
     "text": [
      "[[0.]\n",
      " [0.]\n",
      " [0.]]\n",
      "[[0. 0. 0.]]\n"
     ]
    }
   ],
   "source": [
    "b = np.zeros((3, 1)) #this will create a 3x1 array\n",
    "print(b)\n",
    "print(b.reshape(1, 3)) #this will reshape the array to a 1x3 array"
   ]
  },
  {
   "cell_type": "markdown",
   "id": "a1407e41ea038cbb",
   "metadata": {
    "collapsed": false
   },
   "source": [
    "Some fun facts about reshape():\n",
    "- The number of elements in the reshaped array must be the same as the number of elements in the original array.\n",
    "- If you are unsure about a dimension, you can use -1. Numpy will automatically calculate the dimension for you. This is especially useful when you want to reshape multiple arrays with different sizes but a certain target size in one dimension.\n",
    "- The elements of the original array are filled row-wise into the reshaped array."
   ]
  },
  {
   "cell_type": "markdown",
   "id": "f30b4dbcc84751a2",
   "metadata": {
    "collapsed": false
   },
   "source": [
    "You can simply add or multiply arrays element-wise."
   ]
  },
  {
   "cell_type": "code",
   "execution_count": 119,
   "id": "5addb1c6536f3125",
   "metadata": {
    "ExecuteTime": {
     "end_time": "2024-04-22T12:57:33.956658700Z",
     "start_time": "2024-04-22T12:57:33.787661Z"
    },
    "collapsed": false
   },
   "outputs": [
    {
     "name": "stdout",
     "output_type": "stream",
     "text": [
      "[5 7 9]\n",
      "[ 4 10 18]\n"
     ]
    }
   ],
   "source": [
    "a = np.array([1, 2, 3])\n",
    "b = np.array([4, 5, 6])\n",
    "print(a + b) #no need for specification of element-wise operations like we had to with matlab (./)\n",
    "print(a * b)"
   ]
  },
  {
   "cell_type": "markdown",
   "id": "cc3a67f76e10d87c",
   "metadata": {
    "collapsed": false
   },
   "source": [
    "CAVE: This is substantially different from adding or multiplying lists. Using the + operator on lists will concatenate the lists. Using the * operator on lists will repeat the list."
   ]
  },
  {
   "cell_type": "code",
   "execution_count": 120,
   "id": "52c5432a37d76fe",
   "metadata": {
    "ExecuteTime": {
     "end_time": "2024-04-22T12:57:33.957649800Z",
     "start_time": "2024-04-22T12:57:33.793631Z"
    },
    "collapsed": false
   },
   "outputs": [
    {
     "name": "stdout",
     "output_type": "stream",
     "text": [
      "[1, 2, 3, 4, 5, 6]\n",
      "[1, 2, 3, 1, 2, 3]\n"
     ]
    }
   ],
   "source": [
    "a = [1, 2, 3]\n",
    "b = [4, 5, 6]\n",
    "print(a + b) #this will concatenate the lists\n",
    "print(a * 2) #this will repeat the list"
   ]
  },
  {
   "cell_type": "markdown",
   "id": "dd539dfd179a5d27",
   "metadata": {
    "collapsed": false
   },
   "source": [
    "Merging arrays is also possible with numpy. We can use the concatenate() function to merge arrays."
   ]
  },
  {
   "cell_type": "code",
   "execution_count": 121,
   "id": "997098fba669389e",
   "metadata": {
    "ExecuteTime": {
     "end_time": "2024-04-22T12:57:33.957649800Z",
     "start_time": "2024-04-22T12:57:33.802433400Z"
    },
    "collapsed": false
   },
   "outputs": [
    {
     "name": "stdout",
     "output_type": "stream",
     "text": [
      "[1 2 3 4 5 6]\n"
     ]
    }
   ],
   "source": [
    "a = np.array([1, 2, 3])\n",
    "b = np.array([4, 5, 6])\n",
    "c = np.concatenate((a, b))\n",
    "print(c)"
   ]
  },
  {
   "cell_type": "markdown",
   "id": "819763df3e88a294",
   "metadata": {
    "collapsed": false
   },
   "source": [
    "We can also merge arrays in multiple dimensions. Here we have two possibilities:"
   ]
  },
  {
   "cell_type": "code",
   "execution_count": 122,
   "id": "bbb4a59c7a80eae7",
   "metadata": {
    "ExecuteTime": {
     "end_time": "2024-04-22T12:57:33.958651200Z",
     "start_time": "2024-04-22T12:57:33.817497500Z"
    },
    "collapsed": false
   },
   "outputs": [
    {
     "name": "stdout",
     "output_type": "stream",
     "text": [
      "[[ 1  2  3]\n",
      " [ 4  5  6]\n",
      " [ 7  8  9]\n",
      " [10 11 12]]\n",
      "[[ 1  2  3  7  8  9]\n",
      " [ 4  5  6 10 11 12]]\n"
     ]
    }
   ],
   "source": [
    "#if we have 2D arrays we can concatenate along the columns\n",
    "a = np.array([[1, 2, 3], [4, 5, 6]])\n",
    "b = np.array([[7, 8, 9], [10, 11, 12]])\n",
    "c = np.concatenate((a, b), axis=0) #axis=0 means we are concatenating along the first axis (rows)\n",
    "print(c)\n",
    "c = np.concatenate((a, b), axis=1) #axis=1 means we are concatenating along the second axis (columns)\n",
    "print(c)"
   ]
  },
  {
   "cell_type": "markdown",
   "id": "4be8013252d16c80",
   "metadata": {
    "collapsed": false
   },
   "source": [
    "Task: What happens if we try to concatenate two arrays of different sizes?"
   ]
  },
  {
   "cell_type": "markdown",
   "id": "bd341da304b88261",
   "metadata": {
    "collapsed": false
   },
   "source": [
    "At the end of this session, let us take a look at the `np.linspace()` function. This function creates an array with a specified number of elements between two numbers."
   ]
  },
  {
   "cell_type": "code",
   "execution_count": 123,
   "id": "5488497ed2c2df5e",
   "metadata": {
    "ExecuteTime": {
     "end_time": "2024-04-22T12:57:33.971192300Z",
     "start_time": "2024-04-22T12:57:33.841937500Z"
    },
    "collapsed": false
   },
   "outputs": [
    {
     "name": "stdout",
     "output_type": "stream",
     "text": [
      "[ 0.   2.5  5.   7.5 10. ]\n"
     ]
    }
   ],
   "source": [
    "a = np.linspace(0, 10, 5) #this will create an array with 5 elements between 0 and 10\n",
    "print(a)"
   ]
  },
  {
   "cell_type": "markdown",
   "id": "bdf8b5ad476bffd1",
   "metadata": {
    "collapsed": false
   },
   "source": [
    "Of course you can go backwards."
   ]
  },
  {
   "cell_type": "code",
   "execution_count": 124,
   "id": "9f262b0f94c7d2d7",
   "metadata": {
    "ExecuteTime": {
     "end_time": "2024-04-22T12:57:34.097886900Z",
     "start_time": "2024-04-22T12:57:33.976122900Z"
    },
    "collapsed": false
   },
   "outputs": [
    {
     "name": "stdout",
     "output_type": "stream",
     "text": [
      "[10.   7.5  5.   2.5  0. ]\n"
     ]
    }
   ],
   "source": [
    "a = np.linspace(10, 0, 5) #this will create an array with 5 elements between 10 and 0\n",
    "print(a)"
   ]
  },
  {
   "cell_type": "markdown",
   "id": "7e15bbbd4b74c26a",
   "metadata": {
    "collapsed": false
   },
   "source": [
    "We can also create a 2D array with `np.linspace()` in conjunction with `reshape()`."
   ]
  },
  {
   "cell_type": "code",
   "execution_count": 125,
   "id": "7084d1afc50d6d66",
   "metadata": {
    "ExecuteTime": {
     "end_time": "2024-04-22T12:57:34.099859900Z",
     "start_time": "2024-04-22T12:57:33.993337700Z"
    },
    "collapsed": false
   },
   "outputs": [
    {
     "name": "stdout",
     "output_type": "stream",
     "text": [
      "[[ 0.  2.  4.]\n",
      " [ 6.  8. 10.]]\n"
     ]
    }
   ],
   "source": [
    "a = np.linspace(0, 10, 6).reshape(2, -1) #this will create a 2x3 array with 6 elements between 0 and 10\n",
    "print(a)"
   ]
  },
  {
   "cell_type": "markdown",
   "id": "2d92b0ba5976e2da",
   "metadata": {
    "collapsed": false
   },
   "source": [
    "A useful way to get the shape of an array is the `shape` attribute of the array."
   ]
  },
  {
   "cell_type": "code",
   "execution_count": 126,
   "id": "88b109e3e1a74a85",
   "metadata": {
    "ExecuteTime": {
     "end_time": "2024-04-22T12:57:34.141681300Z",
     "start_time": "2024-04-22T12:57:34.103869100Z"
    },
    "collapsed": false
   },
   "outputs": [
    {
     "name": "stdout",
     "output_type": "stream",
     "text": [
      "(3, 5)\n"
     ]
    }
   ],
   "source": [
    "a = np.zeros((3, 5))\n",
    "print(a.shape)"
   ]
  },
  {
   "cell_type": "markdown",
   "id": "733efa49c5367dde",
   "metadata": {
    "collapsed": false
   },
   "source": [
    "Task:\n",
    "Find a way to concatenate these two arrays along the rows (so below each other). "
   ]
  },
  {
   "cell_type": "code",
   "execution_count": 127,
   "id": "60053dc625605ff7",
   "metadata": {
    "ExecuteTime": {
     "end_time": "2024-04-22T12:57:34.166826400Z",
     "start_time": "2024-04-22T12:57:34.145208300Z"
    },
    "collapsed": false
   },
   "outputs": [],
   "source": [
    "a = np.linspace(0, 10, 6)\n",
    "b = np.linspace(10, 0, 6)"
   ]
  }
 ],
 "metadata": {
  "kernelspec": {
   "display_name": "Python 3",
   "language": "python",
   "name": "python3"
  },
  "language_info": {
   "codemirror_mode": {
    "name": "ipython",
    "version": 2
   },
   "file_extension": ".py",
   "mimetype": "text/x-python",
   "name": "python",
   "nbconvert_exporter": "python",
   "pygments_lexer": "ipython2",
   "version": "2.7.6"
  }
 },
 "nbformat": 4,
 "nbformat_minor": 5
}