{
 "cells": [
  {
   "cell_type": "markdown",
   "metadata": {
    "id": "QSygOK9qcaLX"
   },
   "source": [
    "# 2. Quick Start\n",
    "In this notebook, we’ll learn how to create a complete deep learning project in PyTorch. Broadly, a project consists of three main components:\n",
    " * Preparing the dataset and defining the task\n",
    " * Designing the architecture of the neural network\n",
    " * Implementing the training and testing routines\n",
    " \n",
    "To keep things clear, we’ll work on a simple example where the network classifies basic geometric shapes (like circles, squares, and triangles) in images. This will help us focus on the main steps without overwhelming details."
   ]
  },
  {
   "cell_type": "markdown",
   "metadata": {
    "editable": true,
    "slideshow": {
     "slide_type": ""
    },
    "tags": []
   },
   "source": [
    "## 0. Preparation\n",
    "\n",
    "Before we dive into the project, let's start by preparing the necessary materials.\n",
    "\n",
    "### Required Packages\n",
    "\n",
    "We will use several Python libraries, each serving a specific role:\n",
    "\n",
    "- **[numpy](https://numpy.org/):** The main library for scientific computing in Python, commonly imported as `np`.\n",
    "- **[matplotlib](https://matplotlib.org/):** Useful for plotting graphs and visualising data.\n",
    "- **[torch](https://pytorch.org/docs/stable/index.html):** The core library in PyTorch for deep learning, helping us define and manage neural networks.\n",
    "- **[torchvision](https://pytorch.org/vision/stable/index.html):** Contains tools and datasets for computer vision tasks.\n",
    "- **[cv2](https://docs.opencv.org/4.x/index.html) (OpenCV):** A widely-used library for image processing.\n",
    "\n",
    "Let's import these libraries now:"
   ]
  },
  {
   "cell_type": "code",
   "execution_count": 1,
   "metadata": {
    "id": "9BFaGIFUb6vR",
    "tags": []
   },
   "outputs": [],
   "source": [
    "# importing the necessary packages/libraries\n",
    "import numpy as np\n",
    "from matplotlib import pyplot as plt\n",
    "import random\n",
    "\n",
    "import torch\n",
    "import torch.nn as nn\n",
    "import torchvision\n",
    "\n",
    "import cv2"
   ]
  },
  {
   "cell_type": "markdown",
   "metadata": {},
   "source": [
    "Deep learning tasks can be computationally demanding. GPUs are often used because they are designed to handle complex calculations efficiently. In this case, if a **GPU** is available, PyTorch will use it; otherwise, it will default to using the **CPU**."
   ]
  },
  {
   "cell_type": "code",
   "execution_count": 2,
   "metadata": {
    "tags": []
   },
   "outputs": [],
   "source": [
    "# Automatically selects GPU if available, else defaults to CPU\n",
    "device = torch.device('cuda' if torch.cuda.is_available() else 'cpu')"
   ]
  },
  {
   "cell_type": "markdown",
   "metadata": {
    "id": "8izWL-PPckpE"
   },
   "source": [
    "## 1. Dataset \n",
    "\n",
    "In deep learning, it’s often practical to start by considering the dataset and task you’re working with. In many real-world projects, we already have a dataset that we load from disk. However, in this example, we’ll create a small dataset on the fly within the notebook.\n",
    "\n",
    "We will create images containing one of three geometric shapes:\n",
    "1. Circle\n",
    "2. Ellipse\n",
    "3. Rectangle\n",
    "\n",
    "Each image will contain only one shape on a background, and our task is to classify the shape in each image. This task is known as **image classification**."
   ]
  },
  {
   "cell_type": "code",
   "execution_count": 3,
   "metadata": {
    "tags": []
   },
   "outputs": [],
   "source": [
    "# Define the labels for our shapes\n",
    "labels_map = {\n",
    "    0: \"circle\",\n",
    "    1: \"ellipse\",\n",
    "    2: \"rectangle\"\n",
    "}"
   ]
  },
  {
   "cell_type": "markdown",
   "metadata": {
    "id": "nP-gkTlcDwPV"
   },
   "source": [
    "### Dataset Utility Functions\n",
    "\n",
    "We’ll now write helper functions to generate our dataset. Specifically, we’ll create two functions:\n",
    "* `create_random_background`: This function will generate a background for each image.\n",
    "* `create_random_shape`: This function will add a shape to the background.\n",
    "\n",
    "Let’s look at each function in detail."
   ]
  },
  {
   "cell_type": "code",
   "execution_count": 4,
   "metadata": {
    "id": "AuJROPischhI",
    "tags": []
   },
   "outputs": [],
   "source": [
    "def create_random_background(img_size, p=0.5):\n",
    "    \"\"\"\n",
    "    Creates a background for an image. \n",
    "    \n",
    "    Args:\n",
    "        img_size (int): Size of the background (image will be square).\n",
    "        p (float): Probability of generating a random noise background.\n",
    "        \n",
    "    Returns:\n",
    "        numpy array: Background image of size (img_size, img_size, 3).\n",
    "    \"\"\"\n",
    "    # If a randomly generated number is above p, create a noise background; otherwise, use a uniform colour\n",
    "    if np.random.rand() > p:\n",
    "        # Random noise background: random pixel values for each RGB channel\n",
    "        return np.random.randint(0, 256, (img_size, img_size, 3), dtype='uint8')\n",
    "    else:\n",
    "        # Uniform background: same colour for each pixel\n",
    "        return np.zeros((img_size, img_size, 3), dtype='uint8') + np.random.randint(0, 256, dtype='uint8')"
   ]
  },
  {
   "cell_type": "markdown",
   "metadata": {},
   "source": [
    "- This function creates a random background for our image. Sometimes it’s just a uniform colour (like a single shade), while other times it’s a random noise background (each pixel has a random colour).\n",
    "- By creating different types of backgrounds, we introduce some **variation** to make the task slightly more challenging."
   ]
  },
  {
   "cell_type": "code",
   "execution_count": 5,
   "metadata": {},
   "outputs": [],
   "source": [
    "def create_random_shape(img, filled):\n",
    "    \"\"\"\n",
    "    Draws a random shape (circle, ellipse, or rectangle) on the given background image.\n",
    "    \n",
    "    Args:\n",
    "        img (numpy array): Background image on which to draw the shape.\n",
    "        filled (bool): If True, shapes will be filled; otherwise, they will be outlined.\n",
    "    \n",
    "    Returns:\n",
    "        tuple: Modified image with shape and shape label (int).\n",
    "    \"\"\"\n",
    "    # Generate a random colour for the shape\n",
    "    colour = [random.randint(0, 255) for _ in range(3)]\n",
    "    thickness = np.random.randint(2, 7)\n",
    "    point1 = np.random.randint(img.shape[0] // 4, 3 * (img.shape[0] // 4), 2)\n",
    "\n",
    "    # Select a random shape (circle, ellipse, or rectangle)\n",
    "    shape_ind = np.random.randint(0, len(labels_map))\n",
    "    # Set shape to be filled if `filled` is True\n",
    "    thickness *= -1 if filled else np.random.choice([-1, 1])\n",
    "\n",
    "    if shape_ind == 0:  # Circle\n",
    "        radius = np.random.randint(10, img.shape[0] // 4)\n",
    "        img = cv2.circle(img, tuple(point1), radius, color=colour, thickness=thickness)\n",
    "    elif shape_ind == 1:  # Ellipse\n",
    "        axes = [np.random.randint(10, 20), np.random.randint(30, img.shape[0] // 4)]\n",
    "        angle = np.random.randint(0, 360)\n",
    "        img = cv2.ellipse(img, tuple(point1), axes, angle, 0, 360, color=colour, thickness=thickness)\n",
    "    else:  # Rectangle\n",
    "        point2 = np.random.randint(0, img.shape[0], 2)\n",
    "        img = cv2.rectangle(img, tuple(point1), tuple(point2), color=colour, thickness=thickness)\n",
    "    \n",
    "    return img, shape_ind"
   ]
  },
  {
   "cell_type": "markdown",
   "metadata": {},
   "source": [
    "- This function draws a randomly chosen shape on the background.\n",
    "- `shape_ind` specifies which shape to draw (circle, ellipse, or rectangle), and `filled` determines whether the shape is filled or just outlined.\n",
    "- The function returns both the modified image and the label of the shape (used later for training)."
   ]
  },
  {
   "cell_type": "markdown",
   "metadata": {
    "id": "IcXsvcc6D3B7"
   },
   "source": [
    "### Training and Testing Sets\n",
    "\n",
    "We usually divide data into three parts: **training**, **validation**, and **testing**:\n",
    "- **Training Set**: Used for learning.\n",
    "- **Validation Set**: Used to fine-tune parameters.\n",
    "- **Test Set**: Used to evaluate the model.\n",
    "\n",
    "To ensure the model generalises well, a rule of thumb is 70% training, 15% validation, and 15% testing.\n",
    "Validation data can be utilised for hyperparameter tuning, such as identifying the best optimiser algorithm and the optimal learning rate. The test set must never be used in any part of the training process.\n",
    "\n",
    "![Dataset Split](https://blog.kakaocdn.net/dn/UenrJ/btrk6fXBfbJ/4iGSlrWj4mVJxzmup2KVr1/img.png)\n",
    "\n",
    "In our case, we’ll create two sets of images: one for training and one for testing. We skipped the validation, because we're not doing any hyper parameter tunning."
   ]
  },
  {
   "cell_type": "code",
   "execution_count": 6,
   "metadata": {
    "tags": []
   },
   "outputs": [],
   "source": [
    "def make_image_set(num_imgs, img_size, bg_p, filled):\n",
    "    \"\"\"\n",
    "    Generates a dataset of images containing random shapes.\n",
    "    \n",
    "    Args:\n",
    "        num_imgs (int): Number of images to create.\n",
    "        img_size (int): Size of each image (square).\n",
    "        bg_p (float): Probability of a uniform background.\n",
    "        filled (bool): Whether shapes are filled or outlined.\n",
    "    \n",
    "    Returns:\n",
    "        list: Images and corresponding shape labels.\n",
    "    \"\"\"\n",
    "    imgs = []\n",
    "    gts = []\n",
    "    for _ in range(num_imgs):\n",
    "        img = create_random_background(img_size, bg_p)\n",
    "        img, gt = create_random_shape(img, filled)\n",
    "        imgs.append(img)\n",
    "        gts.append(gt)\n",
    "    return imgs, gts"
   ]
  },
  {
   "cell_type": "markdown",
   "metadata": {},
   "source": [
    "Here, `make_image_set` generates a set of images based on the specified number and size. \n",
    "\n",
    "**Note**: this functoins cannot be scaled to large datasets as it loads all images into a large list. For instance, if we want to have one million images, we run out of memory.\n",
    "\n",
    "**Exercise:** Consider how this function could be modified to handle very large datasets.\n",
    "\n",
    "Next, we create a trarin set of 1000 images and a test set of 100 images."
   ]
  },
  {
   "cell_type": "code",
   "execution_count": 7,
   "metadata": {
    "id": "MvjokNMtYm_q",
    "tags": []
   },
   "outputs": [],
   "source": [
    "# Parameters for the dataset\n",
    "img_size = 128  # Image size (128 x 128 pixels)\n",
    "filled = True  # Choose whether shapes are filled or outlined\n",
    "bg_uniform_vs_noise = 1  # Probability of uniform background\n",
    "\n",
    "# Create training and test sets\n",
    "number_trains = 1000  # Number of training images\n",
    "number_test = number_trains // 10  # Number of test images\n",
    "\n",
    "# Generate image datasets\n",
    "train_imgs, train_gts = make_image_set(number_trains, img_size, bg_p=bg_uniform_vs_noise, filled=filled)\n",
    "test_imgs, test_gts = make_image_set(number_test, img_size, bg_p=bg_uniform_vs_noise, filled=filled)"
   ]
  },
  {
   "cell_type": "markdown",
   "metadata": {
    "id": "UsKLZCkXGIMF"
   },
   "source": [
    "### Dataset Visualisation\n",
    "\n",
    "Let's look at a sample of our generated images to verify they appear as expected. Using `plt` from `matplotlib`, we’ll create a grid of images with their corresponding shape label (ground truth)."
   ]
  },
  {
   "cell_type": "code",
   "execution_count": 8,
   "metadata": {
    "colab": {
     "base_uri": "https://localhost:8080/",
     "height": 754
    },
    "id": "OkMrO2xlYpFJ",
    "outputId": "3a94b969-e4ac-43bc-d50a-707774f6b9ee",
    "tags": []
   },
   "outputs": [
    {
     "data": {
      "image/png": "[encoded data removed]",
      "text/plain": [
       "<Figure size 1800x900 with 50 Axes>"
      ]
     },
     "metadata": {},
     "output_type": "display_data"
    }
   ],
   "source": [
    "# plot 50 of the images\n",
    "fig = plt.figure(figsize=(18, 9))\n",
    "for i in range(50):\n",
    "    ax = fig.add_subplot(5, 10, i+1)\n",
    "    ax.imshow(train_imgs[i])\n",
    "    ax.axis('off')\n",
    "    ax.set_title('GT=%s' % labels_map[train_gts[i]])"
   ]
  },
  {
   "cell_type": "markdown",
   "metadata": {},
   "source": [
    "### PyTorch Data Pipeline\n",
    "\n",
    "Now that we have created our dataset, we need to create **PyTorch dataloaders** to efficiently manage and load our data during model training and evaluation. PyTorch dataloaders make it easier to handle large datasets by loading small batches of data sequentially, which is essential for efficient memory usage and faster processing.\n",
    "\n",
    "In this example, we define a custom dataloader class, `ShapeDataset`, by inheriting from `torch.utils.data.Dataset`. Custom datasets in PyTorch should implement two main functions:\n",
    "\n",
    "1. **`__len__`**: Returns the number of samples in the dataset.\n",
    "2. **`__getitem__`**: Retrieves a specific sample from the dataset, based on the provided index.\n",
    "\n",
    "In deep learning, datasets are often very large (for example, ImageNet contains 1.5 million images). Loading all images into memory at once would require a vast amount of memory, so instead, we load each image dynamically within the `__getitem__` function. This approach helps us manage memory effectively, especially when working with limited computational resources.\n",
    "\n",
    "With this structure, you can customise datasets for any purpose by creating similar classes with a defined initialisation (`__init__`), length (`__len__`), and retrieval (`__getitem__`) functionality."
   ]
  },
  {
   "cell_type": "code",
   "execution_count": 9,
   "metadata": {
    "id": "qenCTLyvYrM0",
    "tags": []
   },
   "outputs": [],
   "source": [
    "# PyTorch Dataset Class for Shape Data\n",
    "class ShapeDataset(torch.utils.data.Dataset):\n",
    "    def __init__(self, imgs, gts, transform=None):\n",
    "        \"\"\"\n",
    "        Initialise the dataset with images, ground-truth labels, and optional transformations.\n",
    "        \n",
    "        Args:\n",
    "            imgs (list or array): List of images.\n",
    "            gts (list or array): Ground-truth labels associated with each image.\n",
    "            transform (callable, optional): Transformations to be applied to each image.\n",
    "        \"\"\"\n",
    "        self.imgs = imgs        # Store images\n",
    "        self.gts = gts          # Store ground-truth labels\n",
    "        self.transform = transform  # Store transformations (if any)\n",
    "\n",
    "    def __len__(self):\n",
    "        \"\"\"\n",
    "        Returns the total number of samples in the dataset.\n",
    "        \"\"\"\n",
    "        return len(self.imgs)\n",
    "\n",
    "    def __getitem__(self, idx):\n",
    "        \"\"\"\n",
    "        Retrieves a sample and its ground-truth label by index.\n",
    "        \n",
    "        Args:\n",
    "            idx (int): Index of the sample.\n",
    "        \n",
    "        Returns:\n",
    "            tuple: Transformed image and its corresponding ground-truth label.\n",
    "        \"\"\"\n",
    "        # Get image and label for the given index\n",
    "        img = self.imgs[idx]\n",
    "        gt = self.gts[idx]  # gt = ground truth, representing the shape's ID here\n",
    "\n",
    "        # Apply transformation if specified\n",
    "        if self.transform:\n",
    "            img = self.transform(img)\n",
    "\n",
    "        # Return the image and its label as a tuple\n",
    "        return img, gt"
   ]
  },
  {
   "cell_type": "markdown",
   "metadata": {},
   "source": [
    "- **Initialisation (`__init__`)**: This function sets up the dataset. It typically receives and stores all the necessary data (e.g., `imgs` for images, `gts` for ground-truth labels). It also takes in a `transform` parameter to allow for optional transformations on each sample. In practice, only paths to the images might be loaded, while the actual image data is loaded dynamically in `__getitem__`.\n",
    "  \n",
    "- **Data Transformations (`transform`)**: Transformations are critical in deep learning workflows to ensure data is processed consistently and to improve model performance by applying operations such as normalisation and data augmentation. Let’s discuss transformations in more detail."
   ]
  },
  {
   "cell_type": "markdown",
   "metadata": {},
   "source": [
    "### Data Transformations\n",
    "\n",
    "In this example, we use two standard transformations:\n",
    "\n",
    "1. **`ToTensor`**: Converts an image into a PyTorch tensor. PyTorch models work with tensors, so we must apply this transformation before feeding data into our model.\n",
    "  \n",
    "2. **`Normalize`**: Scales image pixel values so they are centred around zero. This is important because many deep learning models perform better when the data has a mean of zero and a standard deviation close to one. We specify the `mean` and `std` values for normalisation, tailored to our dataset.\n",
    "\n",
    "Transformations are applied sequentially using `torchvision.transforms.Compose`, which allows chaining multiple transformations together."
   ]
  },
  {
   "cell_type": "code",
   "execution_count": 10,
   "metadata": {
    "id": "SzN6uzybYsus",
    "tags": []
   },
   "outputs": [],
   "source": [
    "# Set mean and standard deviation for normalisation\n",
    "mean = 0.5\n",
    "std = 0.25\n",
    "\n",
    "# Compose transformations\n",
    "transform = torchvision.transforms.Compose([\n",
    "    torchvision.transforms.ToTensor(),               # Convert to tensor\n",
    "    torchvision.transforms.Normalize(mean, std),     # Normalise with mean and std\n",
    "])"
   ]
  },
  {
   "cell_type": "markdown",
   "metadata": {
    "id": "NLpTmDQzJisC"
   },
   "source": [
    "### DataLoader: Managing Data Batches\n",
    "\n",
    "`DataLoader` in PyTorch enables efficient batch processing, which is crucial for training and evaluation. Here are some important parameters for `DataLoader`:\n",
    "\n",
    "- **`batch_size`**: Defines how many samples are processed in each batch. Processing in batches allows efficient use of GPU resources and is necessary for stochastic gradient descent (SGD).\n",
    "  \n",
    "- **`num_workers`**: Specifies the number of CPU threads to load and preprocess the data before sending it to the GPU. Using multiple workers can speed up data loading, especially with larger datasets.\n",
    "  \n",
    "- **`shuffle`**: Randomly shuffles the data at each epoch. This is usually set to `True` during training to prevent the model from learning the order of the data.\n",
    "\n",
    "> **Note**: `batch_size` and `shuffle` settings can vary between training and testing. For example, we may set a larger `batch_size` and avoid shuffling during testing since we do not need to update model weights."
   ]
  },
  {
   "cell_type": "code",
   "execution_count": 11,
   "metadata": {
    "id": "JFrES-ryIuDP",
    "tags": []
   },
   "outputs": [],
   "source": [
    "# Instantiate dataset for training\n",
    "train_dataset = ShapeDataset(train_imgs, train_gts, transform=transform)\n",
    "\n",
    "# Set batch size\n",
    "batch_size = 8\n",
    "\n",
    "# Create DataLoader for training\n",
    "train_loader = torch.utils.data.DataLoader(\n",
    "    train_dataset, batch_size=batch_size, shuffle=True,\n",
    "    num_workers=2, pin_memory=True\n",
    ")\n",
    "\n",
    "# Instantiate dataset for validation\n",
    "val_dataset = ShapeDataset(test_imgs, test_gts, transform=transform)\n",
    "\n",
    "# Create DataLoader for validation\n",
    "val_loader = torch.utils.data.DataLoader(\n",
    "    val_dataset, batch_size=batch_size, shuffle=False,\n",
    "    num_workers=2, pin_memory=True\n",
    ")"
   ]
  },
  {
   "cell_type": "markdown",
   "metadata": {
    "id": "j6qB4aDHHown"
   },
   "source": [
    "## 2. Model\n",
    "\n",
    "With our images generated and PyTorch dataloaders ready, we can now move on to building our neural network model.\n",
    "\n",
    "Since our task is relatively straightforward, we don’t need a highly complex model. In this example, we define a simple convolutional neural network (CNN) that will perform well on basic image classification tasks. Our model will inherit from `torch.nn.Module`, a base class in PyTorch used for creating neural network models. Any model that inherits from this class must implement at least a `forward` function, which defines how data will pass through the network layers.\n",
    "\n",
    "The `forward` function is automatically called whenever we pass data through the network. Here, it receives a batch of images, but it could take multiple inputs if needed, such as:\n",
    "\n",
    "- Image pairs to check if they are similar\n",
    "- Triple images to identify the one that differs from the others\n",
    "\n",
    "### Architecture\n",
    "\n",
    "In the `__init__` function, we set up our model’s architecture. This example (`SimpleNet`) consists of three main components:\n",
    "\n",
    "1. **Feature Processing** (`self.features`): This part is made up of three convolutional blocks. Each block includes:\n",
    "   - **Convolutional Layer**: Extracts features by applying filters to the input images.\n",
    "   - **Batch Normalisation**: Stabilises training by normalising activations.\n",
    "   - **ReLU Activation**: Introduces non-linearity, helping the model to learn complex patterns.\n",
    "   - **Max Pooling**: Reduces the spatial dimensions (height and width), keeping the most important features.\n",
    "\n",
    "2. **Global Average Pooling** (`self.avgpool`): This layer pools the features across the entire spatial resolution, producing a summary of each feature map.\n",
    "\n",
    "3. **Classifier** (`self.classifier`): This fully connected (linear) layer maps the extracted features to the number of classes, providing the final predictions.\n",
    "\n",
    "Let’s dive into the code to see how this structure is implemented."
   ]
  },
  {
   "cell_type": "code",
   "execution_count": 12,
   "metadata": {
    "id": "_g4R-M3dYy9c",
    "tags": []
   },
   "outputs": [],
   "source": [
    "# Define the Simple CNN Model\n",
    "class SimpleNet(nn.Module):\n",
    "    def __init__(self, num_classes: int) -> None:\n",
    "        \"\"\"\n",
    "        Initialises the layers of the network.\n",
    "        \n",
    "        Args:\n",
    "            num_classes (int): Number of output classes for classification.\n",
    "        \"\"\"\n",
    "        super().__init__()\n",
    "        \n",
    "        # Feature extraction layers\n",
    "        self.features = nn.Sequential(\n",
    "            nn.Conv2d(3, 16, kernel_size=3, stride=1, padding=1),  # Input channels=3 (RGB), Output channels=16\n",
    "            nn.BatchNorm2d(16),                                    # Batch normalisation for 16 channels\n",
    "            nn.ReLU(inplace=True),                                 # Activation function\n",
    "            nn.MaxPool2d(kernel_size=3, stride=2),                 # Max pooling with 3x3 filter and stride of 2\n",
    "\n",
    "            nn.Conv2d(16, 32, kernel_size=3, stride=1, padding=1), # Increase channels to 32\n",
    "            nn.BatchNorm2d(32),\n",
    "            nn.ReLU(inplace=True),\n",
    "            nn.MaxPool2d(kernel_size=3, stride=2),\n",
    "\n",
    "            nn.Conv2d(32, 64, kernel_size=3, stride=1, padding=1), # Further increase channels to 64\n",
    "            nn.BatchNorm2d(64),\n",
    "            nn.ReLU(inplace=True),\n",
    "            nn.MaxPool2d(kernel_size=3, stride=2)\n",
    "        )\n",
    "        \n",
    "        # Global average pooling to reduce spatial dimensions to 1x1\n",
    "        self.avgpool = nn.AdaptiveAvgPool2d((1, 1))\n",
    "        \n",
    "        # Classification layer (fully connected layer)\n",
    "        # Input size is 64, as it matches the output channels of the last convolution layer\n",
    "        self.classifier = nn.Linear(1 * 1 * 64, num_classes)\n",
    "\n",
    "    def forward(self, x: torch.Tensor) -> torch.Tensor:\n",
    "        \"\"\"\n",
    "        Defines the forward pass through the network.\n",
    "        \n",
    "        Args:\n",
    "            x (torch.Tensor): Input batch of images.\n",
    "        \n",
    "        Returns:\n",
    "            torch.Tensor: Output predictions for each input image.\n",
    "        \"\"\"\n",
    "        # Pass the input through the feature extraction layers\n",
    "        x = self.features(x)\n",
    "        \n",
    "        # Apply global average pooling\n",
    "        x = self.avgpool(x)\n",
    "        \n",
    "        # Flatten the output from the feature extraction to 1D (required by classifier)\n",
    "        x = torch.flatten(x, 1)\n",
    "        \n",
    "        # Pass through the classification layer to get the final output\n",
    "        x = self.classifier(x)\n",
    "        \n",
    "        return x"
   ]
  },
  {
   "cell_type": "markdown",
   "metadata": {},
   "source": [
    "Explanation of Key Components:\n",
    "\n",
    "1. **Feature Extraction Layers (`self.features`)**: Each convolutional block in `self.features` extracts increasingly complex patterns from the images. The convolutional layers increase the depth (number of channels) of the feature maps from 3 (RGB channels) to 16, 32, and finally 64. Batch normalisation stabilises the activations, and ReLU introduces non-linearities that help the model learn complex features.\n",
    "\n",
    "2. **Global Average Pooling (`self.avgpool`)**: By reducing the feature maps to a single value per channel, global average pooling summarises the features and allows the classifier to operate on a fixed-size input, regardless of the image dimensions.\n",
    "\n",
    "3. **Fully Connected Layer (`self.classifier`)**: This layer maps the processed features to the number of classes, producing the final predictions. Here, `num_classes` represents the number of categories we want to classify."
   ]
  },
  {
   "cell_type": "markdown",
   "metadata": {
    "id": "kduyk4snNdcO"
   },
   "source": [
    "### Network\n",
    "Now that we’ve defined the model architecture, we’ll create an instance of `SimpleNet`, specifying the number of output classes. We then move the model to the GPU for faster computation if available, and print out the model’s structure to verify."
   ]
  },
  {
   "cell_type": "code",
   "execution_count": 13,
   "metadata": {
    "colab": {
     "base_uri": "https://localhost:8080/"
    },
    "id": "SZ56BMrOY0WB",
    "outputId": "d5e336bd-bc89-4fd5-abde-b8a98d6a5815",
    "tags": []
   },
   "outputs": [
    {
     "name": "stdout",
     "output_type": "stream",
     "text": [
      "SimpleNet(\n",
      "  (features): Sequential(\n",
      "    (0): Conv2d(3, 16, kernel_size=(3, 3), stride=(1, 1), padding=(1, 1))\n",
      "    (1): BatchNorm2d(16, eps=1e-05, momentum=0.1, affine=True, track_running_stats=True)\n",
      "    (2): ReLU(inplace=True)\n",
      "    (3): MaxPool2d(kernel_size=3, stride=2, padding=0, dilation=1, ceil_mode=False)\n",
      "    (4): Conv2d(16, 32, kernel_size=(3, 3), stride=(1, 1), padding=(1, 1))\n",
      "    (5): BatchNorm2d(32, eps=1e-05, momentum=0.1, affine=True, track_running_stats=True)\n",
      "    (6): ReLU(inplace=True)\n",
      "    (7): MaxPool2d(kernel_size=3, stride=2, padding=0, dilation=1, ceil_mode=False)\n",
      "    (8): Conv2d(32, 64, kernel_size=(3, 3), stride=(1, 1), padding=(1, 1))\n",
      "    (9): BatchNorm2d(64, eps=1e-05, momentum=0.1, affine=True, track_running_stats=True)\n",
      "    (10): ReLU(inplace=True)\n",
      "    (11): MaxPool2d(kernel_size=3, stride=2, padding=0, dilation=1, ceil_mode=False)\n",
      "  )\n",
      "  (avgpool): AdaptiveAvgPool2d(output_size=(1, 1))\n",
      "  (classifier): Linear(in_features=64, out_features=3, bias=True)\n",
      ")\n"
     ]
    }
   ],
   "source": [
    "# Instantiate the model\n",
    "model = SimpleNet(num_classes=len(labels_map))\n",
    "\n",
    "# Move the model to the GPU if available\n",
    "model = model.to(device)\n",
    "\n",
    "# Print the model architecture to review\n",
    "print(model)"
   ]
  },
  {
   "cell_type": "markdown",
   "metadata": {
    "id": "NCK_IRpfN46V"
   },
   "source": [
    "## 3. Training and Testing Routines\n",
    "\n",
    "Now that we’ve prepared our dataset and built our model, it’s time to start training and evaluating our neural network. This section explains each component of the training process, including optimisation, loss calculation, and accuracy evaluation."
   ]
  },
  {
   "cell_type": "markdown",
   "metadata": {
    "id": "_bQ2l_xVODhe"
   },
   "source": [
    "### Optimiser\n",
    "\n",
    "The optimiser is responsible for updating the model's parameters to minimise the loss during training. When defining an optimiser, we choose which parameters to optimise, the optimisation algorithm, and a key parameter called the **learning rate**. The learning rate controls how much to adjust the model's parameters with each step.\n",
    "\n",
    "In our case, we use **Stochastic Gradient Descent (SGD)** with parameters for `momentum`, `learning_rate`, and `weight_decay`. Each plays an important role:\n",
    "\n",
    "- **Learning Rate**: Controls the step size in each update; too large a value might skip over optimal values, and too small a value could result in slow learning.\n",
    "- **Momentum**: Helps accelerate gradients to optimise faster and avoid oscillations.\n",
    "- **Weight Decay**: Adds a penalty to large weights to prevent overfitting.\n",
    "\n",
    "![learning-rate](https://www.jeremyjordan.me/content/images/2018/02/Screen-Shot-2018-02-24-at-11.47.09-AM.png)"
   ]
  },
  {
   "cell_type": "code",
   "execution_count": 14,
   "metadata": {
    "id": "6bZjzl8lY1sm",
    "tags": []
   },
   "outputs": [],
   "source": [
    "# Define optimiser and criterion\n",
    "params_to_optimise = [{'params': [p for p in model.parameters()]}]\n",
    "momentum = 0.9\n",
    "learning_rate = 0.01\n",
    "weight_decay = 1e-4\n",
    "\n",
    "# Initialising the SGD optimiser with specified parameters\n",
    "optimiser = torch.optim.SGD(\n",
    "    params=params_to_optimise,\n",
    "    lr=learning_rate,\n",
    "    momentum=momentum,\n",
    "    weight_decay=weight_decay\n",
    ")"
   ]
  },
  {
   "cell_type": "markdown",
   "metadata": {
    "id": "jNScQtSdOWLG"
   },
   "source": [
    "### Loss Function\n",
    "\n",
    "The **loss function** quantifies how well the model’s predictions match the ground truth. In this example, we use **categorical cross-entropy** (`nn.CrossEntropyLoss`) as our loss function, which is well-suited for classification tasks where the goal is to correctly categorise inputs into discrete classes (like recognising different shapes).\n",
    "\n",
    "We can consider the learning paradigm in this example to be **semi-supervised**. The ground-truth labels for our shapes were not manually annotated by humans. Instead, we automatically generated these labels using mathematical equations to define the geometrical shapes. This approach allowed us to skip the laborious process of manually labelling each image, providing labelled data in a more efficient way."
   ]
  },
  {
   "cell_type": "code",
   "execution_count": 15,
   "metadata": {
    "id": "Ffu7D8MjOWns",
    "tags": []
   },
   "outputs": [],
   "source": [
    "# Initialise the loss function (categorical cross-entropy)\n",
    "criterion = nn.CrossEntropyLoss().to(device)"
   ]
  },
  {
   "cell_type": "markdown",
   "metadata": {
    "id": "ZRC0kzipPIhJ"
   },
   "source": [
    "### Training-testing Utility Functions\n",
    "\n",
    "To evaluate model performance, we use an `accuracy` function that calculates how many predictions match the ground truth."
   ]
  },
  {
   "cell_type": "code",
   "execution_count": 16,
   "metadata": {
    "tags": []
   },
   "outputs": [],
   "source": [
    "def accuracy(output, target, topk=(1,)):\n",
    "    \"\"\"\n",
    "    Computes the accuracy over the top k predictions.\n",
    "    \n",
    "    Args:\n",
    "        output (torch.Tensor): Model predictions.\n",
    "        target (torch.Tensor): Ground truth labels.\n",
    "        topk (tuple): Top k values to compute accuracy for.\n",
    "    \n",
    "    Returns:\n",
    "        List of accuracies for specified top k values.\n",
    "    \"\"\"\n",
    "    with torch.no_grad():\n",
    "        maxk = max(topk)\n",
    "        batch_size = target.size(0)\n",
    "\n",
    "        # Get top k predictions\n",
    "        _, pred = output.topk(maxk, 1, True, True)\n",
    "        pred = pred.t()\n",
    "        correct = pred.eq(target.view(1, -1).expand_as(pred))\n",
    "\n",
    "        res = []\n",
    "        for k in topk:\n",
    "            correct_k = correct[:k].reshape(-1).float().sum(0, keepdim=True)\n",
    "            res.append(correct_k.mul_(100.0 / batch_size))\n",
    "        return res"
   ]
  },
  {
   "cell_type": "markdown",
   "metadata": {},
   "source": [
    "To train and evaluate our model, we define a utility function called `epoch_loop`, which performs the operations required in each epoch. An **epoch** refers to one complete pass through the entire dataset—essentially, processing all samples in the dataset once.\n",
    "\n",
    "Since much of the code for training and testing is similar, it’s efficient to combine both procedures into a single function. The parts that differ for training and testing can be separated within the function using conditional statements. For example, during training, we need to perform additional steps to update the model’s parameters:\n",
    "\n",
    "1. **Compute the Gradient**: We reset the gradients with `optimizer.zero_grad()`, ensuring that previous gradients do not interfere with the current update.\n",
    "2. **Backpropagate the Loss**: We calculate the gradients with `loss.backward()`, which backpropagates the loss to update each parameter in the network.\n",
    "3. **Optimise the Weights**: Finally, `optimizer.step()` adjusts the weights based on the computed gradients, helping the model learn from the errors.\n",
    "\n",
    "<font color='red'>**Important**</font>: When evaluating (or testing) a model, it’s essential to call the `.eval()` method. This prevents certain layers (like dropout or batch normalisation) from updating, ensuring a consistent evaluation.\n",
    "\n",
    "<font color='red'>**Important**</font>: Also, use `torch.set_grad_enabled()` to specify whether gradients should be calculated (`True` during training and `False` during testing)."
   ]
  },
  {
   "cell_type": "code",
   "execution_count": 17,
   "metadata": {
    "id": "5fzUMuA7ZUft",
    "tags": []
   },
   "outputs": [],
   "source": [
    "def epoch_loop(model, db_loader, criterion, optimiser=None):\n",
    "    \"\"\"\n",
    "    Run a single epoch for training or testing.\n",
    "    \n",
    "    Args:\n",
    "        model (torch.nn.Module): The model to train/test.\n",
    "        db_loader (DataLoader): Data loader for training or testing data.\n",
    "        criterion (Loss Function): Loss function for computing the error.\n",
    "        optimiser (torch.optim.Optimizer): Optimiser for training; if None, evaluation mode is assumed.\n",
    "        \n",
    "    Returns:\n",
    "        accuracies (list): List of accuracies for each batch.\n",
    "        losses (list): List of losses for each batch.\n",
    "    \"\"\"\n",
    "    # Determine whether in training mode\n",
    "    is_train = optimiser is not None\n",
    "    model.train() if is_train else model.eval()\n",
    "    \n",
    "    accuracies = []\n",
    "    losses = []\n",
    "    \n",
    "    # Disable gradient computation for evaluation\n",
    "    with torch.set_grad_enabled(is_train):\n",
    "        for batch_ind, (img, target) in enumerate(db_loader):\n",
    "            # Move images and targets to device (GPU or CPU)\n",
    "            img = img.to(device)\n",
    "            target = target.to(device)\n",
    "            \n",
    "            # Forward pass: compute output and loss\n",
    "            output = model(img)\n",
    "            loss = criterion(output, target)\n",
    "            losses.extend([loss.item() for _ in range(img.size(0))])\n",
    "\n",
    "            # Compute accuracy\n",
    "            acc = accuracy(output, target)[0].cpu().numpy()\n",
    "            accuracies.extend([acc[0] for _ in range(img.size(0))])\n",
    "            \n",
    "            # Backward pass and optimisation step for training\n",
    "            if is_train:\n",
    "                optimiser.zero_grad()   # Reset gradients\n",
    "                loss.backward()         # Backpropagate loss\n",
    "                optimiser.step()        # Update parameters\n",
    "    \n",
    "    return accuracies, losses"
   ]
  },
  {
   "cell_type": "markdown",
   "metadata": {
    "id": "zG7YaY-XQOJM"
   },
   "source": [
    "## 4. Actual Learning\n",
    "\n",
    "With all components set up (data, model, loss, and optimiser), we can start the training and testing loop. In this example, we train the model for 10 epochs, meaning the model will go through all data points 10 times."
   ]
  },
  {
   "cell_type": "code",
   "execution_count": 18,
   "metadata": {
    "colab": {
     "base_uri": "https://localhost:8080/"
    },
    "id": "5Lj9yo7MZVoc",
    "outputId": "016be019-e349-4df8-ed40-a96e8f75026c",
    "tags": []
   },
   "outputs": [
    {
     "name": "stdout",
     "output_type": "stream",
     "text": [
      "[Epoch 00] Train loss=1.1124, acc=40.90  |  Test loss=1.2221, acc=42.00\n",
      "[Epoch 01] Train loss=1.1025, acc=41.10  |  Test loss=1.2636, acc=38.00\n",
      "[Epoch 02] Train loss=1.0391, acc=46.90  |  Test loss=1.0798, acc=48.00\n",
      "[Epoch 03] Train loss=0.9091, acc=54.70  |  Test loss=0.8103, acc=59.00\n",
      "[Epoch 04] Train loss=0.8988, acc=53.10  |  Test loss=1.0602, acc=47.00\n",
      "[Epoch 05] Train loss=0.7880, acc=58.10  |  Test loss=0.6772, acc=66.00\n",
      "[Epoch 06] Train loss=0.8650, acc=56.50  |  Test loss=1.1552, acc=46.00\n",
      "[Epoch 07] Train loss=0.7641, acc=61.60  |  Test loss=0.6309, acc=64.00\n",
      "[Epoch 08] Train loss=0.6566, acc=62.60  |  Test loss=0.6128, acc=61.00\n",
      "[Epoch 09] Train loss=0.6392, acc=62.90  |  Test loss=0.9192, acc=49.00\n"
     ]
    }
   ],
   "source": [
    "# Set the number of epochs for training\n",
    "epochs = 10\n",
    "initial_epoch = 0\n",
    "\n",
    "# Logs for tracking accuracy and loss over time\n",
    "train_logs = {'acc': [], 'loss': []}\n",
    "val_logs = {'acc': [], 'loss': []}\n",
    "\n",
    "for epoch in range(initial_epoch, epochs):\n",
    "    # Run a training epoch\n",
    "    train_log = epoch_loop(model, train_loader, criterion, optimiser)\n",
    "    \n",
    "    # Run a validation epoch (no optimiser, so the model is in evaluation mode)\n",
    "    val_log = epoch_loop(model, val_loader, criterion, optimiser=None)\n",
    "    \n",
    "    # Print training and validation results for this epoch\n",
    "    print('[Epoch %02d] Train loss=%.4f, acc=%.2f  |  Test loss=%.4f, acc=%.2f' % \n",
    "          (\n",
    "              epoch, \n",
    "              np.mean(train_log[1]), np.mean(train_log[0]),\n",
    "              np.mean(val_log[1]), np.mean(val_log[0])\n",
    "          ))\n",
    "    \n",
    "    # Log the results for plotting later\n",
    "    train_logs['acc'].append(np.mean(train_log[0]))\n",
    "    train_logs['loss'].append(np.mean(train_log[1]))\n",
    "    val_logs['acc'].append(np.mean(val_log[0]))\n",
    "    val_logs['loss'].append(np.mean(val_log[1]))"
   ]
  },
  {
   "cell_type": "markdown",
   "metadata": {
    "id": "qphZ38oFRM4h"
   },
   "source": [
    "## 5. Reporting Results\n",
    "\n",
    "Finally, we’ll plot the accuracy and loss over the training epochs to evaluate the model’s performance. These plots can reveal if the model is improving over time or if adjustments are needed to hyperparameters."
   ]
  },
  {
   "cell_type": "code",
   "execution_count": 19,
   "metadata": {
    "colab": {
     "base_uri": "https://localhost:8080/",
     "height": 516
    },
    "id": "0GBwhqtFZXts",
    "outputId": "600d17dc-f06f-4181-adfb-ab9a8ef98512",
    "tags": []
   },
   "outputs": [
    {
     "data": {
      "image/png": "[encoded data removed]",
      "text/plain": [
       "<Figure size 1600x400 with 2 Axes>"
      ]
     },
     "metadata": {},
     "output_type": "display_data"
    }
   ],
   "source": [
    "# Plot accuracy and loss over epochs\n",
    "fig = plt.figure(figsize=(16, 4))\n",
    "\n",
    "# Plot accuracy\n",
    "ax = fig.add_subplot(1, 2, 1)\n",
    "ax.plot(train_logs['acc'], '-x', label='Train')\n",
    "ax.plot(val_logs['acc'], '-o', label='Validation')\n",
    "ax.set_title('Model Accuracy')\n",
    "ax.set_xlabel('Epoch Number')\n",
    "ax.set_ylabel('Accuracy')\n",
    "ax.legend()\n",
    "\n",
    "# Plot loss\n",
    "ax = fig.add_subplot(1, 2, 2)\n",
    "ax.plot(train_logs['loss'], '-x', label='Train')\n",
    "ax.plot(val_logs['loss'], '-o', label='Validation')\n",
    "ax.set_title('Model Loss')\n",
    "ax.set_xlabel('Epoch Number')\n",
    "ax.set_ylabel('Loss')\n",
    "ax.legend()\n",
    "\n",
    "plt.show()"
   ]
  },
  {
   "cell_type": "markdown",
   "metadata": {},
   "source": [
    "## Exercises\n",
    "\n",
    "These exercises are designed to help you extend and test the concepts covered in this chapter. Each exercise challenges you to apply your knowledge to adjust the data handling, background properties, and shape complexity of the dataset.\n",
    "\n",
    "### 1. Implementing a Dataloader to Load Images from Disk\n",
    "\n",
    "As discussed, we generally cannot load all images into memory due to limitations, especially when working with large datasets. \n",
    "\n",
    "**Objective**: Modify the code to load images on the fly from a specified directory structure.\n",
    "\n",
    "1. Download this [zip file](https://www.dropbox.com/s/rltbecab0zx1zep/shape_set.zip?dl=0) and extract it. The directory contains:\n",
    "    - Two subfolders: `train` and `test`, holding the training and test images, respectively.\n",
    "    - Two CSV files with ground truth labels for the images in `train` and `test`.\n",
    "\n",
    "2. Update the dataloader to accept a directory path as an argument. \n",
    "\n",
    "3. Instead of loading all images at once, adjust the `__getitem__` function in your `Dataset` class to load each image directly from disk. This function should read each image and return it with its associated label.\n",
    "\n",
    "This approach enables efficient memory usage and prepares you to work with real-world datasets that cannot fit into memory."
   ]
  },
  {
   "cell_type": "markdown",
   "metadata": {},
   "source": [
    "### 2. Exploring the Effect of Background Colour in Training and Testing\n",
    "\n",
    "In this exercise, you will experiment with the background colour of images in the training and test sets. By changing background properties, you can investigate how well the model generalises under different conditions.\n",
    "\n",
    "1. **Achromatic vs Colourful Backgrounds**:\n",
    "   - Update the dataloader to accept an argument specifying the type of background (achromatic or colourful).\n",
    "   - For the training set, use only **achromatic (greyscale) backgrounds**.\n",
    "   - For the test set, use **colourful backgrounds**.\n",
    "   - Train the model and observe if it can generalise to images with colourful backgrounds in the test set.\n",
    "\n",
    "2. **Swap Background Colours**:\n",
    "   - Switch the backgrounds so that the training set has **colourful backgrounds** and the test set has **greyscale backgrounds**.\n",
    "   - Observe how this impacts the model’s performance.\n",
    "\n",
    "3. **Experiments with Foreground Colours**:\n",
    "   - Conduct similar experiments by modifying the colours of the foreground shapes instead of the background. \n",
    "\n",
    "**Bonus**: If the model struggles to learn the task with these manipulations, experiment with additional training epochs, or modify the network architecture to improve test accuracy. This challenge will help you understand how to tune model complexity and training duration for more complex tasks."
   ]
  },
  {
   "cell_type": "markdown",
   "metadata": {},
   "source": [
    "### 3. Adding New Geometrical Shapes to the Dataset\n",
    "\n",
    "Our current dataset contains only three types of geometrical shapes. This exercise involves expanding the dataset by adding one or more new shapes, such as squares or triangles.\n",
    "\n",
    "1. Modify the data generation function to add at least one new shape.\n",
    "2. Visualise a few examples of your updated dataset to confirm the new shapes are included.\n",
    "3. Update the network and training code to accommodate the expanded set of classes, then train the model with the new dataset. \n",
    "\n",
    "By extending the dataset, you’ll learn how to adapt your data generation and model design to recognise an increased number of classes. This is useful practice for scaling models to handle more complex data."
   ]
  }
 ],
 "metadata": {
  "accelerator": "GPU",
  "colab": {
   "provenance": [],
   "toc_visible": true
  },
  "kernelspec": {
   "display_name": "Python 3 (ipykernel)",
   "language": "python",
   "name": "python3"
  },
  "language_info": {
   "codemirror_mode": {
    "name": "ipython",
    "version": 3
   },
   "file_extension": ".py",
   "mimetype": "text/x-python",
   "name": "python",
   "nbconvert_exporter": "python",
   "pygments_lexer": "ipython3",
   "version": "3.10.12"
  }
 },
 "nbformat": 4,
 "nbformat_minor": 4
}