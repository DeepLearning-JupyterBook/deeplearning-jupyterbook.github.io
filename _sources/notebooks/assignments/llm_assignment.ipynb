{
 "cells": [
  {
   "cell_type": "markdown",
   "id": "5796c1f6-311f-41dd-805d-52a0b00294e4",
   "metadata": {},
   "source": [
    "# LLM Calculator\n",
    "\n",
    "The objective of this assignment is to deepen your understanding of large language models (LLMs) and explore how these models can be used to perform different functions, such as mathematical calculations. This exercise builds on the concepts covered in the previous [LLM notebook](../llm.ipynb) and introduces practical challenges to enhance your skills."
   ]
  },
  {
   "cell_type": "markdown",
   "id": "c6597b91-354b-4281-baf9-4ecf3a04e9d5",
   "metadata": {},
   "source": [
    "## Assignment\n",
    "\n",
    "Complete the following tasks, and submit your responses in a single **notebook (.ipynb)** containing code, explanations, and any visualisations (if applicable). The notebook should be well-commented and self-contained, so it can be executed on other machines without modifications."
   ]
  },
  {
   "cell_type": "markdown",
   "id": "d3cc2f48-96cb-4113-9101-c63d38a29e2e",
   "metadata": {},
   "source": [
    "### 1. Autoregressive Summation\n",
    "\n",
    "In the [LLM notebook](../llm.ipynb), we practised text generation using a simple dataset, such as Tiny Shakespeare. Here, the goal is to determine whether the same approach can be adapted to perform basic arithmetic—specifically, to compute the sum of two numbers, such as $a + b = c$.\n",
    "\n",
    "To complete this task:\n",
    "\n",
    "1. **Generate a dataset** that includes a wide variety of summation examples, covering both positive and negative integers. You may choose to generate these examples dynamically in the code or create a static dataset saved in a file.\n",
    "2. **Create a validation set** that remains constant across all experiments. This will enable consistent evaluation of model performance on different versions and settings.\n",
    "3. **Model adjustments**: Consider whether any changes to the model architecture or hyperparameters are necessary to enable the model to learn summation.\n",
    "4. **Evaluation**: Check if the model can learn the summation task effectively. Measure its accuracy on the validation set.\n",
    "\n",
    "Reflect on the results and discuss the accuracy of the model in predicting the correct sums."
   ]
  },
  {
   "cell_type": "markdown",
   "id": "57f5bc46-5802-4acc-a6e4-89564a9a5a6c",
   "metadata": {},
   "source": [
    "### 2. Subtraction\n",
    "\n",
    "Similar to the task above, investigate whether the model can learn subtraction, expressed as $a - b = c$.\n",
    "\n",
    "- **Dataset**: Extend or modify your dataset to include subtraction examples with both positive and negative numbers.\n",
    "- **Performance Evaluation**: Assess the model’s accuracy on this new task. \n",
    "- **Comparison**: Does the model learn both summation and subtraction, or does it struggle to handle both operations simultaneously?\n",
    "\n",
    "Provide insights into any challenges encountered and analyse whether the model is equally capable of learning both tasks."
   ]
  },
  {
   "cell_type": "markdown",
   "id": "0f864146-bccc-422f-bb57-aa5a7d278c70",
   "metadata": {},
   "source": [
    "***\n",
    "\n",
    "## Bonus Questions (Optional)\n",
    "\n",
    "These additional tasks are optional but offer extra points for those interested in exploring further."
   ]
  },
  {
   "cell_type": "markdown",
   "id": "536efe44-78fd-4985-9a33-72a132eb2a8f",
   "metadata": {},
   "source": [
    "### 3. Multiplication and Division\n",
    "\n",
    "Extend the model’s functionality to handle multiplication $a \\times b = c$ and division $\\frac{a}{b} = c$.\n",
    "\n",
    "- **Dataset Expansion**: Update your dataset to include examples of multiplication and division.\n",
    "- **Challenges and Observations**: Note any challenges in training the model on these operations and evaluate its performance."
   ]
  },
  {
   "cell_type": "markdown",
   "id": "f4187a28-f7a3-4e2b-b381-baf6078de771",
   "metadata": {},
   "source": [
    "### 4. More Advanced Calculator\n",
    "\n",
    "Investigate whether other mathematical operations or expressions (e.g., powers, roots, or mixed operations) can be incorporated into your model. Document your findings and explain any limitations you observe."
   ]
  }
 ],
 "metadata": {
  "kernelspec": {
   "display_name": "Python 3 (ipykernel)",
   "language": "python",
   "name": "python3"
  },
  "language_info": {
   "codemirror_mode": {
    "name": "ipython",
    "version": 3
   },
   "file_extension": ".py",
   "mimetype": "text/x-python",
   "name": "python",
   "nbconvert_exporter": "python",
   "pygments_lexer": "ipython3",
   "version": "3.10.12"
  }
 },
 "nbformat": 4,
 "nbformat_minor": 5
}
