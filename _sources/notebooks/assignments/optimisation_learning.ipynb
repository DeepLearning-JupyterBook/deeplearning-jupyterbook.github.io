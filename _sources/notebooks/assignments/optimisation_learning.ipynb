{
 "cells": [
  {
   "cell_type": "markdown",
   "id": "6d2df358-492a-4e8e-af46-3d68dc42634b",
   "metadata": {},
   "source": [
    "# Optimisation and Learning\n",
    "\n",
    "The objective of this assignment is to familiarise yourself with loss functions and optimizer algorithms while exploring a real deep learning project. We will use the PyTorch framework to implement this."
   ]
  },
  {
   "cell_type": "markdown",
   "id": "3a636ee6-a9a8-4366-8b1f-3d1c966b7f21",
   "metadata": {},
   "source": [
    "## Prerequisite\n",
    "\n",
    "In the class, we worked on the [optimisation and learning notebook](../optimisation_learning.ipynb).\n",
    "The assignment is the continuation of that notebook."
   ]
  },
  {
   "cell_type": "markdown",
   "id": "2dbb3df3-a3c3-43c1-b54c-35f7c3dc9afa",
   "metadata": {},
   "source": [
    "## Submission\n",
    "\n",
    "Please do the following questions and submit it by **Tuesday, May 16 at 12h00 O'clock**.\n",
    "The submission is one or more **notebook (.ipynb)** files that can include code, comments, written texts, and plots."
   ]
  },
  {
   "cell_type": "markdown",
   "id": "4241b5fb-e81b-4d5e-9b46-8e7bb4eb0704",
   "metadata": {},
   "source": [
    "<a id='question0'></a>\n",
    "## 0. Create a function to train/test on one dataset\n",
    "\n",
    "In the optimisation and learning notebook, the train/test one a single dataset cell is written in script format. Change that to a function so you can easily use it for multiple experiments without the need to copy-paste that cell for each experiment. This way your submission will look nicer and you avoid potential bugs."
   ]
  },
  {
   "cell_type": "markdown",
   "id": "2cecab9c-e52b-4228-aef6-ad51283b0e60",
   "metadata": {},
   "source": [
    "<a id='question1'></a>\n",
    "## 1. Evolution of the predictions\n",
    "In the [optimisation and learning notebook](../optimisation_learning.ipynb) we visualised the data points with their corresponding labels (ground-truth).\n",
    "\n",
    "Use similar plotting functions to visualise the prediction of a network (colour code points in a way that shows for which points the network is correct/incorrect):\n",
    " * Plot this for every epoch.\n",
    " * Put all these plots into one single gif to see the evolution of predictions."
   ]
  },
  {
   "cell_type": "markdown",
   "id": "9796bc08-bab6-4886-8a3c-34a630fbf179",
   "metadata": {},
   "source": [
    "## 2. Evolution of the weights\n",
    "\n",
    "Our network in the [optimisation and learning notebook](../optimisation_learning.ipynb) contains very few parameters. The `linear1` layer is `torch.Size([5, 2])` and `linear2` is `torch.Size([1, 5])`. Analaye how weights change as a function of epoch number:\n",
    "* Visualise the weights change (with respect to the previous epoch) in a format you find most intuitive (e.g., using `matshow` using a constant grey colour map).\n",
    "* Similar to [Question-1](#question1) make a gif file for this visualisation. Comment on the speed of change as a function of epoch number.\n",
    "* Compare these analyses with a scenario where the learning rate is smaller."
   ]
  },
  {
   "cell_type": "markdown",
   "id": "c51b3b71-9284-4954-a3a5-32544b895960",
   "metadata": {},
   "source": [
    "## 3. Outlier in datasets\n",
    "\n",
    "Add a few outliers (e.g., 1% or 5% of data points) to one of the structured datasets we created in the [optimisation and learning notebook](../optimisation_learning.ipynb).\n",
    " * Train a network with different loss functions.\n",
    " * Compare the efficacy of each loss function for datasets with and without outliers.\n",
    " * Comment on your observations. Is there a loss which is particularly robust to outliers or particularly sensitive to it?"
   ]
  },
  {
   "cell_type": "markdown",
   "id": "3cfbab0c-679c-47ed-97ce-4be7bca786d0",
   "metadata": {},
   "source": [
    "## 4. Different optimiser algorithms\n",
    "\n",
    "In the class, we only looked at the SGD optimizer. Explore with a few other\n",
    "[optimiser algorithms](https://pytorch.org/docs/stable/optim.html#algorithms) that PyTorch support:\n",
    " * Change the function you created in [Question-0](#question0) to receive the name of the optimiser as a string argument and choose the optimizer accordingly.\n",
    " * For our toy example, is there a performance difference depending on which optimiser we use?\n",
    " * Do different optimisers need different learning rates?"
   ]
  }
 ],
 "metadata": {
  "kernelspec": {
   "display_name": "Python 3 (ipykernel)",
   "language": "python",
   "name": "python3"
  },
  "language_info": {
   "codemirror_mode": {
    "name": "ipython",
    "version": 3
   },
   "file_extension": ".py",
   "mimetype": "text/x-python",
   "name": "python",
   "nbconvert_exporter": "python",
   "pygments_lexer": "ipython3",
   "version": "3.10.12"
  }
 },
 "nbformat": 4,
 "nbformat_minor": 5
}
