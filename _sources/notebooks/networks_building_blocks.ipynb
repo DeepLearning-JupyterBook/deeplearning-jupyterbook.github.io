{
 "cells": [
  {
   "cell_type": "markdown",
   "id": "d9992aa5-640f-4b35-ae79-31b7bfa69d15",
   "metadata": {
    "editable": true,
    "slideshow": {
     "slide_type": ""
    },
    "tags": []
   },
   "source": [
    "# 1. Network's Building Blocks\n",
    "\n",
    "A deep neural network is composed of multiple layers that perform both linear and nonlinear \n",
    "operations. Let’s take a look at the layers of `AlexNet` to see what makes up its architecture \n",
    "by printing them out:"
   ]
  },
  {
   "cell_type": "code",
   "execution_count": 5,
   "id": "43ff7afd-0084-4793-bded-6fe6eeb0b6aa",
   "metadata": {
    "editable": true,
    "slideshow": {
     "slide_type": ""
    },
    "tags": []
   },
   "outputs": [
    {
     "data": {
      "text/plain": [
       "AlexNet(\n",
       "  (features): Sequential(\n",
       "    (0): Conv2d(3, 64, kernel_size=(11, 11), stride=(4, 4), padding=(2, 2))\n",
       "    (1): ReLU(inplace=True)\n",
       "    (2): MaxPool2d(kernel_size=3, stride=2, padding=0, dilation=1, ceil_mode=False)\n",
       "    (3): Conv2d(64, 192, kernel_size=(5, 5), stride=(1, 1), padding=(2, 2))\n",
       "    (4): ReLU(inplace=True)\n",
       "    (5): MaxPool2d(kernel_size=3, stride=2, padding=0, dilation=1, ceil_mode=False)\n",
       "    (6): Conv2d(192, 384, kernel_size=(3, 3), stride=(1, 1), padding=(1, 1))\n",
       "    (7): ReLU(inplace=True)\n",
       "    (8): Conv2d(384, 256, kernel_size=(3, 3), stride=(1, 1), padding=(1, 1))\n",
       "    (9): ReLU(inplace=True)\n",
       "    (10): Conv2d(256, 256, kernel_size=(3, 3), stride=(1, 1), padding=(1, 1))\n",
       "    (11): ReLU(inplace=True)\n",
       "    (12): MaxPool2d(kernel_size=3, stride=2, padding=0, dilation=1, ceil_mode=False)\n",
       "  )\n",
       "  (avgpool): AdaptiveAvgPool2d(output_size=(6, 6))\n",
       "  (classifier): Sequential(\n",
       "    (0): Dropout(p=0.5, inplace=False)\n",
       "    (1): Linear(in_features=9216, out_features=4096, bias=True)\n",
       "    (2): ReLU(inplace=True)\n",
       "    (3): Dropout(p=0.5, inplace=False)\n",
       "    (4): Linear(in_features=4096, out_features=4096, bias=True)\n",
       "    (5): ReLU(inplace=True)\n",
       "    (6): Linear(in_features=4096, out_features=1000, bias=True)\n",
       "  )\n",
       ")"
      ]
     },
     "execution_count": 5,
     "metadata": {},
     "output_type": "execute_result"
    }
   ],
   "source": [
    "import torchvision\n",
    "torchvision.models.alexnet(weights=None)"
   ]
  },
  {
   "cell_type": "markdown",
   "id": "e4fc1811-49d1-4417-9d7b-c9150d63acd0",
   "metadata": {},
   "source": [
    "We can observe that `AlexNet`'s architecture is made up of six different types of layers:\n",
    "\n",
    "- `Conv2d`: A convolutional layer that extracts features from the input image.\n",
    "- `ReLU`: An activation function that introduces non-linearity into the model.\n",
    "- `MaxPool2d`: A pooling layer that reduces the spatial dimensions of the feature maps.\n",
    "- `AdaptiveAvgPool2d`: A pooling layer that adjusts the output size, averaging spatial dimensions.\n",
    "- `Dropout`: A regularisation layer that helps prevent overfitting by randomly setting some activations to zero.\n",
    "- `Linear`: A fully connected layer that maps features to the output classes."
   ]
  },
  {
   "cell_type": "markdown",
   "id": "ef218bde-9215-4552-8ccd-414eb3ac4c85",
   "metadata": {
    "editable": true,
    "slideshow": {
     "slide_type": ""
    },
    "tags": []
   },
   "source": [
    "The goal of this chapter is to familiarise you with these basic operations that are common to all \n",
    "deep neural networks and show you how to use them to design your own architectures. In the \n",
    "following notebooks, we will explore these operations in detail:\n",
    "* [Convolution](convolution.ipynb)\n",
    "* [Activation function](activation_function.ipynb)\n",
    "* [Pooling](pooling.ipynb)\n",
    "* [Linear](linear.ipynb)"
   ]
  }
 ],
 "metadata": {
  "kernelspec": {
   "display_name": "Python 3 (ipykernel)",
   "language": "python",
   "name": "python3"
  },
  "language_info": {
   "codemirror_mode": {
    "name": "ipython",
    "version": 3
   },
   "file_extension": ".py",
   "mimetype": "text/x-python",
   "name": "python",
   "nbconvert_exporter": "python",
   "pygments_lexer": "ipython3",
   "version": "3.10.12"
  }
 },
 "nbformat": 4,
 "nbformat_minor": 5
}
