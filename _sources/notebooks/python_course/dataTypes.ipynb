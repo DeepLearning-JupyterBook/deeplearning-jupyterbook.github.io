{
 "cells": [
  {
   "cell_type": "markdown",
   "source": [
    "# Welcome to our first session: DataTypes\n",
    "\n",
    "As you probably know from MATLAB: there are several types of data we want and can store in variables: numbers, logical values, text, lists...\n",
    "\n",
    "### One thing in advance:\n",
    "We can check for the type of a variable by <b>type(VARIABLE)</b>\n",
    "\n",
    "## INTEGER:\n",
    "Integers embody whole numbers and can be added together, subtracted and so on..."
   ],
   "metadata": {
    "collapsed": false
   },
   "id": "779793257b41106c"
  },
  {
   "cell_type": "code",
   "outputs": [
    {
     "name": "stdout",
     "output_type": "stream",
     "text": [
      "-1\n",
      "<class 'int'>\n"
     ]
    }
   ],
   "source": [
    "a = 1\n",
    "b = 2\n",
    "\n",
    "print(a-b)\n",
    "print(type(a))"
   ],
   "metadata": {
    "collapsed": false,
    "ExecuteTime": {
     "end_time": "2024-04-16T18:04:33.524129400Z",
     "start_time": "2024-04-16T18:04:33.499419800Z"
    }
   },
   "id": "e0b787e855ba36f6",
   "execution_count": 11
  },
  {
   "cell_type": "markdown",
   "source": [
    "## FLOAT:\n",
    "Floats are \"floating point\" numbers. So they include decimals."
   ],
   "metadata": {
    "collapsed": false
   },
   "id": "cda787cd1e86281c"
  },
  {
   "cell_type": "code",
   "outputs": [
    {
     "name": "stdout",
     "output_type": "stream",
     "text": [
      "28.6\n",
      "<class 'float'>\n",
      "<class 'float'>\n"
     ]
    }
   ],
   "source": [
    "a = 1.3\n",
    "b = 22.0\n",
    "\n",
    "print(a*b)\n",
    "print(type(b))\n",
    "print(type(2/3))"
   ],
   "metadata": {
    "collapsed": false,
    "ExecuteTime": {
     "end_time": "2024-04-16T18:04:33.566121Z",
     "start_time": "2024-04-16T18:04:33.529130100Z"
    }
   },
   "id": "fab8afe020d03420",
   "execution_count": 12
  },
  {
   "cell_type": "markdown",
   "source": [
    "## STRING:\n",
    "Strings are chains of characters and can be created by using single or double quotes. There are several operations that can be performed on strings (for example attaching them to each other by using +)."
   ],
   "metadata": {
    "collapsed": false
   },
   "id": "78ecee83b68393c8"
  },
  {
   "cell_type": "code",
   "outputs": [
    {
     "name": "stdout",
     "output_type": "stream",
     "text": [
      "This is a string\n",
      "<class 'str'>\n"
     ]
    }
   ],
   "source": [
    "a = \"This is a \"\n",
    "b = \"string\"\n",
    "\n",
    "print(a+b)\n",
    "print(type(a))"
   ],
   "metadata": {
    "collapsed": false,
    "ExecuteTime": {
     "end_time": "2024-04-16T18:04:33.596006700Z",
     "start_time": "2024-04-16T18:04:33.571482500Z"
    }
   },
   "id": "b6896a137c8e5fe8",
   "execution_count": 13
  },
  {
   "cell_type": "markdown",
   "source": [
    "## BOOLEAN:\n",
    "Booleans are logical values. They can be either True or False. We will explore them more when dealing with conditions."
   ],
   "metadata": {
    "collapsed": false
   },
   "id": "db733f6187164d6"
  },
  {
   "cell_type": "code",
   "outputs": [
    {
     "name": "stdout",
     "output_type": "stream",
     "text": [
      "True\n",
      "<class 'bool'>\n",
      "False\n"
     ]
    }
   ],
   "source": [
    "a = True\n",
    "b = False\n",
    "\n",
    "print(a)\n",
    "print(type(b))\n",
    "print(a and b)"
   ],
   "metadata": {
    "collapsed": false,
    "ExecuteTime": {
     "end_time": "2024-04-16T18:04:33.660566400Z",
     "start_time": "2024-04-16T18:04:33.601009900Z"
    }
   },
   "id": "34b0639efa1f1fdc",
   "execution_count": 14
  },
  {
   "cell_type": "markdown",
   "source": [
    "## LIST:\n",
    "Lists are a collection of items. They can be of different types and can be changed. They are created by using square brackets. To access an item by its index, we use square brackets as well.\n",
    "<b>IMPORTANT:</b> In Python our index starts at 0. You can also use negative indices to access the list from the end. Strings can be accessed in the same way."
   ],
   "metadata": {
    "collapsed": false
   },
   "id": "5b4eddf576a66d1e"
  },
  {
   "cell_type": "code",
   "outputs": [
    {
     "name": "stdout",
     "output_type": "stream",
     "text": [
      "[1, 2, 3, 4, 5]\n",
      "<class 'list'>\n",
      "[1, 2, 3, 4, 5, 'a', 'b', 'c', 'd', 'e']\n",
      "1\n",
      "e\n",
      "[3, 4, 5]\n",
      "[3, 4, 5, 'a', 'b', 'c', 'd', 'e']\n",
      "[1]\n"
     ]
    }
   ],
   "source": [
    "a = [1,2,3,4,5]\n",
    "b = [\"a\",\"b\",\"c\",\"d\",\"e\"]\n",
    "\n",
    "c = a+b\n",
    "\n",
    "print(a)\n",
    "print(type(b))\n",
    "print(c)\n",
    "print(c[0]) # first element\n",
    "print(c[-1]) # last element\n",
    "print(c[2:5]) # elements from index 2 to 4\n",
    "print(c[2:]) # elements from index 2 to the end\n",
    "print(c[:1]) # elements from the beginning to index 1"
   ],
   "metadata": {
    "collapsed": false,
    "ExecuteTime": {
     "end_time": "2024-04-16T18:04:33.661564600Z",
     "start_time": "2024-04-16T18:04:33.607831500Z"
    }
   },
   "id": "859b48e9b69755cd",
   "execution_count": 15
  },
  {
   "cell_type": "markdown",
   "source": [
    "To get the length of a list, we can use the len() function."
   ],
   "metadata": {
    "collapsed": false
   },
   "id": "e8e29342175bed35"
  },
  {
   "cell_type": "code",
   "outputs": [
    {
     "name": "stdout",
     "output_type": "stream",
     "text": [
      "10\n"
     ]
    }
   ],
   "source": [
    "print(len(c))"
   ],
   "metadata": {
    "collapsed": false,
    "ExecuteTime": {
     "end_time": "2024-04-16T18:04:33.662563100Z",
     "start_time": "2024-04-16T18:04:33.617289800Z"
    }
   },
   "id": "14069099ad65facd",
   "execution_count": 16
  },
  {
   "cell_type": "markdown",
   "source": [
    "Lists can be changed by assigning a new value to an index."
   ],
   "metadata": {
    "collapsed": false
   },
   "id": "20b11aa94d5e82fb"
  },
  {
   "cell_type": "code",
   "outputs": [
    {
     "name": "stdout",
     "output_type": "stream",
     "text": [
      "[6, 2, 3, 4, 5]\n"
     ]
    }
   ],
   "source": [
    "a[0] = 6\n",
    "\n",
    "print(a)"
   ],
   "metadata": {
    "collapsed": false,
    "ExecuteTime": {
     "end_time": "2024-04-16T18:04:33.679356500Z",
     "start_time": "2024-04-16T18:04:33.626050Z"
    }
   },
   "id": "be0990244eff6b83",
   "execution_count": 17
  },
  {
   "cell_type": "markdown",
   "source": [
    "Lists can be extended by using the append() function. This function adds an item to the end of the list."
   ],
   "metadata": {
    "collapsed": false
   },
   "id": "2fb3db0ea43f2be4"
  },
  {
   "cell_type": "code",
   "outputs": [
    {
     "name": "stdout",
     "output_type": "stream",
     "text": [
      "[1, 2, 3, 4, 5, 6]\n"
     ]
    }
   ],
   "source": [
    "a = [1,2,3,4,5]\n",
    "\n",
    "a.append(6)\n",
    "\n",
    "print(a)"
   ],
   "metadata": {
    "collapsed": false,
    "ExecuteTime": {
     "end_time": "2024-04-16T18:04:33.758379600Z",
     "start_time": "2024-04-16T18:04:33.666564400Z"
    }
   },
   "id": "eea7c2ce7b3d04dc",
   "execution_count": 18
  },
  {
   "cell_type": "markdown",
   "source": [
    "## TUPLE:\n",
    "Tuples are similar to lists but they cannot be changed. They are created by using round brackets."
   ],
   "metadata": {
    "collapsed": false
   },
   "id": "6c9412bdff3746cf"
  },
  {
   "cell_type": "code",
   "outputs": [
    {
     "name": "stdout",
     "output_type": "stream",
     "text": [
      "(1, 2, 3, 4, 5)\n",
      "<class 'tuple'>\n"
     ]
    }
   ],
   "source": [
    "a = (1,2,3,4,5)\n",
    "\n",
    "print(a)\n",
    "print(type(a))"
   ],
   "metadata": {
    "collapsed": false,
    "ExecuteTime": {
     "end_time": "2024-04-16T18:04:33.774286500Z",
     "start_time": "2024-04-16T18:04:33.765386300Z"
    }
   },
   "id": "8fabd86e9d4258d7",
   "execution_count": 19
  },
  {
   "cell_type": "markdown",
   "source": [
    "## DICTIONARY:\n",
    "Dictionaries are a collection of key-value pairs. They are created by using curly brackets. We can use the key to access the corresponding value. To access the value, we use square brackets. The type of the value can be anything."
   ],
   "metadata": {
    "collapsed": false
   },
   "id": "577e9224a5f99cf"
  },
  {
   "cell_type": "code",
   "outputs": [
    {
     "name": "stdout",
     "output_type": "stream",
     "text": [
      "{'name': 'Alex', 'age': 30, 'city': 'Koblenz'}\n",
      "Alex\n",
      "<class 'dict'>\n"
     ]
    }
   ],
   "source": [
    "a = {\"name\":\"Alex\", \"age\":30, \"city\":\"Koblenz\"}\n",
    "\n",
    "print(a)\n",
    "print(a[\"name\"])\n",
    "print(type(a))"
   ],
   "metadata": {
    "collapsed": false,
    "ExecuteTime": {
     "end_time": "2024-04-16T18:04:33.786133500Z",
     "start_time": "2024-04-16T18:04:33.778287100Z"
    }
   },
   "id": "e81e3051e92adbf8",
   "execution_count": 20
  },
  {
   "cell_type": "markdown",
   "source": [],
   "metadata": {
    "collapsed": false
   },
   "id": "9d5c5a8677400e4b"
  }
 ],
 "metadata": {
  "kernelspec": {
   "display_name": "Python 3",
   "language": "python",
   "name": "python3"
  },
  "language_info": {
   "codemirror_mode": {
    "name": "ipython",
    "version": 2
   },
   "file_extension": ".py",
   "mimetype": "text/x-python",
   "name": "python",
   "nbconvert_exporter": "python",
   "pygments_lexer": "ipython2",
   "version": "2.7.6"
  }
 },
 "nbformat": 4,
 "nbformat_minor": 5
}
