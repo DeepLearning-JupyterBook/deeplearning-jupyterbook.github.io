{
 "cells": [
  {
   "cell_type": "markdown",
   "id": "9944b8a0-6c6f-48e9-8f85-278eb1fc27ff",
   "metadata": {},
   "source": [
    "# 4. Vision\n",
    "\n",
    "In this chapter, we will explore different computer visoin networks:\n",
    "* [Image Classification](image_classification.ipynb)\n",
    "* [Image Segmentation](image_segmentation.ipynb)"
   ]
  }
 ],
 "metadata": {
  "kernelspec": {
   "display_name": "Python 3 (ipykernel)",
   "language": "python",
   "name": "python3"
  },
  "language_info": {
   "codemirror_mode": {
    "name": "ipython",
    "version": 3
   },
   "file_extension": ".py",
   "mimetype": "text/x-python",
   "name": "python",
   "nbconvert_exporter": "python",
   "pygments_lexer": "ipython3",
   "version": "3.10.12"
  }
 },
 "nbformat": 4,
 "nbformat_minor": 5
}
