{
 "cells": [
  {
   "cell_type": "markdown",
   "id": "ee94ed73-984f-4141-9650-0368065208b5",
   "metadata": {},
   "source": [
    "# 6. Deep Generative Models\n",
    "\n",
    "Generative models learn the distribution of data to generate new samples. We will explore four major generative models:\n",
    "* [Generative Adversarial Network (GAN)](gan.ipynb)\n",
    "* [Variational Autoencoder (VAE)](vae.ipynb)\n",
    "* [Diffusion Probabilistic Model (DPM)](dpm.ipynb)\n",
    "* [Large Language Model (LLM)](llm.ipynb)"
   ]
  }
 ],
 "metadata": {
  "kernelspec": {
   "display_name": "Python 3 (ipykernel)",
   "language": "python",
   "name": "python3"
  },
  "language_info": {
   "codemirror_mode": {
    "name": "ipython",
    "version": 3
   },
   "file_extension": ".py",
   "mimetype": "text/x-python",
   "name": "python",
   "nbconvert_exporter": "python",
   "pygments_lexer": "ipython3",
   "version": "3.10.12"
  }
 },
 "nbformat": 4,
 "nbformat_minor": 5
}
