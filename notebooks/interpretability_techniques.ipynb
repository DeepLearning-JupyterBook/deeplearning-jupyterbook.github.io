{
 "cells": [
  {
   "cell_type": "markdown",
   "id": "ee94ed73-984f-4141-9650-0368065208b5",
   "metadata": {},
   "source": [
    "# 6. Interpretability Techniques\n",
    "\n",
    "There are several techniques that we can exercise to learn about the representation a network has learnt during its training:\n",
    "* recording [activation maps](https://colab.research.google.com/github/ArashAkbarinia/mbb/blob/main/notebooks/activation.ipynb) individual or ensemble of kernels,\n",
    "* probing intermediate layers by [linear classifiers](https://colab.research.google.com/github/ArashAkbarinia/mbb/blob/main/notebooks/linear_classifier_probe.ipynb),\n",
    "* [lesioning](https://colab.research.google.com/github/ArashAkbarinia/mbb/blob/main/notebooks/lesion.ipynb) individual or ensemble of kernels,"
   ]
  }
 ],
 "metadata": {
  "kernelspec": {
   "display_name": "Python 3 (ipykernel)",
   "language": "python",
   "name": "python3"
  },
  "language_info": {
   "codemirror_mode": {
    "name": "ipython",
    "version": 3
   },
   "file_extension": ".py",
   "mimetype": "text/x-python",
   "name": "python",
   "nbconvert_exporter": "python",
   "pygments_lexer": "ipython3",
   "version": "3.10.6"
  }
 },
 "nbformat": 4,
 "nbformat_minor": 5
}
