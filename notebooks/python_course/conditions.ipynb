{
 "cells": [
  {
   "cell_type": "markdown",
   "source": [
    "# Conditions\n",
    "\n",
    "In this chapter we will learn how to make decisions in our code. This is done by using conditions. Conditions are based on the content of variables. \n",
    "The basic data type for conditions are booleans. Booleans can have two values: True or False.\n",
    "\n",
    "## Operators\n",
    "To evaluate variables we can use operators. The basic operators are: comparison operators, logical operators, membership operators.\n",
    "\n",
    "### Comparison Operators\n",
    "With those we can compare the content of two variables. This can be especially useful when we want to make decisions based on the content of a variable. The output of a comparison is a boolean."
   ],
   "metadata": {
    "collapsed": false
   },
   "id": "2d51e38d7dfa9126"
  },
  {
   "cell_type": "code",
   "outputs": [
    {
     "name": "stdout",
     "output_type": "stream",
     "text": [
      "True\n",
      "False\n",
      "False\n",
      "False\n",
      "True\n",
      "True\n"
     ]
    }
   ],
   "source": [
    "print(1 == 1) #are the two values equal?\n",
    "print(1 != 1) #are the two values not equal?\n",
    "print(1 > 1) #is the first value greater than the second?\n",
    "print(1 < 1) #is the first value less than the second?\n",
    "print(1 >= 1) #is the first value greater or equal to the second?\n",
    "print(1 <= 1) #is the first value less or equal to the second?"
   ],
   "metadata": {
    "collapsed": false,
    "ExecuteTime": {
     "end_time": "2024-05-01T09:49:54.034727400Z",
     "start_time": "2024-05-01T09:49:53.951153Z"
    }
   },
   "id": "7f180f7e829afeeb",
   "execution_count": 14
  },
  {
   "cell_type": "markdown",
   "source": [
    "### Logical Operators\n",
    "To combine booleans, we can use logical operators. The basic logical operators are: and, or, not. And is only True if both booleans are True. Or is True if at least one of the booleans is True. Not inverts the boolean."
   ],
   "metadata": {
    "collapsed": false
   },
   "id": "9dd0c86e3b071411"
  },
  {
   "cell_type": "code",
   "outputs": [
    {
     "name": "stdout",
     "output_type": "stream",
     "text": [
      "False\n",
      "True\n",
      "False\n"
     ]
    }
   ],
   "source": [
    "a = True\n",
    "b = False\n",
    "\n",
    "print(a and b)\n",
    "print(a or b)\n",
    "print(not a)"
   ],
   "metadata": {
    "collapsed": false,
    "ExecuteTime": {
     "end_time": "2024-05-01T09:49:54.137188500Z",
     "start_time": "2024-05-01T09:49:54.050107300Z"
    }
   },
   "id": "18a804cdbd504762",
   "execution_count": 15
  },
  {
   "cell_type": "markdown",
   "source": [
    "Task: Can you fill out the following table?\n",
    "| a | b | a and b | a or b | not a | not b | (a and b) and (a or b) | (not (a and b)) and (a or b) |\n",
    "|---|---|---------|--------|-------|-------|-------|-------|\n",
    "| T | T |         |        |       |       |       |       |\n",
    "| T | F |         |        |       |       |       |       |\n",
    "| F | T |         |        |       |       |       |       |\n",
    "| F | F |         |        |       |       |       |       |"
   ],
   "metadata": {
    "collapsed": false
   },
   "id": "2e783c8ca59b0295"
  },
  {
   "cell_type": "markdown",
   "source": [
    "### Membership Operators\n",
    "With membership operators we can check if a value is in a list or a string. The basic membership operators are: in, not in."
   ],
   "metadata": {
    "collapsed": false
   },
   "id": "40836d69b5c1032b"
  },
  {
   "cell_type": "code",
   "outputs": [
    {
     "name": "stdout",
     "output_type": "stream",
     "text": [
      "True\n",
      "False\n",
      "False\n"
     ]
    }
   ],
   "source": [
    "a = [1, 2, 3, 4, 5]\n",
    "print(1 in a)\n",
    "print(6 in a)\n",
    "print(1 not in a)"
   ],
   "metadata": {
    "collapsed": false,
    "ExecuteTime": {
     "end_time": "2024-05-01T09:49:54.138230500Z",
     "start_time": "2024-05-01T09:49:54.079352900Z"
    }
   },
   "id": "c75578ea98c7a60b",
   "execution_count": 16
  },
  {
   "cell_type": "markdown",
   "source": [
    "## IF\n",
    "On the basis of an evaluated condition (True/False), we can decide if we want to execute a block of code or not. For this we use the if statement. \n",
    "\n",
    "<b>Note:</b> In Python, the block of code is defined by the indentation and not by curly braces as in C# or ended with an `end` statement as in MATLAB."
   ],
   "metadata": {
    "collapsed": false
   },
   "id": "b6aac77a6a5e8b88"
  },
  {
   "cell_type": "code",
   "outputs": [
    {
     "name": "stdout",
     "output_type": "stream",
     "text": [
      "a is True\n",
      "math still maths\n"
     ]
    }
   ],
   "source": [
    "a = True\n",
    "\n",
    "if a:\n",
    "    print(\"a is True\")\n",
    "else:\n",
    "    print(\"a is False\")\n",
    "\n",
    "if 7 < 6:\n",
    "    print(\"math doesn't math anymore\")\n",
    "else:\n",
    "    print(\"math still maths\")"
   ],
   "metadata": {
    "collapsed": false,
    "ExecuteTime": {
     "end_time": "2024-05-01T09:49:54.141595400Z",
     "start_time": "2024-05-01T09:49:54.097995300Z"
    }
   },
   "id": "c13dce0ab41311ef",
   "execution_count": 17
  },
  {
   "cell_type": "markdown",
   "source": [
    "As in MATLAB we can use the elif statement (in MATLAB: `elseif`) to add more conditions. Those conditions should be exclusive."
   ],
   "metadata": {
    "collapsed": false
   },
   "id": "3c10eccb679f66b1"
  },
  {
   "cell_type": "code",
   "outputs": [
    {
     "name": "stdout",
     "output_type": "stream",
     "text": [
      "a is 4\n"
     ]
    }
   ],
   "source": [
    "a = 4\n",
    "\n",
    "if a < 4:\n",
    "    print(\"a is less than 4\")\n",
    "elif a == 4:\n",
    "    print(\"a is 4\")\n",
    "else:\n",
    "    print(\"a is greater than 4\")"
   ],
   "metadata": {
    "collapsed": false,
    "ExecuteTime": {
     "end_time": "2024-05-01T09:49:54.205868700Z",
     "start_time": "2024-05-01T09:49:54.146861Z"
    }
   },
   "id": "b2ef8540e88c74e2",
   "execution_count": 18
  },
  {
   "cell_type": "markdown",
   "source": [
    "### Nested Conditions\n",
    "We can also nest conditions. This means that we can put an if statement inside another if statement. This can be useful if we want to check multiple conditions."
   ],
   "metadata": {
    "collapsed": false
   },
   "id": "a9ef6be4d9ce2cdf"
  },
  {
   "cell_type": "code",
   "outputs": [
    {
     "name": "stdout",
     "output_type": "stream",
     "text": [
      "a is 4 and b is 5\n"
     ]
    }
   ],
   "source": [
    "a = 4\n",
    "b = 5\n",
    "\n",
    "if a == 4:\n",
    "    if b == 5:\n",
    "        print(\"a is 4 and b is 5\")\n",
    "    else:\n",
    "        print(\"a is 4 but b is not 5\")\n",
    "else:\n",
    "    print(\"a is not 4\")"
   ],
   "metadata": {
    "collapsed": false,
    "ExecuteTime": {
     "end_time": "2024-05-01T09:49:54.254952400Z",
     "start_time": "2024-05-01T09:49:54.213197200Z"
    }
   },
   "id": "9dcf7037c3821e53",
   "execution_count": 19
  },
  {
   "cell_type": "markdown",
   "source": [
    "Task: Can you write a code that checks if a number is even or odd? An even number is a number that is divisible by 2 without a remainder. Google the modulo operator in Python."
   ],
   "metadata": {
    "collapsed": false
   },
   "id": "4b036014de462045"
  },
  {
   "cell_type": "markdown",
   "source": [
    "## NumPy and Conditions\n",
    "NumPy also supports conditions. We can use the comparison operators to compare arrays. The output is an array of booleans."
   ],
   "metadata": {
    "collapsed": false
   },
   "id": "9842dcbc984e0d61"
  },
  {
   "cell_type": "code",
   "outputs": [
    {
     "name": "stdout",
     "output_type": "stream",
     "text": [
      "[False False  True False False False]\n"
     ]
    }
   ],
   "source": [
    "import numpy as np\n",
    "\n",
    "a = np.array([1, 2, 3, 4, 5, 7])\n",
    "\n",
    "print(a == 3)"
   ],
   "metadata": {
    "collapsed": false,
    "ExecuteTime": {
     "end_time": "2024-05-01T09:49:54.285144500Z",
     "start_time": "2024-05-01T09:49:54.260628300Z"
    }
   },
   "id": "7063d2e99f4380f4",
   "execution_count": 20
  },
  {
   "cell_type": "markdown",
   "source": [
    "We can also use the logical operators to combine arrays of booleans. To combine those array we can use the following operators: &, |. Do not use and, or, not and also use parentheses around your conditions."
   ],
   "metadata": {
    "collapsed": false
   },
   "id": "640cfad98dce5e0f"
  },
  {
   "cell_type": "code",
   "outputs": [
    {
     "name": "stdout",
     "output_type": "stream",
     "text": [
      "[False False  True False False False]\n",
      "[False False  True  True  True  True]\n"
     ]
    }
   ],
   "source": [
    "print((a == 3) & (a > 2)) \n",
    "print((a == 3) | (a > 2))"
   ],
   "metadata": {
    "collapsed": false,
    "ExecuteTime": {
     "end_time": "2024-05-01T09:49:54.336888300Z",
     "start_time": "2024-05-01T09:49:54.281866900Z"
    }
   },
   "id": "c39da21ba6229e99",
   "execution_count": 21
  },
  {
   "cell_type": "markdown",
   "source": [
    "### np.where\n",
    "np.where is a function that can be used to return the indices of the elements that fulfill a condition."
   ],
   "metadata": {
    "collapsed": false
   },
   "id": "51d981f1b8c352bc"
  },
  {
   "cell_type": "code",
   "outputs": [
    {
     "name": "stdout",
     "output_type": "stream",
     "text": [
      "(array([2], dtype=int64),)\n",
      "(array([0], dtype=int64), array([2], dtype=int64))\n"
     ]
    }
   ],
   "source": [
    "print(np.where(a == 3))\n",
    "print(np.where(a.reshape(2,-1) == 3))"
   ],
   "metadata": {
    "collapsed": false,
    "ExecuteTime": {
     "end_time": "2024-05-01T09:49:54.350261800Z",
     "start_time": "2024-05-01T09:49:54.300925200Z"
    }
   },
   "id": "5050434d4e7c0413",
   "execution_count": 22
  },
  {
   "cell_type": "markdown",
   "source": [
    "### np.any\n",
    "np.any is a function that can be used to check if at least one element fulfills a condition. The output is a boolean."
   ],
   "metadata": {
    "collapsed": false
   },
   "id": "384bd1667dab7df9"
  },
  {
   "cell_type": "code",
   "outputs": [
    {
     "name": "stdout",
     "output_type": "stream",
     "text": [
      "[False False  True False False False]\n",
      "True\n"
     ]
    }
   ],
   "source": [
    "print(a == 3)\n",
    "print(np.any(a == 3))"
   ],
   "metadata": {
    "collapsed": false,
    "ExecuteTime": {
     "end_time": "2024-05-01T09:49:54.404142600Z",
     "start_time": "2024-05-01T09:49:54.342997200Z"
    }
   },
   "id": "a5661523696837a4",
   "execution_count": 23
  },
  {
   "cell_type": "markdown",
   "source": [
    "### np.all\n",
    "np.all is a function that can be used to check if all elements fulfill a condition. The output is a boolean."
   ],
   "metadata": {
    "collapsed": false
   },
   "id": "1de5fd1edb7d6fcb"
  },
  {
   "cell_type": "code",
   "outputs": [
    {
     "name": "stdout",
     "output_type": "stream",
     "text": [
      "[False False  True False False False]\n",
      "False\n"
     ]
    }
   ],
   "source": [
    "print(a == 3)\n",
    "print(np.all(a == 3))"
   ],
   "metadata": {
    "collapsed": false,
    "ExecuteTime": {
     "end_time": "2024-05-01T09:49:54.484855500Z",
     "start_time": "2024-05-01T09:49:54.415718900Z"
    }
   },
   "id": "672d14e62959501b",
   "execution_count": 24
  },
  {
   "cell_type": "markdown",
   "source": [
    "Task: Explain the following code. What does it do? What does each line do?"
   ],
   "metadata": {
    "collapsed": false
   },
   "id": "125850c8a76d3c69"
  },
  {
   "cell_type": "code",
   "outputs": [
    {
     "name": "stdout",
     "output_type": "stream",
     "text": [
      "[[0.5488135  0.71518937 0.60276338 0.54488318 0.4236548 ]\n",
      " [0.64589411 0.43758721 0.891773   0.96366276 0.38344152]\n",
      " [0.79172504 0.52889492 0.56804456 0.92559664 0.07103606]\n",
      " [0.0871293  0.0202184  0.83261985 0.77815675 0.87001215]\n",
      " [0.97861834 0.79915856 0.46147936 0.78052918 0.11827443]]\n",
      "(array([0, 0, 0, 0, 1, 1, 1, 2, 2, 2, 2, 3, 3, 3, 4, 4, 4], dtype=int64), array([0, 1, 2, 3, 0, 2, 3, 0, 1, 2, 3, 2, 3, 4, 0, 1, 3], dtype=int64))\n"
     ]
    }
   ],
   "source": [
    "np.random.seed(0) #btw: this is a way to make random numbers reproducible\n",
    "\n",
    "a = np.random.rand(5, 5) #creates a 5x5 array with random numbers between 0 and 1\n",
    "print(a)\n",
    "resIndices = np.where(a > 0.5)\n",
    "print(resIndices)"
   ],
   "metadata": {
    "collapsed": false,
    "ExecuteTime": {
     "end_time": "2024-05-01T09:49:54.485995600Z",
     "start_time": "2024-05-01T09:49:54.443200600Z"
    }
   },
   "id": "c3da33ec28fe85cb",
   "execution_count": 25
  },
  {
   "cell_type": "code",
   "outputs": [
    {
     "name": "stdout",
     "output_type": "stream",
     "text": [
      "There is a value greater than 0.5 in the first place.\n"
     ]
    }
   ],
   "source": [
    "if np.any((resIndices[0] == 0) & (resIndices[1] == 0)):\n",
    "    print(\"There is a value greater than 0.5 in the first place.\")\n",
    "else:\n",
    "    print(\"There is no value greater than 0.5 in the first place.\")"
   ],
   "metadata": {
    "collapsed": false,
    "ExecuteTime": {
     "end_time": "2024-05-01T09:49:54.539681600Z",
     "start_time": "2024-05-01T09:49:54.490381800Z"
    }
   },
   "id": "4fce1c342d71ba4d",
   "execution_count": 26
  }
 ],
 "metadata": {
  "kernelspec": {
   "display_name": "Python 3",
   "language": "python",
   "name": "python3"
  },
  "language_info": {
   "codemirror_mode": {
    "name": "ipython",
    "version": 2
   },
   "file_extension": ".py",
   "mimetype": "text/x-python",
   "name": "python",
   "nbconvert_exporter": "python",
   "pygments_lexer": "ipython2",
   "version": "2.7.6"
  }
 },
 "nbformat": 4,
 "nbformat_minor": 5
}
