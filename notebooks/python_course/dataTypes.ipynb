{
 "cells": [
  {
   "cell_type": "markdown",
   "source": [
    "# Data Types\n",
    "\n",
    "As you probably know from MATLAB: there are several types of data we want and can store in variables: numbers, logical values, text, lists...\n",
    "\n",
    "<b>One thing in advance:</b>\n",
    "We can check for the type of a variable by <b>type(VARIABLE)</b>\n",
    "\n",
    "## Integer\n",
    "Integers embody whole numbers and can be added together, subtracted and so on..."
   ],
   "metadata": {
    "collapsed": false
   },
   "id": "779793257b41106c"
  },
  {
   "cell_type": "code",
   "outputs": [
    {
     "name": "stdout",
     "output_type": "stream",
     "text": [
      "-1\n",
      "<class 'int'>\n"
     ]
    }
   ],
   "source": [
    "a = 1\n",
    "b = 2\n",
    "\n",
    "print(a-b)\n",
    "print(type(a))"
   ],
   "metadata": {
    "collapsed": false,
    "ExecuteTime": {
     "end_time": "2024-04-17T18:24:46.653069600Z",
     "start_time": "2024-04-17T18:24:46.608906300Z"
    }
   },
   "id": "e0b787e855ba36f6",
   "execution_count": 52
  },
  {
   "cell_type": "markdown",
   "source": [
    "## Float\n",
    "Floats are \"floating point\" numbers. So they include decimals."
   ],
   "metadata": {
    "collapsed": false
   },
   "id": "cda787cd1e86281c"
  },
  {
   "cell_type": "code",
   "outputs": [
    {
     "name": "stdout",
     "output_type": "stream",
     "text": [
      "28.6\n",
      "<class 'float'>\n",
      "<class 'float'>\n"
     ]
    }
   ],
   "source": [
    "a = 1.3\n",
    "b = 22.0\n",
    "\n",
    "print(a*b)\n",
    "print(type(b))\n",
    "print(type(2/3))"
   ],
   "metadata": {
    "collapsed": false,
    "ExecuteTime": {
     "end_time": "2024-04-17T18:24:46.697676Z",
     "start_time": "2024-04-17T18:24:46.658451400Z"
    }
   },
   "id": "fab8afe020d03420",
   "execution_count": 53
  },
  {
   "cell_type": "markdown",
   "source": [
    "## String\n",
    "Strings are chains of characters and can be created by using single or double quotes. There are several operations that can be performed on strings (for example attaching them to each other by using +)."
   ],
   "metadata": {
    "collapsed": false
   },
   "id": "78ecee83b68393c8"
  },
  {
   "cell_type": "code",
   "outputs": [
    {
     "name": "stdout",
     "output_type": "stream",
     "text": [
      "This is a string\n",
      "<class 'str'>\n"
     ]
    }
   ],
   "source": [
    "a = \"This is a \"\n",
    "b = \"string\"\n",
    "\n",
    "print(a+b)\n",
    "print(type(a))"
   ],
   "metadata": {
    "collapsed": false,
    "ExecuteTime": {
     "end_time": "2024-04-17T18:24:46.714406100Z",
     "start_time": "2024-04-17T18:24:46.703676200Z"
    }
   },
   "id": "b6896a137c8e5fe8",
   "execution_count": 54
  },
  {
   "cell_type": "markdown",
   "source": [
    "## Boolean\n",
    "Booleans are logical values. They can be either True or False. Using them, we can perform logical operations. For example check if a number is smaller or greater than another number. We will explore them more when dealing with conditions."
   ],
   "metadata": {
    "collapsed": false
   },
   "id": "db733f6187164d6"
  },
  {
   "cell_type": "code",
   "outputs": [
    {
     "name": "stdout",
     "output_type": "stream",
     "text": [
      "True\n",
      "<class 'bool'>\n"
     ]
    }
   ],
   "source": [
    "a = True\n",
    "b = False\n",
    "\n",
    "print(a)\n",
    "print(type(b))"
   ],
   "metadata": {
    "collapsed": false,
    "ExecuteTime": {
     "end_time": "2024-04-17T18:24:46.727174100Z",
     "start_time": "2024-04-17T18:24:46.709898100Z"
    }
   },
   "id": "34b0639efa1f1fdc",
   "execution_count": 55
  },
  {
   "cell_type": "markdown",
   "source": [
    "## List\n",
    "Lists are a collection of items. They can be of different types and can be changed. They are created by using square brackets. To access an item by its index, we use square brackets as well.\n",
    "<b>IMPORTANT:</b> In Python our index starts at 0. You can also use negative indices to access the list from the end. Strings can be accessed in the same way."
   ],
   "metadata": {
    "collapsed": false
   },
   "id": "5b4eddf576a66d1e"
  },
  {
   "cell_type": "code",
   "outputs": [
    {
     "name": "stdout",
     "output_type": "stream",
     "text": [
      "[1, 2, 3, 4, 5]\n",
      "<class 'list'>\n",
      "[1, 2, 3, 4, 5, 'a', 'b', 'c', 'd', 'e']\n",
      "1\n",
      "e\n"
     ]
    }
   ],
   "source": [
    "a = [1,2,3,4,5]\n",
    "b = [\"a\",\"b\",\"c\",\"d\",\"e\"]\n",
    "\n",
    "c = a+b\n",
    "\n",
    "print(a)\n",
    "print(type(b))\n",
    "print(c)\n",
    "print(c[0]) # first element\n",
    "print(c[-1]) # last element"
   ],
   "metadata": {
    "collapsed": false,
    "ExecuteTime": {
     "end_time": "2024-04-17T18:24:46.729174100Z",
     "start_time": "2024-04-17T18:24:46.722428400Z"
    }
   },
   "id": "859b48e9b69755cd",
   "execution_count": 56
  },
  {
   "cell_type": "markdown",
   "source": [
    "Do you notice something about indexing from the end? \n",
    "For example to get the second to last element of a list, we can use `c[-2]`. \n",
    "In MATLAB we would use `c(end-1)`.\n",
    "But to get the second element of a list, we would use `c[1]` in Python and `c(2)` in MATLAB."
   ],
   "metadata": {
    "collapsed": false
   },
   "id": "be92f749759ebd10"
  },
  {
   "cell_type": "markdown",
   "source": [
    "Getting a number of elements from a list is called slicing. We can use the colon operator to get a range of elements."
   ],
   "metadata": {
    "collapsed": false
   },
   "id": "b295164d92bd2180"
  },
  {
   "cell_type": "code",
   "outputs": [
    {
     "name": "stdout",
     "output_type": "stream",
     "text": [
      "[3, 4, 5]\n",
      "[3, 4, 5, 'a', 'b', 'c', 'd', 'e']\n",
      "[1]\n"
     ]
    }
   ],
   "source": [
    "print(c[2:5]) # elements from index 2 to 4\n",
    "print(c[2:]) # elements from index 2 to the end\n",
    "print(c[:1]) # elements from the beginning to index 1"
   ],
   "metadata": {
    "collapsed": false,
    "ExecuteTime": {
     "end_time": "2024-04-17T18:24:46.820707400Z",
     "start_time": "2024-04-17T18:24:46.730720Z"
    }
   },
   "id": "ed3a0352690d8b",
   "execution_count": 57
  },
  {
   "cell_type": "markdown",
   "source": [
    "To get the length of a list, we can use the len() function."
   ],
   "metadata": {
    "collapsed": false
   },
   "id": "e8e29342175bed35"
  },
  {
   "cell_type": "code",
   "outputs": [
    {
     "name": "stdout",
     "output_type": "stream",
     "text": [
      "10\n"
     ]
    }
   ],
   "source": [
    "print(len(c))"
   ],
   "metadata": {
    "collapsed": false,
    "ExecuteTime": {
     "end_time": "2024-04-17T18:24:46.821708100Z",
     "start_time": "2024-04-17T18:24:46.738341500Z"
    }
   },
   "id": "14069099ad65facd",
   "execution_count": 58
  },
  {
   "cell_type": "markdown",
   "source": [
    "Lists can be changed by assigning a new value to an index."
   ],
   "metadata": {
    "collapsed": false
   },
   "id": "20b11aa94d5e82fb"
  },
  {
   "cell_type": "code",
   "outputs": [
    {
     "name": "stdout",
     "output_type": "stream",
     "text": [
      "[6, 2, 3, 4, 5]\n"
     ]
    }
   ],
   "source": [
    "a[0] = 6\n",
    "\n",
    "print(a)"
   ],
   "metadata": {
    "collapsed": false,
    "ExecuteTime": {
     "end_time": "2024-04-17T18:24:46.821708100Z",
     "start_time": "2024-04-17T18:24:46.741852500Z"
    }
   },
   "id": "be0990244eff6b83",
   "execution_count": 59
  },
  {
   "cell_type": "markdown",
   "source": [
    "Lists can be extended by using the append() function. This function adds an item to the end of the list."
   ],
   "metadata": {
    "collapsed": false
   },
   "id": "2fb3db0ea43f2be4"
  },
  {
   "cell_type": "code",
   "outputs": [
    {
     "name": "stdout",
     "output_type": "stream",
     "text": [
      "[1, 2, 3, 4, 5, 6]\n"
     ]
    }
   ],
   "source": [
    "a = [1,2,3,4,5]\n",
    "\n",
    "a.append(6)\n",
    "\n",
    "print(a)"
   ],
   "metadata": {
    "collapsed": false,
    "ExecuteTime": {
     "end_time": "2024-04-17T18:24:46.823713700Z",
     "start_time": "2024-04-17T18:24:46.752514700Z"
    }
   },
   "id": "eea7c2ce7b3d04dc",
   "execution_count": 60
  },
  {
   "cell_type": "markdown",
   "source": [
    "Imagine we want to add a value to a specific index without deleting the value that is already there. We can use the insert() function."
   ],
   "metadata": {
    "collapsed": false
   },
   "id": "ad569506c712d969"
  },
  {
   "cell_type": "code",
   "outputs": [
    {
     "name": "stdout",
     "output_type": "stream",
     "text": [
      "[1, 2, 7, 3, 4, 5, 6]\n"
     ]
    }
   ],
   "source": [
    "a.insert(2, 7) # insert 7 at index 2\n",
    "\n",
    "print(a)"
   ],
   "metadata": {
    "collapsed": false,
    "ExecuteTime": {
     "end_time": "2024-04-17T18:24:46.855845100Z",
     "start_time": "2024-04-17T18:24:46.829597300Z"
    }
   },
   "id": "3014bad91b55d3cf",
   "execution_count": 61
  },
  {
   "cell_type": "markdown",
   "source": [
    "## Tuple\n",
    "Tuples are similar to lists but they cannot be changed. They are created by using round brackets."
   ],
   "metadata": {
    "collapsed": false
   },
   "id": "6c9412bdff3746cf"
  },
  {
   "cell_type": "code",
   "outputs": [
    {
     "name": "stdout",
     "output_type": "stream",
     "text": [
      "(1, 2, 3, 4, 5)\n",
      "<class 'tuple'>\n"
     ]
    }
   ],
   "source": [
    "a = (1,2,3,4,5)\n",
    "\n",
    "print(a)\n",
    "print(type(a))"
   ],
   "metadata": {
    "collapsed": false,
    "ExecuteTime": {
     "end_time": "2024-04-17T18:24:46.985583200Z",
     "start_time": "2024-04-17T18:24:46.861855900Z"
    }
   },
   "id": "8fabd86e9d4258d7",
   "execution_count": 62
  },
  {
   "cell_type": "markdown",
   "source": [
    "If we try to change a value in a tuple, we will get an error. Try it out!"
   ],
   "metadata": {
    "collapsed": false
   },
   "id": "741b8b8a208b8e17"
  },
  {
   "cell_type": "markdown",
   "source": [
    "## Dictionary\n",
    "Dictionaries are a collection of key-value pairs. They are created by using curly brackets. We can use the key to access the corresponding value. To access the value, we use square brackets. The type of the value can be anything."
   ],
   "metadata": {
    "collapsed": false
   },
   "id": "577e9224a5f99cf"
  },
  {
   "cell_type": "code",
   "outputs": [
    {
     "name": "stdout",
     "output_type": "stream",
     "text": [
      "{'name': 'Alex', 'age': 30, 'city': 'Koblenz'}\n",
      "Alex\n",
      "<class 'dict'>\n"
     ]
    }
   ],
   "source": [
    "a = {\"name\":\"Alex\", \"age\":30, \"city\":\"Koblenz\"}\n",
    "\n",
    "print(a)\n",
    "print(a[\"name\"])\n",
    "print(type(a))"
   ],
   "metadata": {
    "collapsed": false,
    "ExecuteTime": {
     "end_time": "2024-04-17T18:24:47.017868600Z",
     "start_time": "2024-04-17T18:24:46.989582400Z"
    }
   },
   "id": "e81e3051e92adbf8",
   "execution_count": 63
  },
  {
   "cell_type": "markdown",
   "source": [
    "Of course the type of the value in the dictionary stays the same."
   ],
   "metadata": {
    "collapsed": false
   },
   "id": "5699a1d006365cd4"
  },
  {
   "cell_type": "code",
   "outputs": [
    {
     "name": "stdout",
     "output_type": "stream",
     "text": [
      "<class 'int'>\n"
     ]
    }
   ],
   "source": [
    "print(type(a[\"age\"]))"
   ],
   "metadata": {
    "collapsed": false,
    "ExecuteTime": {
     "end_time": "2024-04-17T18:24:47.062817400Z",
     "start_time": "2024-04-17T18:24:47.009810500Z"
    }
   },
   "id": "5ad4e3b9d819ea60",
   "execution_count": 64
  },
  {
   "cell_type": "markdown",
   "source": [
    "We can also change the value of a key."
   ],
   "metadata": {
    "collapsed": false
   },
   "id": "5829a2fdac56cfb1"
  },
  {
   "cell_type": "code",
   "outputs": [],
   "source": [
    "a[\"age\"] = 31"
   ],
   "metadata": {
    "collapsed": false,
    "ExecuteTime": {
     "end_time": "2024-04-17T18:24:47.066338200Z",
     "start_time": "2024-04-17T18:24:47.025138400Z"
    }
   },
   "id": "6b1834584059848b",
   "execution_count": 65
  },
  {
   "cell_type": "markdown",
   "source": [
    "Or add a new key by using the update() function."
   ],
   "metadata": {
    "collapsed": false
   },
   "id": "b5388198e6725a22"
  },
  {
   "cell_type": "code",
   "outputs": [
    {
     "name": "stdout",
     "output_type": "stream",
     "text": [
      "{'name': 'Alex', 'age': 31, 'city': 'Koblenz', 'hobby': 'programming'}\n"
     ]
    }
   ],
   "source": [
    "a.update({\"hobby\": \"programming\"})\n",
    "\n",
    "print(a)"
   ],
   "metadata": {
    "collapsed": false,
    "ExecuteTime": {
     "end_time": "2024-04-17T18:24:47.101507Z",
     "start_time": "2024-04-17T18:24:47.071336300Z"
    }
   },
   "id": "70951c8209f9895a",
   "execution_count": 66
  },
  {
   "cell_type": "markdown",
   "source": [
    "Something that will come in handy later on is that we can store lists in dictionaries."
   ],
   "metadata": {
    "collapsed": false
   },
   "id": "feb4838442fcca96"
  },
  {
   "cell_type": "code",
   "outputs": [
    {
     "name": "stdout",
     "output_type": "stream",
     "text": [
      "{'vpID': [1, 2, 3, 4], 'age': [30, 30, 21, 19], 'mean_RT': [0.5, 0.6, 0.7, 0.8]}\n"
     ]
    }
   ],
   "source": [
    "data = {\"vpID\": [1, 2, 3, 4], \"age\": [30, 30, 21, 19], \"mean_RT\": [0.5, 0.6, 0.7, 0.8]}\n",
    "\n",
    "print(data)"
   ],
   "metadata": {
    "collapsed": false,
    "ExecuteTime": {
     "end_time": "2024-04-17T18:24:47.131663Z",
     "start_time": "2024-04-17T18:24:47.106024100Z"
    }
   },
   "id": "383be725ab5ba02b",
   "execution_count": 67
  },
  {
   "cell_type": "markdown",
   "source": [
    "## Type Conversion\n",
    "This is your task! Find out how to convert between the different types. Google is your friend!\n",
    "\n",
    "Can you imagine a use case for this?"
   ],
   "metadata": {
    "collapsed": false
   },
   "id": "d29d8dde12fb0b1d"
  },
  {
   "cell_type": "markdown",
   "source": [],
   "metadata": {
    "collapsed": false
   },
   "id": "9d5c5a8677400e4b"
  }
 ],
 "metadata": {
  "kernelspec": {
   "display_name": "Python 3",
   "language": "python",
   "name": "python3"
  },
  "language_info": {
   "codemirror_mode": {
    "name": "ipython",
    "version": 2
   },
   "file_extension": ".py",
   "mimetype": "text/x-python",
   "name": "python",
   "nbconvert_exporter": "python",
   "pygments_lexer": "ipython2",
   "version": "2.7.6"
  }
 },
 "nbformat": 4,
 "nbformat_minor": 5
}
