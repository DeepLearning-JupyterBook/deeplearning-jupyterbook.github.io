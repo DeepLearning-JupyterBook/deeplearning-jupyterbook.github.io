{
 "cells": [
  {
   "cell_type": "markdown",
   "source": [
    "# Functions\n",
    "\n",
    "In Python, we can define functions using the `def` keyword. Functions are a way to group code that belongs together and can be reused. Functions can take arguments and return values. \n",
    "\n",
    "Here is an example of a function that takes two arguments and prints their sum:"
   ],
   "metadata": {
    "collapsed": false
   },
   "id": "33af4baafea1f24"
  },
  {
   "cell_type": "code",
   "outputs": [],
   "source": [
    "def addition(a, b):\n",
    "    print(a + b)"
   ],
   "metadata": {
    "collapsed": false,
    "ExecuteTime": {
     "end_time": "2024-06-09T16:47:25.970738300Z",
     "start_time": "2024-06-09T16:47:25.955985600Z"
    }
   },
   "id": "52d209ce641d489f",
   "execution_count": 1
  },
  {
   "cell_type": "markdown",
   "source": [
    "We can call the function by passing two arguments:"
   ],
   "metadata": {
    "collapsed": false
   },
   "id": "e847f7ea46286327"
  },
  {
   "cell_type": "code",
   "outputs": [
    {
     "name": "stdout",
     "output_type": "stream",
     "text": [
      "7\n"
     ]
    }
   ],
   "source": [
    "addition(3, 4)"
   ],
   "metadata": {
    "collapsed": false,
    "ExecuteTime": {
     "end_time": "2024-06-09T16:47:25.974469200Z",
     "start_time": "2024-06-09T16:47:25.964471200Z"
    }
   },
   "id": "1acaa4ceccb69c66",
   "execution_count": 2
  },
  {
   "cell_type": "markdown",
   "source": [
    "## Return\n",
    "We can also return values from functions using the `return` keyword. Here is an example of a function that returns the sum of two numbers:"
   ],
   "metadata": {
    "collapsed": false
   },
   "id": "4e65f3ce461c25ba"
  },
  {
   "cell_type": "code",
   "outputs": [],
   "source": [
    "def addition(a, b):\n",
    "    return a + b"
   ],
   "metadata": {
    "collapsed": false,
    "ExecuteTime": {
     "end_time": "2024-06-09T16:47:25.977205200Z",
     "start_time": "2024-06-09T16:47:25.970738300Z"
    }
   },
   "id": "518d76725bb1265d",
   "execution_count": 3
  },
  {
   "cell_type": "markdown",
   "source": [
    "We can call the function and store the result in a variable:"
   ],
   "metadata": {
    "collapsed": false
   },
   "id": "4f5dc9b6a52c8578"
  },
  {
   "cell_type": "code",
   "outputs": [
    {
     "name": "stdout",
     "output_type": "stream",
     "text": [
      "7\n"
     ]
    }
   ],
   "source": [
    "result = addition(3, 4)\n",
    "print(result)"
   ],
   "metadata": {
    "collapsed": false,
    "ExecuteTime": {
     "end_time": "2024-06-09T16:47:25.987453300Z",
     "start_time": "2024-06-09T16:47:25.975532400Z"
    }
   },
   "id": "4e800232b1915d9e",
   "execution_count": 4
  },
  {
   "cell_type": "markdown",
   "source": [
    "## Default arguments\n",
    "Assigning default values to arguments is a common practice in Python. This allows us to call the function without passing all the arguments. Here is an example of a function that takes two arguments and has default values for both:"
   ],
   "metadata": {
    "collapsed": false
   },
   "id": "388d37a164c02d44"
  },
  {
   "cell_type": "code",
   "outputs": [],
   "source": [
    "def addition(a=0, b=0):\n",
    "    return a + b"
   ],
   "metadata": {
    "collapsed": false,
    "ExecuteTime": {
     "end_time": "2024-06-09T16:47:26.045348700Z",
     "start_time": "2024-06-09T16:47:25.982243900Z"
    }
   },
   "id": "324ffb3ffa22fcd4",
   "execution_count": 5
  },
  {
   "cell_type": "markdown",
   "source": [
    "Now when calling the function without arguments, it will use the default values:"
   ],
   "metadata": {
    "collapsed": false
   },
   "id": "fd1e72e936904a75"
  },
  {
   "cell_type": "code",
   "outputs": [
    {
     "name": "stdout",
     "output_type": "stream",
     "text": [
      "0\n"
     ]
    }
   ],
   "source": [
    "print(addition())"
   ],
   "metadata": {
    "collapsed": false,
    "ExecuteTime": {
     "end_time": "2024-06-09T16:47:26.047449800Z",
     "start_time": "2024-06-09T16:47:25.986174900Z"
    }
   },
   "id": "2097e8ed91af7230",
   "execution_count": 6
  },
  {
   "cell_type": "markdown",
   "source": [
    "Or when calling the function with one argument:"
   ],
   "metadata": {
    "collapsed": false
   },
   "id": "fd8a558d50f3f626"
  },
  {
   "cell_type": "code",
   "outputs": [
    {
     "name": "stdout",
     "output_type": "stream",
     "text": [
      "3\n"
     ]
    }
   ],
   "source": [
    "print(addition(3))"
   ],
   "metadata": {
    "collapsed": false,
    "ExecuteTime": {
     "end_time": "2024-06-09T16:47:26.048496600Z",
     "start_time": "2024-06-09T16:47:25.992069Z"
    }
   },
   "id": "76d93ee48248c038",
   "execution_count": 7
  },
  {
   "cell_type": "markdown",
   "source": [
    "## Keyword arguments\n",
    "When calling a function, we can use keyword arguments to specify the value of each argument. This allows us to pass arguments in any order. Here is an example of a function that takes two arguments:"
   ],
   "metadata": {
    "collapsed": false
   },
   "id": "2f325b3fe459f40d"
  },
  {
   "cell_type": "code",
   "outputs": [
    {
     "name": "stdout",
     "output_type": "stream",
     "text": [
      "7\n"
     ]
    }
   ],
   "source": [
    "print(addition(b=4, a=3))"
   ],
   "metadata": {
    "collapsed": false,
    "ExecuteTime": {
     "end_time": "2024-06-09T16:47:26.049604800Z",
     "start_time": "2024-06-09T16:47:25.999459300Z"
    }
   },
   "id": "11fd942a6365f806",
   "execution_count": 8
  },
  {
   "cell_type": "markdown",
   "source": [
    "This is also extremely useful when we have functions with many arguments. It makes the code more readable and less error-prone. For example in NumPy we have similar functions that take the same arguments in different orders:"
   ],
   "metadata": {
    "collapsed": false
   },
   "id": "1371cba88eefb905"
  },
  {
   "cell_type": "code",
   "outputs": [
    {
     "name": "stdout",
     "output_type": "stream",
     "text": [
      "957\n",
      "[ 1.34062107 -0.62741773  0.05777933]\n"
     ]
    }
   ],
   "source": [
    "import numpy as np\n",
    "\n",
    "#here the first argument defines the upper bound of the random number\n",
    "randIs = np.random.randint(1000)\n",
    "print(randIs)\n",
    "\n",
    "#here the first argument defines the size of the array\n",
    "randNs = np.random.randn(3)\n",
    "print(randNs)"
   ],
   "metadata": {
    "collapsed": false,
    "ExecuteTime": {
     "end_time": "2024-06-09T16:47:26.336853400Z",
     "start_time": "2024-06-09T16:47:26.004488700Z"
    }
   },
   "id": "af31d1bbbde7efa9",
   "execution_count": 9
  },
  {
   "cell_type": "markdown",
   "source": [
    "## Variable number of arguments\n",
    "Sometimes we want to define functions that can take a variable number of arguments. We can use the `*args` syntax to achieve this. Here is an example of a function that takes any number of arguments and returns their sum:"
   ],
   "metadata": {
    "collapsed": false
   },
   "id": "c4c757299e6098a"
  },
  {
   "cell_type": "code",
   "outputs": [],
   "source": [
    "def addition(*args):\n",
    "    return sum(args)"
   ],
   "metadata": {
    "collapsed": false,
    "ExecuteTime": {
     "end_time": "2024-06-09T16:47:26.344944200Z",
     "start_time": "2024-06-09T16:47:26.339019800Z"
    }
   },
   "id": "b56f117e14f5d257",
   "execution_count": 10
  },
  {
   "cell_type": "markdown",
   "source": [
    "Now we can just pass any number of arguments to the function:"
   ],
   "metadata": {
    "collapsed": false
   },
   "id": "51100137b6721088"
  },
  {
   "cell_type": "code",
   "outputs": [
    {
     "name": "stdout",
     "output_type": "stream",
     "text": [
      "6\n"
     ]
    }
   ],
   "source": [
    "print(addition(1, 2, 3))"
   ],
   "metadata": {
    "collapsed": false,
    "ExecuteTime": {
     "end_time": "2024-06-09T16:47:26.350451200Z",
     "start_time": "2024-06-09T16:47:26.344944200Z"
    }
   },
   "id": "3668aebdb4dd3752",
   "execution_count": 11
  },
  {
   "cell_type": "markdown",
   "source": [
    "This is extremely useful when we don't know how many arguments we will need to pass to the function. For example, the `print` function in Python can take any number of arguments and print them all:"
   ],
   "metadata": {
    "collapsed": false
   },
   "id": "f12c66617d5304bb"
  },
  {
   "cell_type": "code",
   "outputs": [
    {
     "name": "stdout",
     "output_type": "stream",
     "text": [
      "1 2 3\n"
     ]
    }
   ],
   "source": [
    "print(1, 2, 3)"
   ],
   "metadata": {
    "collapsed": false,
    "ExecuteTime": {
     "end_time": "2024-06-09T16:47:26.357390700Z",
     "start_time": "2024-06-09T16:47:26.350451200Z"
    }
   },
   "id": "51d5a132db993eea",
   "execution_count": 12
  },
  {
   "cell_type": "markdown",
   "source": [
    "## Exercise\n",
    "We have generated the following data using a linear function:"
   ],
   "metadata": {
    "collapsed": false
   },
   "id": "be4fb1db81cbc4cb"
  },
  {
   "cell_type": "code",
   "outputs": [],
   "source": [
    "def linear(x, a=1, b=0):\n",
    "    return a * x + b\n",
    "\n",
    "dataX = (np.random.randn(100) * 2) + 10\n",
    "dataY = linear(dataX, 2, 1) + np.random.randn(100) * 7"
   ],
   "metadata": {
    "collapsed": false,
    "ExecuteTime": {
     "end_time": "2024-06-09T16:47:26.363945Z",
     "start_time": "2024-06-09T16:47:26.357390700Z"
    }
   },
   "id": "28940b1536e5060",
   "execution_count": 13
  },
  {
   "cell_type": "markdown",
   "source": [
    "Of course in this case we know the function that generated the data, but in general we might not know it. We can define a function that takes the data and returns the parameters `a` and `b` of the linear function that best fits the data. This will be our task for today. What do we need, what do we know, and what do we want to find? "
   ],
   "metadata": {
    "collapsed": false
   },
   "id": "6a122ceb303db9ed"
  },
  {
   "cell_type": "markdown",
   "source": [
    "Task:\n",
    "Find a way to try different values of `a` and `b` and calculate the error between the data and the linear function. The error can be calculated as the sum of the squared differences between the data and the function. The function that returns the smallest error is the best fit for the data.\n",
    "Plot the fit and the data in the end and print the values of `a` and `b`.\n",
    "\n",
    "In this case we don't want to use ready to use libraries, but implement the solution ourselves."
   ],
   "metadata": {
    "collapsed": false
   },
   "id": "9962fc1f44c86dad"
  }
 ],
 "metadata": {
  "kernelspec": {
   "display_name": "Python 3",
   "language": "python",
   "name": "python3"
  },
  "language_info": {
   "codemirror_mode": {
    "name": "ipython",
    "version": 2
   },
   "file_extension": ".py",
   "mimetype": "text/x-python",
   "name": "python",
   "nbconvert_exporter": "python",
   "pygments_lexer": "ipython2",
   "version": "2.7.6"
  }
 },
 "nbformat": 4,
 "nbformat_minor": 5
}
