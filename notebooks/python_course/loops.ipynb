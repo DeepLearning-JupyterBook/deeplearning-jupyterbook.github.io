{
 "cells": [
  {
   "cell_type": "markdown",
   "source": [
    "# Loops\n",
    "\n",
    "If we want to do something multiple times, we can use loops. In Python, we have two types of loops: `for` and `while`.\n",
    "\n",
    "## For Loop\n",
    "This type of loop is used to iterate over a sequence (list, tuple, string, etc.) and execute a block of code for each item in the sequence. Or to repeat a block of code a specific number of times.\n",
    "Imagine wanting to do something for each item in a list:"
   ],
   "metadata": {
    "collapsed": false
   },
   "id": "2dd128f11e1a3e15"
  },
  {
   "cell_type": "code",
   "outputs": [
    {
     "name": "stdout",
     "output_type": "stream",
     "text": [
      "1\n",
      "2\n",
      "l\n",
      "4\n",
      "5\n",
      "a\n",
      "b\n",
      "c\n"
     ]
    }
   ],
   "source": [
    "a = [1, 2, \"l\", 4, 5, \"a\", \"b\", \"c\"]\n",
    "\n",
    "for element in a:\n",
    "    print(element)"
   ],
   "metadata": {
    "collapsed": false,
    "ExecuteTime": {
     "end_time": "2024-05-15T10:13:27.193483400Z",
     "start_time": "2024-05-15T10:13:27.154187200Z"
    }
   },
   "id": "83b77f2823227fb7",
   "execution_count": 35
  },
  {
   "cell_type": "markdown",
   "source": [
    "TASK: print for each number in the list `a` if it is even or odd. If you encounter a string, print \"This is a string\".\n",
    "\n",
    "If we want to do something a specific number of times, we can use the `range` function:"
   ],
   "metadata": {
    "collapsed": false
   },
   "id": "b44cfe39dce86c9d"
  },
  {
   "cell_type": "code",
   "outputs": [
    {
     "name": "stdout",
     "output_type": "stream",
     "text": [
      "0\n",
      "1\n",
      "2\n",
      "3\n",
      "4\n"
     ]
    }
   ],
   "source": [
    "for i in range(5): #this equals to range(0, 5)\n",
    "    print(i)"
   ],
   "metadata": {
    "collapsed": false,
    "ExecuteTime": {
     "end_time": "2024-05-15T10:13:27.233385900Z",
     "start_time": "2024-05-15T10:13:27.198012700Z"
    }
   },
   "id": "5c00cb4792dd92eb",
   "execution_count": 36
  },
  {
   "cell_type": "markdown",
   "source": [
    "REMEMBER: the `range` function starts at 0 and ends at the number before the one you specify.\n",
    "TASK: print the numbers from 10 to 20.\n",
    "\n",
    "If we want to iterate over a list and also get the index of the current item, we can use the `enumerate` function:"
   ],
   "metadata": {
    "collapsed": false
   },
   "id": "5dba9e4a83829af1"
  },
  {
   "cell_type": "code",
   "outputs": [
    {
     "name": "stdout",
     "output_type": "stream",
     "text": [
      "0 1\n",
      "1 2\n",
      "2 l\n",
      "3 4\n",
      "4 5\n",
      "5 a\n",
      "6 b\n",
      "7 c\n"
     ]
    }
   ],
   "source": [
    "for index, element in enumerate(a):\n",
    "    print(index, element)"
   ],
   "metadata": {
    "collapsed": false,
    "ExecuteTime": {
     "end_time": "2024-05-15T10:13:27.266867300Z",
     "start_time": "2024-05-15T10:13:27.236645400Z"
    }
   },
   "id": "20b850064e5d29da",
   "execution_count": 37
  },
  {
   "cell_type": "markdown",
   "source": [
    "### Nested For Loops\n",
    "We can also have loops inside loops. This is useful when iterating a multi-dimensional data structure, like a matrix."
   ],
   "metadata": {
    "collapsed": false
   },
   "id": "9fabdac253089639"
  },
  {
   "cell_type": "code",
   "outputs": [
    {
     "name": "stdout",
     "output_type": "stream",
     "text": [
      "[[5 2 9]\n",
      " [1 3 6]\n",
      " [3 6 2]]\n",
      "5\n",
      "2\n",
      "9\n",
      "1\n",
      "3\n",
      "6\n",
      "3\n",
      "6\n",
      "2\n"
     ]
    }
   ],
   "source": [
    "import numpy as np\n",
    "ranM = np.random.randint(0, 10, (3, 3))\n",
    "\n",
    "print(ranM)\n",
    "\n",
    "for row in ranM:\n",
    "    for element in row:\n",
    "        print(element)"
   ],
   "metadata": {
    "collapsed": false,
    "ExecuteTime": {
     "end_time": "2024-05-15T10:13:27.301881100Z",
     "start_time": "2024-05-15T10:13:27.270324500Z"
    }
   },
   "id": "49e4f1efe3dbf86d",
   "execution_count": 38
  },
  {
   "cell_type": "markdown",
   "source": [
    "## While Loop\n",
    "This type of loop is used to repeat a block of code as long a condition is fulfilled (== True).\n",
    "IMPORTANT: Be careful with while loops, they can run forever if the condition is never met. \n",
    "IMPORTANT: We check the condition at the beginning of the loop, so if the condition is not met, the loop will not run at all."
   ],
   "metadata": {
    "collapsed": false
   },
   "id": "533ea7dc9fef4d35"
  },
  {
   "cell_type": "code",
   "outputs": [
    {
     "name": "stdout",
     "output_type": "stream",
     "text": [
      "ahhhhhhhhh\n",
      "9\n"
     ]
    }
   ],
   "source": [
    "#imagine we want to add a character to a string until it reaches a certain length\n",
    "#additionally we want to get the number of characters we added\n",
    "\n",
    "string = \"a\"\n",
    "counter = 0\n",
    "\n",
    "while len(string) < 10: #here we encounter two new things: len() and the += operator\n",
    "    string += \"h\"\n",
    "    counter += 1\n",
    "\n",
    "print(string)\n",
    "print(counter)"
   ],
   "metadata": {
    "collapsed": false,
    "ExecuteTime": {
     "end_time": "2024-05-15T10:13:27.331553400Z",
     "start_time": "2024-05-15T10:13:27.306541300Z"
    }
   },
   "id": "3b997e9ccefc6872",
   "execution_count": 39
  },
  {
   "cell_type": "markdown",
   "source": [
    "## Break\n",
    "Sometimes we want to stop the loop before it finishes. For this we can use the `break` statement."
   ],
   "metadata": {
    "collapsed": false
   },
   "id": "dbdef3b444060a1a"
  },
  {
   "cell_type": "code",
   "outputs": [
    {
     "name": "stdout",
     "output_type": "stream",
     "text": [
      "This can run forever\n"
     ]
    }
   ],
   "source": [
    "while(True):\n",
    "    print(\"This can run forever\")\n",
    "    if input(\"Do you want to stop? (y/n)\") == \"y\": #input() is a function that waits for user input\n",
    "        break"
   ],
   "metadata": {
    "collapsed": false,
    "ExecuteTime": {
     "end_time": "2024-05-15T10:13:28.959543Z",
     "start_time": "2024-05-15T10:13:27.336059100Z"
    }
   },
   "id": "1d37a2f978f44707",
   "execution_count": 40
  },
  {
   "cell_type": "markdown",
   "source": [
    "TASK: Run through each item of the list `a` (the one we already used) and stop the loop when you encounter a string. There are multiple ways to do this."
   ],
   "metadata": {
    "collapsed": false
   },
   "id": "9807fdc178310a7b"
  },
  {
   "cell_type": "markdown",
   "source": [
    "## Continue\n",
    "Sometimes we want to skip the rest of the code in the loop and start the next iteration. For this we can use the `continue` statement. This comes in handy, if we want to iterate through files for example and skip the ones that are not of interest."
   ],
   "metadata": {
    "collapsed": false
   },
   "id": "2d67bba6eb337fd0"
  },
  {
   "cell_type": "code",
   "outputs": [
    {
     "name": "stdout",
     "output_type": "stream",
     "text": [
      "hello\n",
      "hello\n",
      "hello\n",
      "hello\n",
      "hello\n"
     ]
    }
   ],
   "source": [
    "for i in range(10): #what happens here?\n",
    "    if i % 2 == 0:\n",
    "        continue\n",
    "    print(\"hello\")"
   ],
   "metadata": {
    "collapsed": false,
    "ExecuteTime": {
     "end_time": "2024-05-15T10:13:28.959543Z",
     "start_time": "2024-05-15T10:13:28.915093800Z"
    }
   },
   "id": "23e0f9ed521bc3c3",
   "execution_count": 41
  },
  {
   "cell_type": "markdown",
   "source": [
    "## Pass\n",
    "Sometimes we want to have an empty loop or function. For this we can use the `pass` statement. This can be useful when we are not sure what to put in the loop yet, but we want to have it there."
   ],
   "metadata": {
    "collapsed": false
   },
   "id": "99b18b07ccc5e954"
  },
  {
   "cell_type": "code",
   "outputs": [
    {
     "name": "stdout",
     "output_type": "stream",
     "text": [
      "9\n"
     ]
    }
   ],
   "source": [
    "for i in range(10): \n",
    "    pass\n",
    "print(i)"
   ],
   "metadata": {
    "collapsed": false,
    "ExecuteTime": {
     "end_time": "2024-05-15T10:13:28.960672700Z",
     "start_time": "2024-05-15T10:13:28.932547400Z"
    }
   },
   "id": "1524a6bc85b6cfff",
   "execution_count": 42
  },
  {
   "cell_type": "markdown",
   "source": [
    "## Comprehensions\n",
    "Comprehensions are a way to create lists, dictionaries or sets in a more concise way. They are very useful. Here we will only look at list comprehensions.\n",
    "This is how we can use a for loop to create a list:"
   ],
   "metadata": {
    "collapsed": false
   },
   "id": "6f2e985712bda1f0"
  },
  {
   "cell_type": "code",
   "outputs": [
    {
     "name": "stdout",
     "output_type": "stream",
     "text": [
      "[0, 1, 2, 3, 4, 5, 6, 7, 8, 9]\n"
     ]
    }
   ],
   "source": [
    "a = [i for i in range(10)]\n",
    "print(a)"
   ],
   "metadata": {
    "collapsed": false,
    "ExecuteTime": {
     "end_time": "2024-05-15T10:13:29.026991Z",
     "start_time": "2024-05-15T10:13:28.968679400Z"
    }
   },
   "id": "2dfbf1e76a6917ba",
   "execution_count": 43
  },
  {
   "cell_type": "markdown",
   "source": [
    "We can even add an if statement when iterating:"
   ],
   "metadata": {
    "collapsed": false
   },
   "id": "2b21edc9e4e2f781"
  },
  {
   "cell_type": "code",
   "outputs": [
    {
     "name": "stdout",
     "output_type": "stream",
     "text": [
      "[0, 2, 4, 6, 8]\n"
     ]
    }
   ],
   "source": [
    "a = [i for i in range(10) if i % 2 == 0]\n",
    "print(a)"
   ],
   "metadata": {
    "collapsed": false,
    "ExecuteTime": {
     "end_time": "2024-05-15T10:13:29.028010800Z",
     "start_time": "2024-05-15T10:13:28.973673300Z"
    }
   },
   "id": "280956d67f3aa46d",
   "execution_count": 44
  },
  {
   "cell_type": "markdown",
   "source": [
    "We can perform operations on the elements we iterate over:"
   ],
   "metadata": {
    "collapsed": false
   },
   "id": "137d9740b318a976"
  },
  {
   "cell_type": "code",
   "outputs": [
    {
     "name": "stdout",
     "output_type": "stream",
     "text": [
      "[0, 1, 4, 9, 16, 25, 36, 49, 64, 81]\n"
     ]
    }
   ],
   "source": [
    "a = [i**2 for i in range(10)]\n",
    "print(a)"
   ],
   "metadata": {
    "collapsed": false,
    "ExecuteTime": {
     "end_time": "2024-05-15T10:13:29.077551200Z",
     "start_time": "2024-05-15T10:13:29.031781300Z"
    }
   },
   "id": "827134b35ef481ef",
   "execution_count": 45
  },
  {
   "cell_type": "markdown",
   "source": [
    "The topic of comprehensions is very broad and we will not go into more detail here. But you should know that they exist and are very useful. So don't be surprised if you encounter them in code."
   ],
   "metadata": {
    "collapsed": false
   },
   "id": "bba7348ec64d3144"
  }
 ],
 "metadata": {
  "kernelspec": {
   "display_name": "Python 3",
   "language": "python",
   "name": "python3"
  },
  "language_info": {
   "codemirror_mode": {
    "name": "ipython",
    "version": 2
   },
   "file_extension": ".py",
   "mimetype": "text/x-python",
   "name": "python",
   "nbconvert_exporter": "python",
   "pygments_lexer": "ipython2",
   "version": "2.7.6"
  }
 },
 "nbformat": 4,
 "nbformat_minor": 5
}
