{
 "cells": [
  {
   "cell_type": "markdown",
   "source": [
    "# Modules and Objects\n",
    "In the last part we have learned about functions and how to use them. Now we first learn how to write our own modules and how to import them. Then we will learn about objects and classes."
   ],
   "metadata": {
    "collapsed": false
   },
   "id": "601237cb5a56e0ff"
  },
  {
   "cell_type": "markdown",
   "source": [
    "## Modules\n",
    "When defining functions in the code we want to use them in, it can get really crowded and hard to read. Therefore, we can define functions in separate files and import them into our code. Furthermore, we can reuse these modules and import our stuff in other projects and scripts as well. These files are called modules. NumPy, for example, is a module that contains many functions and classes for numerical computing. You already know how to import it:"
   ],
   "metadata": {
    "collapsed": false
   },
   "id": "c5f04ad1f6a01f5a"
  },
  {
   "cell_type": "code",
   "outputs": [],
   "source": [
    "import numpy as np"
   ],
   "metadata": {
    "collapsed": false,
    "ExecuteTime": {
     "end_time": "2024-10-13T13:45:34.465791400Z",
     "start_time": "2024-10-13T13:45:34.424086500Z"
    }
   },
   "id": "451f0af2ec5520f0",
   "execution_count": 50
  },
  {
   "cell_type": "markdown",
   "source": [
    "After that you can use functions and classes from the module by using the dot operator:"
   ],
   "metadata": {
    "collapsed": false
   },
   "id": "c4004560e1dfbe08"
  },
  {
   "cell_type": "code",
   "outputs": [],
   "source": [
    "array1 = np.array([1, 2, 3])"
   ],
   "metadata": {
    "collapsed": false,
    "ExecuteTime": {
     "end_time": "2024-10-13T13:45:34.503552800Z",
     "start_time": "2024-10-13T13:45:34.470545400Z"
    }
   },
   "id": "d1160a1abd0d1ef8",
   "execution_count": 51
  },
  {
   "cell_type": "markdown",
   "source": [
    "### Writing your own modules\n",
    "A module is simply put another Python file. You can write your own modules by creating a new Python file and defining functions in it. Let's create a new file called `module1.py` and define a function in it:"
   ],
   "metadata": {
    "collapsed": false
   },
   "id": "77d7a3a23774784f"
  },
  {
   "cell_type": "code",
   "outputs": [],
   "source": [
    "def my_function():\n",
    "    print(\"I was imported from module1\")"
   ],
   "metadata": {
    "collapsed": false,
    "ExecuteTime": {
     "end_time": "2024-10-13T13:45:34.510734Z",
     "start_time": "2024-10-13T13:45:34.508725700Z"
    }
   },
   "id": "bdb2de624f59414e",
   "execution_count": 52
  },
  {
   "cell_type": "markdown",
   "source": [
    "Now we can import this module (saved as `module1.py`) and use the function `my_function`:"
   ],
   "metadata": {
    "collapsed": false
   },
   "id": "7c21c1b79f8b1dae"
  },
  {
   "cell_type": "code",
   "outputs": [
    {
     "name": "stdout",
     "output_type": "stream",
     "text": [
      "I was imported from module1\n"
     ]
    }
   ],
   "source": [
    "import module1\n",
    "module1.my_function()"
   ],
   "metadata": {
    "collapsed": false,
    "ExecuteTime": {
     "end_time": "2024-10-13T13:45:34.523284400Z",
     "start_time": "2024-10-13T13:45:34.512734100Z"
    }
   },
   "id": "8a26fdfb3c76810d",
   "execution_count": 53
  },
  {
   "cell_type": "markdown",
   "source": [
    "Note that the file `module1.py` has to be in the same directory as the script you are running. If you want to import a module from a different directory, you can add the directory to the Python path. This can be done by adding the following lines to your script:"
   ],
   "metadata": {
    "collapsed": false
   },
   "id": "afd149fad50d3877"
  },
  {
   "cell_type": "code",
   "outputs": [],
   "source": [
    "import sys #this is a standard Python module to access system functions\n",
    "sys.path.append(\"path/to/your/module\")\n",
    "import module1"
   ],
   "metadata": {
    "collapsed": false,
    "ExecuteTime": {
     "end_time": "2024-10-13T13:45:34.533139900Z",
     "start_time": "2024-10-13T13:45:34.519668500Z"
    }
   },
   "id": "ff85ddcb85e4647d",
   "execution_count": 54
  },
  {
   "cell_type": "markdown",
   "source": [
    "Or you can copy your module to the Python path. You can find out what the Python path is by running the following code:"
   ],
   "metadata": {
    "collapsed": false
   },
   "id": "ded962b93ed59a80"
  },
  {
   "cell_type": "code",
   "outputs": [],
   "source": [
    "import sys\n",
    "print(sys.path) # this might look weird but it is a list of directories where Python looks for modules"
   ],
   "metadata": {
    "collapsed": false,
    "ExecuteTime": {
     "end_time": "2024-10-13T13:45:34.535657700Z",
     "start_time": "2024-10-13T13:45:34.525283Z"
    }
   },
   "id": "16c749f687ac5ebb",
   "execution_count": 55
  },
  {
   "cell_type": "markdown",
   "source": [
    "After receiving the path, you can copy your module to one of the directories listed in the output and then use it where ever you have this interpreter running."
   ],
   "metadata": {
    "collapsed": false
   },
   "id": "5f4df6526d74fe81"
  },
  {
   "cell_type": "markdown",
   "source": [
    "## Objects and Classes\n",
    "Remember NumPy arrays? They are objects. Objects are a way to bundle data and functions that operate on that data. For example, a NumPy array contains data and functions to manipulate this data. A class is a blueprint for an object. It defines what data an object of this class has and what functions can be used on this data. Let's define a class:"
   ],
   "metadata": {
    "collapsed": false
   },
   "id": "3b48d24de0771b28"
  },
  {
   "cell_type": "code",
   "outputs": [],
   "source": [
    "class Class1:\n",
    "    def __init__(self, x):\n",
    "        self.x = x\n",
    "        \n",
    "    def my_function(self):\n",
    "        print(\"I was called with x =\", self.x)"
   ],
   "metadata": {
    "collapsed": false,
    "ExecuteTime": {
     "end_time": "2024-10-13T13:45:34.585787100Z",
     "start_time": "2024-10-13T13:45:34.533650500Z"
    }
   },
   "id": "571ac9954396b3ca",
   "execution_count": 56
  },
  {
   "cell_type": "markdown",
   "source": [
    "There are several things to unpack here, so let's go through it step by step:\n",
    "- `class Class1:`: This line defines a new class called `Class1`.\n",
    "- `def __init__(self, x)`: This is a special function called a constructor. It is called when an object of this class is created. The `self` parameter is a reference to the object itself and needs to be there. The `x` parameter is the data we want to store in the object.\n",
    "- `self.x = x`: This line stores the data `x` in the object. We cannot give the data a name like `x` directly, because it would be lost when the constructor finishes. Instead, we store it in the object using `self.x`.\n",
    "- `def my_function(self)`: This is a function that can be called on an object of this class. The `self` parameter is again a reference to the object itself.\n",
    "- `print(\"I was called with x =\", self.x)`: This line prints the data stored in the object."
   ],
   "metadata": {
    "collapsed": false
   },
   "id": "d4ac8632bc476531"
  },
  {
   "cell_type": "markdown",
   "source": [
    "### Creating an object\n",
    "Now that we have defined a class, we can create an object of this class:"
   ],
   "metadata": {
    "collapsed": false
   },
   "id": "12ffd7c88665c2fd"
  },
  {
   "cell_type": "code",
   "outputs": [],
   "source": [
    "object1 = Class1(5)"
   ],
   "metadata": {
    "collapsed": false,
    "ExecuteTime": {
     "end_time": "2024-10-13T13:45:34.585787100Z",
     "start_time": "2024-10-13T13:45:34.536660600Z"
    }
   },
   "id": "932997316065910",
   "execution_count": 57
  },
  {
   "cell_type": "markdown",
   "source": [
    "This line defines a new object of the class `Class1` and calls the constructor with the parameter `5`. The data `5` is stored in the object. But what happens if we call the function `my_function` on this object?"
   ],
   "metadata": {
    "collapsed": false
   },
   "id": "897c4fe059b8e1cb"
  },
  {
   "cell_type": "code",
   "outputs": [
    {
     "name": "stdout",
     "output_type": "stream",
     "text": [
      "I was called with x = 5\n"
     ]
    }
   ],
   "source": [
    "object1.my_function()"
   ],
   "metadata": {
    "collapsed": false,
    "ExecuteTime": {
     "end_time": "2024-10-13T13:45:34.586834700Z",
     "start_time": "2024-10-13T13:45:34.543553900Z"
    }
   },
   "id": "8b53c85c6c0ddf59",
   "execution_count": 58
  },
  {
   "cell_type": "markdown",
   "source": [
    "As you would expect, the function prints the data stored in the object. We can create multiple objects of the same class and they will all have their own data. This really shows the usefulness of objects and classes. They allow us to bundle data and functions that operate on this data together and lets us have multiple instances of this bundle."
   ],
   "metadata": {
    "collapsed": false
   },
   "id": "5d88d0a93ff5098a"
  },
  {
   "cell_type": "code",
   "outputs": [],
   "source": [
    "object2 = Class1(10)"
   ],
   "metadata": {
    "collapsed": false,
    "ExecuteTime": {
     "end_time": "2024-10-13T13:45:34.586834700Z",
     "start_time": "2024-10-13T13:45:34.549392100Z"
    }
   },
   "id": "4ecfc58aa7dd85b6",
   "execution_count": 59
  },
  {
   "cell_type": "markdown",
   "source": [
    "As you can see, both are not interfering with each other. They have their own data and functions. "
   ],
   "metadata": {
    "collapsed": false
   },
   "id": "6cb4b9079795538"
  },
  {
   "cell_type": "code",
   "outputs": [
    {
     "name": "stdout",
     "output_type": "stream",
     "text": [
      "I was called with x = 10\n",
      "I was called with x = 5\n"
     ]
    }
   ],
   "source": [
    "object2.my_function()\n",
    "object1.my_function()"
   ],
   "metadata": {
    "collapsed": false,
    "ExecuteTime": {
     "end_time": "2024-10-13T13:45:34.587782700Z",
     "start_time": "2024-10-13T13:45:34.555582300Z"
    }
   },
   "id": "51a0922d0e670815",
   "execution_count": 60
  },
  {
   "cell_type": "markdown",
   "source": [
    "We can also change the content of the object, by changing the data stored in it:"
   ],
   "metadata": {
    "collapsed": false
   },
   "id": "b3760a5a1a6d7d48"
  },
  {
   "cell_type": "code",
   "outputs": [],
   "source": [
    "object1.x = 7"
   ],
   "metadata": {
    "collapsed": false,
    "ExecuteTime": {
     "end_time": "2024-10-13T13:45:34.654736300Z",
     "start_time": "2024-10-13T13:45:34.592640400Z"
    }
   },
   "id": "47c18bb83ce2a80a",
   "execution_count": 61
  },
  {
   "cell_type": "markdown",
   "source": [
    "This line changes the data stored in the object `object1` to `7`. If we call the function `my_function` on `object1` now, it will print the new data:"
   ],
   "metadata": {
    "collapsed": false
   },
   "id": "191dc5c83b4426c3"
  },
  {
   "cell_type": "code",
   "outputs": [
    {
     "name": "stdout",
     "output_type": "stream",
     "text": [
      "I was called with x = 7\n"
     ]
    }
   ],
   "source": [
    "object1.my_function()"
   ],
   "metadata": {
    "collapsed": false,
    "ExecuteTime": {
     "end_time": "2024-10-13T13:45:34.677481200Z",
     "start_time": "2024-10-13T13:45:34.659822600Z"
    }
   },
   "id": "ce8dcc1431493d44",
   "execution_count": 62
  },
  {
   "cell_type": "markdown",
   "source": [
    "Also, we can change data in the object by calling a function on it:"
   ],
   "metadata": {
    "collapsed": false
   },
   "id": "4bef3c422e0f7878"
  },
  {
   "cell_type": "code",
   "outputs": [],
   "source": [
    "class Class2:\n",
    "    def __init__(self, x):\n",
    "        self.x = x\n",
    "        \n",
    "    def set_x(self, new_x):\n",
    "        self.x = new_x\n",
    "        \n",
    "    def my_function(self):\n",
    "        print(\"I was called with x =\", self.x)"
   ],
   "metadata": {
    "collapsed": false,
    "ExecuteTime": {
     "end_time": "2024-10-13T13:45:34.720970900Z",
     "start_time": "2024-10-13T13:45:34.681962600Z"
    }
   },
   "id": "d4874d3bda4cf3e8",
   "execution_count": 63
  },
  {
   "cell_type": "markdown",
   "source": [
    "This is a new class `Class2` that has a function `set_x` that changes the data stored in the object. Let's create an object of this class and change the data stored in it:"
   ],
   "metadata": {
    "collapsed": false
   },
   "id": "c2eff606b3af7aa5"
  },
  {
   "cell_type": "code",
   "outputs": [
    {
     "name": "stdout",
     "output_type": "stream",
     "text": [
      "I was called with x = 3\n"
     ]
    }
   ],
   "source": [
    "object3 = Class2(3)\n",
    "object3.my_function()"
   ],
   "metadata": {
    "collapsed": false,
    "ExecuteTime": {
     "end_time": "2024-10-13T13:45:34.723979800Z",
     "start_time": "2024-10-13T13:45:34.688486800Z"
    }
   },
   "id": "8e7043b9ea73504d",
   "execution_count": 64
  },
  {
   "cell_type": "markdown",
   "source": [
    "Now we change the data stored in the object:"
   ],
   "metadata": {
    "collapsed": false
   },
   "id": "f550399d39974f90"
  },
  {
   "cell_type": "code",
   "outputs": [
    {
     "name": "stdout",
     "output_type": "stream",
     "text": [
      "I was called with x = 8\n"
     ]
    }
   ],
   "source": [
    "object3.set_x(8)\n",
    "object3.my_function()"
   ],
   "metadata": {
    "collapsed": false,
    "ExecuteTime": {
     "end_time": "2024-10-13T13:45:34.724970800Z",
     "start_time": "2024-10-13T13:45:34.697224500Z"
    }
   },
   "id": "8633c66c49a24ec2",
   "execution_count": 65
  },
  {
   "cell_type": "markdown",
   "source": [
    "As you can see, the data stored in the object has changed. This is a very powerful concept and is used in many programming languages. This is the basis of object-oriented programming."
   ],
   "metadata": {
    "collapsed": false
   },
   "id": "99d457a4a84e59fc"
  },
  {
   "cell_type": "markdown",
   "source": [
    "## Putting it all together\n",
    "We can of course use modules and classes together. Let's define a class in a module and import it into our script. For this create a new file called `module2.py` and define a class in it:"
   ],
   "metadata": {
    "collapsed": false
   },
   "id": "eb9f53f2b964da07"
  },
  {
   "cell_type": "code",
   "outputs": [],
   "source": [
    "class ModuleClass:\n",
    "    def __init__(self, x):\n",
    "        self.x = x\n",
    "        \n",
    "    def my_function(self):\n",
    "        print(\"I was called with x =\", self.x)"
   ],
   "metadata": {
    "collapsed": false,
    "ExecuteTime": {
     "end_time": "2024-10-13T13:45:34.795968300Z",
     "start_time": "2024-10-13T13:45:34.729954100Z"
    }
   },
   "id": "6c323becf2ff72f",
   "execution_count": 66
  },
  {
   "cell_type": "markdown",
   "source": [
    "Now we can import this class and use it in our script:"
   ],
   "metadata": {
    "collapsed": false
   },
   "id": "4d66677916b13581"
  },
  {
   "cell_type": "code",
   "outputs": [],
   "source": [
    "import module2 as m2 # we can of course give our module an alias\n",
    "object4 = m2.ModuleClass(4)"
   ],
   "metadata": {
    "collapsed": false,
    "ExecuteTime": {
     "end_time": "2024-10-13T13:45:34.812211600Z",
     "start_time": "2024-10-13T13:45:34.801027500Z"
    }
   },
   "id": "c5b5d12c5cd8ba29",
   "execution_count": 67
  },
  {
   "cell_type": "markdown",
   "source": [
    "And we can call the function on the object:"
   ],
   "metadata": {
    "collapsed": false
   },
   "id": "21056dccc8830825"
  },
  {
   "cell_type": "code",
   "outputs": [
    {
     "name": "stdout",
     "output_type": "stream",
     "text": [
      "I was called with x = 4\n"
     ]
    }
   ],
   "source": [
    "object4.my_function()"
   ],
   "metadata": {
    "collapsed": false,
    "ExecuteTime": {
     "end_time": "2024-10-13T13:45:34.841484Z",
     "start_time": "2024-10-13T13:45:34.816879500Z"
    }
   },
   "id": "59ff4434a561a67a",
   "execution_count": 68
  }
 ],
 "metadata": {
  "kernelspec": {
   "display_name": "Python 3",
   "language": "python",
   "name": "python3"
  },
  "language_info": {
   "codemirror_mode": {
    "name": "ipython",
    "version": 2
   },
   "file_extension": ".py",
   "mimetype": "text/x-python",
   "name": "python",
   "nbconvert_exporter": "python",
   "pygments_lexer": "ipython2",
   "version": "2.7.6"
  }
 },
 "nbformat": 4,
 "nbformat_minor": 5
}
