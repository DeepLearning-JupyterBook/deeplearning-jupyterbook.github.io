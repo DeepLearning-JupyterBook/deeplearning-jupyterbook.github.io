{
 "cells": [
  {
   "cell_type": "markdown",
   "source": [
    "# Modules and NumPy Arrays\n",
    "\n",
    "A lot of the power of Python comes from the fact that it has a lot of MODULES that you can use. A module gives us additional functions we can use in our code. \n",
    "\n",
    "## Build-in Modules\n",
    "On your Pythoneering journey, you will come across a lot of modules that are built into Python. These modules are already installed and ready to use.\n",
    "\n",
    "### Math\n",
    "This module contains a lot of handy mathematical functions that you can use in your code. "
   ],
   "metadata": {
    "collapsed": false
   },
   "id": "9e2c5473006a69a4"
  },
  {
   "cell_type": "code",
   "outputs": [
    {
     "name": "stdout",
     "output_type": "stream",
     "text": [
      "4.0\n",
      "1.5707963267948966\n"
     ]
    }
   ],
   "source": [
    "#we import modules using the import keyword\n",
    "import math\n",
    "\n",
    "#access functions of the module using the dot operator\n",
    "print(math.sqrt(16))\n",
    "print(math.radians(90))"
   ],
   "metadata": {
    "collapsed": false,
    "ExecuteTime": {
     "end_time": "2024-04-20T13:05:19.354499400Z",
     "start_time": "2024-04-20T13:05:19.271623300Z"
    }
   },
   "id": "707be187cff07a0",
   "execution_count": 22
  },
  {
   "cell_type": "markdown",
   "source": [
    "To easier access the functions in the module, you can import the functions directly."
   ],
   "metadata": {
    "collapsed": false
   },
   "id": "e0b99046fbbd8403"
  },
  {
   "cell_type": "code",
   "outputs": [
    {
     "name": "stdout",
     "output_type": "stream",
     "text": [
      "4.0\n",
      "1.5707963267948966\n"
     ]
    }
   ],
   "source": [
    "from math import sqrt, radians\n",
    "\n",
    "print(sqrt(16))\n",
    "print(radians(90))"
   ],
   "metadata": {
    "collapsed": false,
    "ExecuteTime": {
     "end_time": "2024-04-20T13:05:19.384236Z",
     "start_time": "2024-04-20T13:05:19.360020600Z"
    }
   },
   "id": "7d8a8b62a7ea2fa7",
   "execution_count": 23
  },
  {
   "cell_type": "markdown",
   "source": [
    "To further ease our work, we can rename the modules we access in our code:"
   ],
   "metadata": {
    "collapsed": false
   },
   "id": "404fdf2801e3662"
  },
  {
   "cell_type": "code",
   "outputs": [
    {
     "name": "stdout",
     "output_type": "stream",
     "text": [
      "4.0\n",
      "1.5707963267948966\n"
     ]
    }
   ],
   "source": [
    "import math as m #renaming the math module to m by using the as keyword\n",
    "\n",
    "print(m.sqrt(16))\n",
    "print(m.radians(90))"
   ],
   "metadata": {
    "collapsed": false,
    "ExecuteTime": {
     "end_time": "2024-04-20T13:05:19.455458Z",
     "start_time": "2024-04-20T13:05:19.387240Z"
    }
   },
   "id": "50686118374de55b",
   "execution_count": 24
  },
  {
   "cell_type": "markdown",
   "source": [
    "### Random\n",
    "This module contains functions that allow us to generate random numbers. "
   ],
   "metadata": {
    "collapsed": false
   },
   "id": "22e735c6980434d6"
  },
  {
   "cell_type": "code",
   "outputs": [
    {
     "name": "stdout",
     "output_type": "stream",
     "text": [
      "1\n",
      "0.32381899603958864\n"
     ]
    }
   ],
   "source": [
    "import random as rd\n",
    "\n",
    "print(rd.randint(1, 10))\n",
    "print(rd.random())"
   ],
   "metadata": {
    "collapsed": false,
    "ExecuteTime": {
     "end_time": "2024-04-20T13:05:19.457462600Z",
     "start_time": "2024-04-20T13:05:19.395088300Z"
    }
   },
   "id": "8acd8c27da46a56b",
   "execution_count": 25
  },
  {
   "cell_type": "markdown",
   "source": [
    "## External Modules\n",
    "These are modules that are not built into Python. You have to install them before you can use them. You can either use your IDE's package manager or use the pip command in the terminal.\n",
    "\n",
    "Let's go through both methods.\n",
    "\n",
    "### Package Manager\n",
    "Most IDEs have a package manager that you can use to install external modules. Let's install numpy using the package manager in PyCharm.\n",
    "\n",
    "### pip install\n",
    "You can also install external modules using the pip command in the terminal. \n",
    "\n",
    "To install a module, you use the command:\n",
    "```bash\n",
    "pip install module_name\n",
    "```\n",
    "\n",
    "Let's install the matplotlib and pandas module using the pip command."
   ],
   "metadata": {
    "collapsed": false
   },
   "id": "c94d24418a7fc359"
  },
  {
   "cell_type": "markdown",
   "source": [
    "### NumPy\n",
    "NumPy is a powerful module that allows us to work with arrays and matrices. In this chapter we will start with some numpy commands.\n",
    "Numpy is commonly shortened to np when imported."
   ],
   "metadata": {
    "collapsed": false
   },
   "id": "9d15cd0a2165c239"
  },
  {
   "cell_type": "code",
   "outputs": [],
   "source": [
    "import numpy as np"
   ],
   "metadata": {
    "collapsed": false,
    "ExecuteTime": {
     "end_time": "2024-04-20T13:05:19.473175700Z",
     "start_time": "2024-04-20T13:05:19.415353400Z"
    }
   },
   "id": "5ec35cc0da71934",
   "execution_count": 26
  },
  {
   "cell_type": "markdown",
   "source": [
    "With numpy we can create arrays using the array() function. Those arrays can be used to perform mathematical operations on."
   ],
   "metadata": {
    "collapsed": false
   },
   "id": "2e529de7d1d0784f"
  },
  {
   "cell_type": "code",
   "outputs": [
    {
     "name": "stdout",
     "output_type": "stream",
     "text": [
      "[1 2 3 4 5]\n"
     ]
    }
   ],
   "source": [
    "a = np.array([1, 2, 3, 4, 5])\n",
    "print(a)"
   ],
   "metadata": {
    "collapsed": false,
    "ExecuteTime": {
     "end_time": "2024-04-20T13:05:19.521368100Z",
     "start_time": "2024-04-20T13:05:19.463992500Z"
    }
   },
   "id": "ed512b09eb8f58e9",
   "execution_count": 27
  },
  {
   "cell_type": "markdown",
   "source": [
    "We can also create multi-dimensional arrays using numpy.\n",
    "In MATLAB we would use the following syntax:\n",
    "```matlab\n",
    "a = [1, 2, 3; 4, 5, 6]\n",
    "```\n",
    "With numpy we use the following syntax:"
   ],
   "metadata": {
    "collapsed": false
   },
   "id": "99edd00b82b55f3d"
  },
  {
   "cell_type": "code",
   "outputs": [],
   "source": [
    "b = np.array([[1, 2, 3], [4, 5, 6]])"
   ],
   "metadata": {
    "collapsed": false,
    "ExecuteTime": {
     "end_time": "2024-04-20T13:05:19.561566Z",
     "start_time": "2024-04-20T13:05:19.527377100Z"
    }
   },
   "id": "3649d2e21a29bf6e",
   "execution_count": 28
  },
  {
   "cell_type": "markdown",
   "source": [
    "To index a numpy array, we use the same syntax as we would use for a list."
   ],
   "metadata": {
    "collapsed": false
   },
   "id": "3824c39a64b7ec8c"
  },
  {
   "cell_type": "code",
   "outputs": [
    {
     "name": "stdout",
     "output_type": "stream",
     "text": [
      "2\n",
      "[1 2 3]\n",
      "[1 2 3]\n"
     ]
    }
   ],
   "source": [
    "print(b[0, 1]) #the element in the first row and second column\n",
    "#to get the first row\n",
    "print(b[0])\n",
    "#or\n",
    "print(b[0, :]) #the colon means all elements in that dimension"
   ],
   "metadata": {
    "collapsed": false,
    "ExecuteTime": {
     "end_time": "2024-04-20T13:05:19.601322200Z",
     "start_time": "2024-04-20T13:05:19.553285900Z"
    }
   },
   "id": "1fe7e26468802835",
   "execution_count": 29
  },
  {
   "cell_type": "markdown",
   "source": [
    "With arange() we can create an array with a range of numbers."
   ],
   "metadata": {
    "collapsed": false
   },
   "id": "ef5792421261b1e3"
  },
  {
   "cell_type": "code",
   "outputs": [],
   "source": [
    "c = np.arange(10) #this will create an array with numbers from 0 to 9"
   ],
   "metadata": {
    "collapsed": false,
    "ExecuteTime": {
     "end_time": "2024-04-20T13:05:19.638406100Z",
     "start_time": "2024-04-20T13:05:19.609866600Z"
    }
   },
   "id": "956a4d4cb14b7132",
   "execution_count": 30
  },
  {
   "cell_type": "markdown",
   "source": [
    "We can also create arrays with zeros or ones using the zeros() and ones() functions. You should notice this from MATLAB.\n",
    "NOTE: The zeros() and ones() functions take a tuple as an argument of size if we want to specify a multidimensional size of the array."
   ],
   "metadata": {
    "collapsed": false
   },
   "id": "edac3891328a1cf1"
  },
  {
   "cell_type": "code",
   "outputs": [],
   "source": [
    "d = np.zeros((3, 3)) #this will create a 3x3 array with zeros"
   ],
   "metadata": {
    "collapsed": false,
    "ExecuteTime": {
     "end_time": "2024-04-20T13:05:19.681002900Z",
     "start_time": "2024-04-20T13:05:19.630899Z"
    }
   },
   "id": "96451a9fcc2a1d17",
   "execution_count": 31
  },
  {
   "cell_type": "markdown",
   "source": [
    "Unlike in MATLAB, a single digit as the size of the array will create a 1D array."
   ],
   "metadata": {
    "collapsed": false
   },
   "id": "5baaf5d79d3ebd3d"
  },
  {
   "cell_type": "code",
   "outputs": [
    {
     "name": "stdout",
     "output_type": "stream",
     "text": [
      "[0. 0. 0.]\n"
     ]
    }
   ],
   "source": [
    "a = np.zeros(3)\n",
    "print(a)"
   ],
   "metadata": {
    "collapsed": false,
    "ExecuteTime": {
     "end_time": "2024-04-20T13:05:19.709182300Z",
     "start_time": "2024-04-20T13:05:19.687612Z"
    }
   },
   "id": "ea6af65fab10462",
   "execution_count": 32
  },
  {
   "cell_type": "markdown",
   "source": [
    "We can also create \"column\" or \"row\" vectors using the reshape() function or specifying the size of the array when creating it."
   ],
   "metadata": {
    "collapsed": false
   },
   "id": "c118e88760a85065"
  },
  {
   "cell_type": "code",
   "outputs": [
    {
     "name": "stdout",
     "output_type": "stream",
     "text": [
      "[[0.]\n",
      " [0.]\n",
      " [0.]]\n",
      "[[0. 0. 0.]]\n"
     ]
    }
   ],
   "source": [
    "b = np.zeros((3, 1)) #this will create a 3x1 array\n",
    "print(b)\n",
    "print(b.reshape(1, 3)) #this will reshape the array to a 1x3 array"
   ],
   "metadata": {
    "collapsed": false,
    "ExecuteTime": {
     "end_time": "2024-04-20T13:05:19.710189Z",
     "start_time": "2024-04-20T13:05:19.696151500Z"
    }
   },
   "id": "13cdc75bfbb34c42",
   "execution_count": 33
  },
  {
   "cell_type": "markdown",
   "source": [
    "You can simply add or multiply arrays element-wise."
   ],
   "metadata": {
    "collapsed": false
   },
   "id": "f30b4dbcc84751a2"
  },
  {
   "cell_type": "code",
   "outputs": [
    {
     "name": "stdout",
     "output_type": "stream",
     "text": [
      "[5 7 9]\n",
      "[ 4 10 18]\n"
     ]
    }
   ],
   "source": [
    "a = np.array([1, 2, 3])\n",
    "b = np.array([4, 5, 6])\n",
    "print(a + b) #no need for specification of element-wise operations like we had to with matlab (./)\n",
    "print(a * b)"
   ],
   "metadata": {
    "collapsed": false,
    "ExecuteTime": {
     "end_time": "2024-04-20T13:05:19.747667900Z",
     "start_time": "2024-04-20T13:05:19.713202800Z"
    }
   },
   "id": "5addb1c6536f3125",
   "execution_count": 34
  },
  {
   "cell_type": "markdown",
   "source": [
    "CAVE: This is substantially different from adding or multiplying lists. Using the + operator on lists will concatenate the lists. Using the * operator on lists will repeat the list."
   ],
   "metadata": {
    "collapsed": false
   },
   "id": "cc3a67f76e10d87c"
  },
  {
   "cell_type": "code",
   "outputs": [
    {
     "name": "stdout",
     "output_type": "stream",
     "text": [
      "[1, 2, 3, 4, 5, 6]\n",
      "[1, 2, 3, 1, 2, 3]\n"
     ]
    }
   ],
   "source": [
    "a = [1, 2, 3]\n",
    "b = [4, 5, 6]\n",
    "print(a + b) #this will concatenate the lists\n",
    "print(a * 2) #this will repeat the list"
   ],
   "metadata": {
    "collapsed": false,
    "ExecuteTime": {
     "end_time": "2024-04-20T13:05:19.785659300Z",
     "start_time": "2024-04-20T13:05:19.749173500Z"
    }
   },
   "id": "52c5432a37d76fe",
   "execution_count": 35
  },
  {
   "cell_type": "markdown",
   "source": [
    "Merging arrays is also possible with numpy. We can use the concatenate() function to merge arrays."
   ],
   "metadata": {
    "collapsed": false
   },
   "id": "dd539dfd179a5d27"
  },
  {
   "cell_type": "code",
   "outputs": [
    {
     "name": "stdout",
     "output_type": "stream",
     "text": [
      "[1 2 3 4 5 6]\n"
     ]
    }
   ],
   "source": [
    "a = np.array([1, 2, 3])\n",
    "b = np.array([4, 5, 6])\n",
    "c = np.concatenate((a, b))\n",
    "print(c)"
   ],
   "metadata": {
    "collapsed": false,
    "ExecuteTime": {
     "end_time": "2024-04-20T13:05:19.821651700Z",
     "start_time": "2024-04-20T13:05:19.789164700Z"
    }
   },
   "id": "997098fba669389e",
   "execution_count": 36
  },
  {
   "cell_type": "markdown",
   "source": [
    "We can also merge arrays in multiple dimensions. Here we have two possibilities:"
   ],
   "metadata": {
    "collapsed": false
   },
   "id": "819763df3e88a294"
  },
  {
   "cell_type": "code",
   "outputs": [
    {
     "name": "stdout",
     "output_type": "stream",
     "text": [
      "[[ 1  2  3]\n",
      " [ 4  5  6]\n",
      " [ 7  8  9]\n",
      " [10 11 12]]\n",
      "[[ 1  2  3  7  8  9]\n",
      " [ 4  5  6 10 11 12]]\n"
     ]
    }
   ],
   "source": [
    "#if we have 2D arrays we can concatenate along the columns\n",
    "a = np.array([[1, 2, 3], [4, 5, 6]])\n",
    "b = np.array([[7, 8, 9], [10, 11, 12]])\n",
    "c = np.concatenate((a, b), axis=0) #axis=0 means we are concatenating along the first axis (rows)\n",
    "print(c)\n",
    "c = np.concatenate((a, b), axis=1) #axis=1 means we are concatenating along the second axis (columns)\n",
    "print(c)"
   ],
   "metadata": {
    "collapsed": false,
    "ExecuteTime": {
     "end_time": "2024-04-20T13:05:19.871765100Z",
     "start_time": "2024-04-20T13:05:19.825658900Z"
    }
   },
   "id": "bbb4a59c7a80eae7",
   "execution_count": 37
  },
  {
   "cell_type": "markdown",
   "source": [
    "Task: What happens if we try to concatenate two arrays of different sizes?"
   ],
   "metadata": {
    "collapsed": false
   },
   "id": "4be8013252d16c80"
  },
  {
   "cell_type": "markdown",
   "source": [
    "At the end of this session, let us take a look at the `np.linspace()` function. This function creates an array with a specified number of elements between two numbers."
   ],
   "metadata": {
    "collapsed": false
   },
   "id": "bd341da304b88261"
  },
  {
   "cell_type": "code",
   "outputs": [
    {
     "name": "stdout",
     "output_type": "stream",
     "text": [
      "[ 0.   2.5  5.   7.5 10. ]\n"
     ]
    }
   ],
   "source": [
    "a = np.linspace(0, 10, 5) #this will create an array with 5 elements between 0 and 10\n",
    "print(a)"
   ],
   "metadata": {
    "collapsed": false,
    "ExecuteTime": {
     "end_time": "2024-04-20T13:05:19.925281800Z",
     "start_time": "2024-04-20T13:05:19.875767800Z"
    }
   },
   "id": "5488497ed2c2df5e",
   "execution_count": 38
  },
  {
   "cell_type": "markdown",
   "source": [
    "Of course you can go backwards."
   ],
   "metadata": {
    "collapsed": false
   },
   "id": "bdf8b5ad476bffd1"
  },
  {
   "cell_type": "code",
   "outputs": [
    {
     "name": "stdout",
     "output_type": "stream",
     "text": [
      "[10.   7.5  5.   2.5  0. ]\n"
     ]
    }
   ],
   "source": [
    "a = np.linspace(10, 0, 5) #this will create an array with 5 elements between 10 and 0\n",
    "print(a)"
   ],
   "metadata": {
    "collapsed": false,
    "ExecuteTime": {
     "end_time": "2024-04-20T13:05:19.954646200Z",
     "start_time": "2024-04-20T13:05:19.914905600Z"
    }
   },
   "id": "9f262b0f94c7d2d7",
   "execution_count": 39
  },
  {
   "cell_type": "markdown",
   "source": [
    "We can also create a 2D array with `np.linspace()` in conjunction with `reshape()`."
   ],
   "metadata": {
    "collapsed": false
   },
   "id": "7e15bbbd4b74c26a"
  },
  {
   "cell_type": "code",
   "outputs": [
    {
     "name": "stdout",
     "output_type": "stream",
     "text": [
      "[[ 0.  2.  4.]\n",
      " [ 6.  8. 10.]]\n"
     ]
    }
   ],
   "source": [
    "a = np.linspace(0, 10, 6).reshape(2, 3) #this will create a 2x3 array with 6 elements between 0 and 10\n",
    "print(a)"
   ],
   "metadata": {
    "collapsed": false,
    "ExecuteTime": {
     "end_time": "2024-04-20T13:05:19.972381400Z",
     "start_time": "2024-04-20T13:05:19.960167500Z"
    }
   },
   "id": "7084d1afc50d6d66",
   "execution_count": 40
  },
  {
   "cell_type": "markdown",
   "source": [
    "Some fun facts about reshape():\n",
    "- The number of elements in the reshaped array must be the same as the number of elements in the original array.\n",
    "- If you are unsure about a dimension, you can use -1. Numpy will automatically calculate the dimension for you. This is especially useful when you want to reshape multiple arrays with different sizes but a certain target size in one dimension.\n",
    "- The elements of the original array are filled row-wise into the reshaped array."
   ],
   "metadata": {
    "collapsed": false
   },
   "id": "258382dcf30217d9"
  },
  {
   "cell_type": "markdown",
   "source": [
    "A useful way to get the shape of an array is the `shape` attribute of the array."
   ],
   "metadata": {
    "collapsed": false
   },
   "id": "2d92b0ba5976e2da"
  },
  {
   "cell_type": "code",
   "outputs": [
    {
     "name": "stdout",
     "output_type": "stream",
     "text": [
      "(3, 5)\n"
     ]
    }
   ],
   "source": [
    "a = np.zeros((3, 5))\n",
    "print(a.shape)"
   ],
   "metadata": {
    "collapsed": false,
    "ExecuteTime": {
     "end_time": "2024-04-20T13:05:19.986967600Z",
     "start_time": "2024-04-20T13:05:19.974385100Z"
    }
   },
   "id": "88b109e3e1a74a85",
   "execution_count": 41
  },
  {
   "cell_type": "markdown",
   "source": [
    "Task:\n",
    "Find a way to concatenate these two arrays along the rows (so below each other). "
   ],
   "metadata": {
    "collapsed": false
   },
   "id": "733efa49c5367dde"
  },
  {
   "cell_type": "code",
   "outputs": [],
   "source": [
    "a = np.linspace(0, 10, 6)\n",
    "b = np.linspace(10, 0, 6)"
   ],
   "metadata": {
    "collapsed": false,
    "ExecuteTime": {
     "end_time": "2024-04-20T13:05:19.987953500Z",
     "start_time": "2024-04-20T13:05:19.980132400Z"
    }
   },
   "id": "60053dc625605ff7",
   "execution_count": 42
  }
 ],
 "metadata": {
  "kernelspec": {
   "display_name": "Python 3",
   "language": "python",
   "name": "python3"
  },
  "language_info": {
   "codemirror_mode": {
    "name": "ipython",
    "version": 2
   },
   "file_extension": ".py",
   "mimetype": "text/x-python",
   "name": "python",
   "nbconvert_exporter": "python",
   "pygments_lexer": "ipython2",
   "version": "2.7.6"
  }
 },
 "nbformat": 4,
 "nbformat_minor": 5
}
